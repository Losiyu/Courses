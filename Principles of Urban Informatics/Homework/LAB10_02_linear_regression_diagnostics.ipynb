{
 "cells": [
  {
   "cell_type": "code",
   "execution_count": 1,
   "metadata": {
    "nbpresent": {
     "id": "7b1edb37-5628-4e65-9416-6b818990dfba"
    }
   },
   "outputs": [
    {
     "name": "stdout",
     "output_type": "stream",
     "text": [
      "Populating the interactive namespace from numpy and matplotlib\n"
     ]
    }
   ],
   "source": [
    "import numpy as np   # basic numeric module in python, for array and matrix computation\n",
    "import pandas as pd  # advanced numeric module, excels in data frame analysis\n",
    "import matplotlib.pyplot as plt  # for data visualization\n",
    "%pylab inline\n",
    "import statsmodels.formula.api as smf    # for OLS regression\n",
    "import warnings\n",
    "warnings.filterwarnings('ignore')"
   ]
  },
  {
   "cell_type": "markdown",
   "metadata": {
    "nbpresent": {
     "id": "d08efdb5-28cf-47d7-8ca4-3aa34652eed3"
    }
   },
   "source": [
    "## Example. Income vs Education in NYC zip code areas\n",
    "\n",
    "Model population's cumulative income against the number of individuals of different education level within the area. Higher percentage of people with higher education levels is expected to increase an average individual earning prospects\n",
    "\n",
    "### Memo:\n",
    "* **IncomePerCapita**----measured in USD\n",
    "* **rest of the columns**----population number under each category, e.g.\n",
    "    * total population over 25 years old\n",
    "    * holding a Bachelor's, Master's, Doctorate degree\n",
    "    * graduating from high school, professional school, etc.\n",
    "    * having less than high school, some incomplete college etc"
   ]
  },
  {
   "cell_type": "code",
   "execution_count": 4,
   "metadata": {},
   "outputs": [
    {
     "data": {
      "text/html": [
       "<div>\n",
       "<style scoped>\n",
       "    .dataframe tbody tr th:only-of-type {\n",
       "        vertical-align: middle;\n",
       "    }\n",
       "\n",
       "    .dataframe tbody tr th {\n",
       "        vertical-align: top;\n",
       "    }\n",
       "\n",
       "    .dataframe thead th {\n",
       "        text-align: right;\n",
       "    }\n",
       "</style>\n",
       "<table border=\"1\" class=\"dataframe\">\n",
       "  <thead>\n",
       "    <tr style=\"text-align: right;\">\n",
       "      <th></th>\n",
       "      <th>Zipcode</th>\n",
       "      <th>IncomePerCapita</th>\n",
       "      <th>PopOver25</th>\n",
       "      <th>LessThanHS</th>\n",
       "      <th>HighSchool</th>\n",
       "      <th>SomeCollege</th>\n",
       "      <th>Bachelor</th>\n",
       "      <th>Master</th>\n",
       "      <th>Doctorate</th>\n",
       "      <th>ProfSchool</th>\n",
       "    </tr>\n",
       "  </thead>\n",
       "  <tbody>\n",
       "    <tr>\n",
       "      <th>0</th>\n",
       "      <td>10001</td>\n",
       "      <td>77512.0</td>\n",
       "      <td>16328</td>\n",
       "      <td>1389</td>\n",
       "      <td>1665</td>\n",
       "      <td>2075</td>\n",
       "      <td>6061</td>\n",
       "      <td>3412</td>\n",
       "      <td>519</td>\n",
       "      <td>1207</td>\n",
       "    </tr>\n",
       "    <tr>\n",
       "      <th>1</th>\n",
       "      <td>10002</td>\n",
       "      <td>26905.0</td>\n",
       "      <td>60932</td>\n",
       "      <td>21170</td>\n",
       "      <td>12718</td>\n",
       "      <td>8532</td>\n",
       "      <td>12721</td>\n",
       "      <td>4001</td>\n",
       "      <td>641</td>\n",
       "      <td>1149</td>\n",
       "    </tr>\n",
       "    <tr>\n",
       "      <th>2</th>\n",
       "      <td>10003</td>\n",
       "      <td>79088.0</td>\n",
       "      <td>41182</td>\n",
       "      <td>1499</td>\n",
       "      <td>2810</td>\n",
       "      <td>4516</td>\n",
       "      <td>17958</td>\n",
       "      <td>9094</td>\n",
       "      <td>1626</td>\n",
       "      <td>3679</td>\n",
       "    </tr>\n",
       "    <tr>\n",
       "      <th>3</th>\n",
       "      <td>10004</td>\n",
       "      <td>98020.0</td>\n",
       "      <td>2279</td>\n",
       "      <td>29</td>\n",
       "      <td>87</td>\n",
       "      <td>305</td>\n",
       "      <td>984</td>\n",
       "      <td>550</td>\n",
       "      <td>86</td>\n",
       "      <td>238</td>\n",
       "    </tr>\n",
       "    <tr>\n",
       "      <th>4</th>\n",
       "      <td>10005</td>\n",
       "      <td>99633.0</td>\n",
       "      <td>5954</td>\n",
       "      <td>133</td>\n",
       "      <td>103</td>\n",
       "      <td>454</td>\n",
       "      <td>2745</td>\n",
       "      <td>1637</td>\n",
       "      <td>219</td>\n",
       "      <td>663</td>\n",
       "    </tr>\n",
       "  </tbody>\n",
       "</table>\n",
       "</div>"
      ],
      "text/plain": [
       "   Zipcode  IncomePerCapita  PopOver25  LessThanHS  HighSchool  SomeCollege  \\\n",
       "0    10001          77512.0      16328        1389        1665         2075   \n",
       "1    10002          26905.0      60932       21170       12718         8532   \n",
       "2    10003          79088.0      41182        1499        2810         4516   \n",
       "3    10004          98020.0       2279          29          87          305   \n",
       "4    10005          99633.0       5954         133         103          454   \n",
       "\n",
       "   Bachelor  Master  Doctorate  ProfSchool  \n",
       "0      6061    3412        519        1207  \n",
       "1     12721    4001        641        1149  \n",
       "2     17958    9094       1626        3679  \n",
       "3       984     550         86         238  \n",
       "4      2745    1637        219         663  "
      ]
     },
     "execution_count": 4,
     "metadata": {},
     "output_type": "execute_result"
    }
   ],
   "source": [
    "data = pd.read_csv('Data/IncomeEduReg.csv')\n",
    "data.head()"
   ]
  },
  {
   "cell_type": "markdown",
   "metadata": {
    "nbpresent": {
     "id": "15e02d22-78d7-4b6e-a382-0f6938e9aa6a"
    }
   },
   "source": [
    "We will be looking to model the total income of the zip code as\n",
    "$$\n",
    "TotalIncome=\\sum_i w_i Population_i\n",
    "$$\n",
    "where $Population_i$ is the number of people with certain education and the weight coefficient $w_i$ could be interpreted as the average income per capita within this population group. No intercept as we do not expect zero population to have nonzero income"
   ]
  },
  {
   "cell_type": "code",
   "execution_count": 5,
   "metadata": {},
   "outputs": [],
   "source": [
    "data.dropna(inplace = True)  #drop rows with NANs"
   ]
  },
  {
   "cell_type": "code",
   "execution_count": 6,
   "metadata": {},
   "outputs": [],
   "source": [
    "data['Income'] = data['IncomePerCapita'] * data['PopOver25'] #calculate total income of the population over 25"
   ]
  },
  {
   "cell_type": "code",
   "execution_count": 7,
   "metadata": {},
   "outputs": [
    {
     "name": "stdout",
     "output_type": "stream",
     "text": [
      "                                 OLS Regression Results                                \n",
      "=======================================================================================\n",
      "Dep. Variable:                 Income   R-squared (uncentered):                   0.658\n",
      "Model:                            OLS   Adj. R-squared (uncentered):              0.657\n",
      "Method:                 Least Squares   F-statistic:                              347.0\n",
      "Date:                Sun, 26 Dec 2021   Prob (F-statistic):                    7.54e-44\n",
      "Time:                        08:57:10   Log-Likelihood:                         -3976.7\n",
      "No. Observations:                 181   AIC:                                      7955.\n",
      "Df Residuals:                     180   BIC:                                      7959.\n",
      "Df Model:                           1                                                  \n",
      "Covariance Type:            nonrobust                                                  \n",
      "==============================================================================\n",
      "                 coef    std err          t      P>|t|      [0.025      0.975]\n",
      "------------------------------------------------------------------------------\n",
      "PopOver25   3.217e+04   1726.829     18.627      0.000    2.88e+04    3.56e+04\n",
      "==============================================================================\n",
      "Omnibus:                       89.966   Durbin-Watson:                   0.835\n",
      "Prob(Omnibus):                  0.000   Jarque-Bera (JB):              297.952\n",
      "Skew:                           2.091   Prob(JB):                     2.00e-65\n",
      "Kurtosis:                       7.692   Cond. No.                         1.00\n",
      "==============================================================================\n",
      "\n",
      "Notes:\n",
      "[1] R² is computed without centering (uncentered) since the model does not contain a constant.\n",
      "[2] Standard Errors assume that the covariance matrix of the errors is correctly specified.\n"
     ]
    }
   ],
   "source": [
    "#first run a regression again total topulation to define the overall average income per capita\n",
    "lm2 = smf.ols(formula = 'Income ~ PopOver25-1', data = data).fit()\n",
    "print(lm2.summary())"
   ]
  },
  {
   "cell_type": "markdown",
   "metadata": {},
   "source": [
    "And now run the regression for all the education categories"
   ]
  },
  {
   "cell_type": "code",
   "execution_count": 8,
   "metadata": {},
   "outputs": [
    {
     "data": {
      "text/plain": [
       "'LessThanHS + HighSchool + SomeCollege + Bachelor + Master + Doctorate + ProfSchool'"
      ]
     },
     "execution_count": 8,
     "metadata": {},
     "output_type": "execute_result"
    }
   ],
   "source": [
    "#use this operator to generate the regression formulae\n",
    "' + '.join(data.columns[3:10])"
   ]
  },
  {
   "cell_type": "code",
   "execution_count": 9,
   "metadata": {},
   "outputs": [
    {
     "name": "stdout",
     "output_type": "stream",
     "text": [
      "                                 OLS Regression Results                                \n",
      "=======================================================================================\n",
      "Dep. Variable:                 Income   R-squared (uncentered):                   0.971\n",
      "Model:                            OLS   Adj. R-squared (uncentered):              0.970\n",
      "Method:                 Least Squares   F-statistic:                              840.7\n",
      "Date:                Sun, 26 Dec 2021   Prob (F-statistic):                   1.50e-130\n",
      "Time:                        08:57:13   Log-Likelihood:                         -3752.6\n",
      "No. Observations:                 181   AIC:                                      7519.\n",
      "Df Residuals:                     174   BIC:                                      7542.\n",
      "Df Model:                           7                                                  \n",
      "Covariance Type:            nonrobust                                                  \n",
      "===============================================================================\n",
      "                  coef    std err          t      P>|t|      [0.025      0.975]\n",
      "-------------------------------------------------------------------------------\n",
      "LessThanHS  -9811.5391   5433.915     -1.806      0.073   -2.05e+04     913.333\n",
      "HighSchool   1.893e+04   1.04e+04      1.826      0.070   -1531.122    3.94e+04\n",
      "SomeCollege  1.817e+04   1.33e+04      1.366      0.174   -8074.639    4.44e+04\n",
      "Bachelor     5.277e+04   1.35e+04      3.916      0.000    2.62e+04    7.94e+04\n",
      "Master      -3.699e+04   3.31e+04     -1.119      0.265   -1.02e+05    2.83e+04\n",
      "Doctorate   -3.932e+04   9.14e+04     -0.430      0.667    -2.2e+05    1.41e+05\n",
      "ProfSchool   6.852e+05   4.71e+04     14.536      0.000    5.92e+05    7.78e+05\n",
      "==============================================================================\n",
      "Omnibus:                       41.205   Durbin-Watson:                   1.847\n",
      "Prob(Omnibus):                  0.000   Jarque-Bera (JB):              303.199\n",
      "Skew:                           0.543   Prob(JB):                     1.45e-66\n",
      "Kurtosis:                       9.247   Cond. No.                         82.7\n",
      "==============================================================================\n",
      "\n",
      "Notes:\n",
      "[1] R² is computed without centering (uncentered) since the model does not contain a constant.\n",
      "[2] Standard Errors assume that the covariance matrix of the errors is correctly specified.\n"
     ]
    }
   ],
   "source": [
    "lm2 = smf.ols(formula = 'Income ~ ' + ' + '.join(data.columns[3:10])+'-1', data = data).fit()\n",
    "print(lm2.summary())"
   ]
  },
  {
   "cell_type": "markdown",
   "metadata": {},
   "source": [
    "Only two regressors seem significant according to p-value. Also the confidence intervals are pretty broad not allowing to reliably assess the income per capita for each category of residents. This is likely because of the strong internal correlations between the regressors, especially among Bachelor,Master,Doctor and Prof.School"
   ]
  },
  {
   "cell_type": "code",
   "execution_count": 10,
   "metadata": {},
   "outputs": [
    {
     "data": {
      "text/html": [
       "<div>\n",
       "<style scoped>\n",
       "    .dataframe tbody tr th:only-of-type {\n",
       "        vertical-align: middle;\n",
       "    }\n",
       "\n",
       "    .dataframe tbody tr th {\n",
       "        vertical-align: top;\n",
       "    }\n",
       "\n",
       "    .dataframe thead th {\n",
       "        text-align: right;\n",
       "    }\n",
       "</style>\n",
       "<table border=\"1\" class=\"dataframe\">\n",
       "  <thead>\n",
       "    <tr style=\"text-align: right;\">\n",
       "      <th></th>\n",
       "      <th>Zipcode</th>\n",
       "      <th>IncomePerCapita</th>\n",
       "      <th>PopOver25</th>\n",
       "      <th>LessThanHS</th>\n",
       "      <th>HighSchool</th>\n",
       "      <th>SomeCollege</th>\n",
       "      <th>Bachelor</th>\n",
       "      <th>Master</th>\n",
       "      <th>Doctorate</th>\n",
       "      <th>ProfSchool</th>\n",
       "      <th>Income</th>\n",
       "    </tr>\n",
       "  </thead>\n",
       "  <tbody>\n",
       "    <tr>\n",
       "      <th>Zipcode</th>\n",
       "      <td>1.000000</td>\n",
       "      <td>-0.490675</td>\n",
       "      <td>0.089223</td>\n",
       "      <td>0.138386</td>\n",
       "      <td>0.298570</td>\n",
       "      <td>0.233799</td>\n",
       "      <td>-0.136994</td>\n",
       "      <td>-0.224106</td>\n",
       "      <td>-0.361479</td>\n",
       "      <td>-0.340607</td>\n",
       "      <td>-0.326244</td>\n",
       "    </tr>\n",
       "    <tr>\n",
       "      <th>IncomePerCapita</th>\n",
       "      <td>-0.490675</td>\n",
       "      <td>1.000000</td>\n",
       "      <td>-0.286507</td>\n",
       "      <td>-0.530034</td>\n",
       "      <td>-0.559255</td>\n",
       "      <td>-0.500068</td>\n",
       "      <td>0.262061</td>\n",
       "      <td>0.385013</td>\n",
       "      <td>0.447516</td>\n",
       "      <td>0.571962</td>\n",
       "      <td>0.542535</td>\n",
       "    </tr>\n",
       "    <tr>\n",
       "      <th>PopOver25</th>\n",
       "      <td>0.089223</td>\n",
       "      <td>-0.286507</td>\n",
       "      <td>1.000000</td>\n",
       "      <td>0.747408</td>\n",
       "      <td>0.833786</td>\n",
       "      <td>0.876240</td>\n",
       "      <td>0.691929</td>\n",
       "      <td>0.516295</td>\n",
       "      <td>0.350869</td>\n",
       "      <td>0.313306</td>\n",
       "      <td>0.470183</td>\n",
       "    </tr>\n",
       "    <tr>\n",
       "      <th>LessThanHS</th>\n",
       "      <td>0.138386</td>\n",
       "      <td>-0.530034</td>\n",
       "      <td>0.747408</td>\n",
       "      <td>1.000000</td>\n",
       "      <td>0.779932</td>\n",
       "      <td>0.693017</td>\n",
       "      <td>0.146826</td>\n",
       "      <td>-0.056804</td>\n",
       "      <td>-0.116706</td>\n",
       "      <td>-0.189604</td>\n",
       "      <td>-0.061991</td>\n",
       "    </tr>\n",
       "    <tr>\n",
       "      <th>HighSchool</th>\n",
       "      <td>0.298570</td>\n",
       "      <td>-0.559255</td>\n",
       "      <td>0.833786</td>\n",
       "      <td>0.779932</td>\n",
       "      <td>1.000000</td>\n",
       "      <td>0.918826</td>\n",
       "      <td>0.244020</td>\n",
       "      <td>0.028185</td>\n",
       "      <td>-0.135187</td>\n",
       "      <td>-0.187038</td>\n",
       "      <td>0.005785</td>\n",
       "    </tr>\n",
       "    <tr>\n",
       "      <th>SomeCollege</th>\n",
       "      <td>0.233799</td>\n",
       "      <td>-0.500068</td>\n",
       "      <td>0.876240</td>\n",
       "      <td>0.693017</td>\n",
       "      <td>0.918826</td>\n",
       "      <td>1.000000</td>\n",
       "      <td>0.389975</td>\n",
       "      <td>0.200074</td>\n",
       "      <td>0.014369</td>\n",
       "      <td>-0.042483</td>\n",
       "      <td>0.146218</td>\n",
       "    </tr>\n",
       "    <tr>\n",
       "      <th>Bachelor</th>\n",
       "      <td>-0.136994</td>\n",
       "      <td>0.262061</td>\n",
       "      <td>0.691929</td>\n",
       "      <td>0.146826</td>\n",
       "      <td>0.244020</td>\n",
       "      <td>0.389975</td>\n",
       "      <td>1.000000</td>\n",
       "      <td>0.919023</td>\n",
       "      <td>0.769090</td>\n",
       "      <td>0.810396</td>\n",
       "      <td>0.873868</td>\n",
       "    </tr>\n",
       "    <tr>\n",
       "      <th>Master</th>\n",
       "      <td>-0.224106</td>\n",
       "      <td>0.385013</td>\n",
       "      <td>0.516295</td>\n",
       "      <td>-0.056804</td>\n",
       "      <td>0.028185</td>\n",
       "      <td>0.200074</td>\n",
       "      <td>0.919023</td>\n",
       "      <td>1.000000</td>\n",
       "      <td>0.904758</td>\n",
       "      <td>0.913308</td>\n",
       "      <td>0.912174</td>\n",
       "    </tr>\n",
       "    <tr>\n",
       "      <th>Doctorate</th>\n",
       "      <td>-0.361479</td>\n",
       "      <td>0.447516</td>\n",
       "      <td>0.350869</td>\n",
       "      <td>-0.116706</td>\n",
       "      <td>-0.135187</td>\n",
       "      <td>0.014369</td>\n",
       "      <td>0.769090</td>\n",
       "      <td>0.904758</td>\n",
       "      <td>1.000000</td>\n",
       "      <td>0.889662</td>\n",
       "      <td>0.839830</td>\n",
       "    </tr>\n",
       "    <tr>\n",
       "      <th>ProfSchool</th>\n",
       "      <td>-0.340607</td>\n",
       "      <td>0.571962</td>\n",
       "      <td>0.313306</td>\n",
       "      <td>-0.189604</td>\n",
       "      <td>-0.187038</td>\n",
       "      <td>-0.042483</td>\n",
       "      <td>0.810396</td>\n",
       "      <td>0.913308</td>\n",
       "      <td>0.889662</td>\n",
       "      <td>1.000000</td>\n",
       "      <td>0.943770</td>\n",
       "    </tr>\n",
       "    <tr>\n",
       "      <th>Income</th>\n",
       "      <td>-0.326244</td>\n",
       "      <td>0.542535</td>\n",
       "      <td>0.470183</td>\n",
       "      <td>-0.061991</td>\n",
       "      <td>0.005785</td>\n",
       "      <td>0.146218</td>\n",
       "      <td>0.873868</td>\n",
       "      <td>0.912174</td>\n",
       "      <td>0.839830</td>\n",
       "      <td>0.943770</td>\n",
       "      <td>1.000000</td>\n",
       "    </tr>\n",
       "  </tbody>\n",
       "</table>\n",
       "</div>"
      ],
      "text/plain": [
       "                  Zipcode  IncomePerCapita  PopOver25  LessThanHS  HighSchool  \\\n",
       "Zipcode          1.000000        -0.490675   0.089223    0.138386    0.298570   \n",
       "IncomePerCapita -0.490675         1.000000  -0.286507   -0.530034   -0.559255   \n",
       "PopOver25        0.089223        -0.286507   1.000000    0.747408    0.833786   \n",
       "LessThanHS       0.138386        -0.530034   0.747408    1.000000    0.779932   \n",
       "HighSchool       0.298570        -0.559255   0.833786    0.779932    1.000000   \n",
       "SomeCollege      0.233799        -0.500068   0.876240    0.693017    0.918826   \n",
       "Bachelor        -0.136994         0.262061   0.691929    0.146826    0.244020   \n",
       "Master          -0.224106         0.385013   0.516295   -0.056804    0.028185   \n",
       "Doctorate       -0.361479         0.447516   0.350869   -0.116706   -0.135187   \n",
       "ProfSchool      -0.340607         0.571962   0.313306   -0.189604   -0.187038   \n",
       "Income          -0.326244         0.542535   0.470183   -0.061991    0.005785   \n",
       "\n",
       "                 SomeCollege  Bachelor    Master  Doctorate  ProfSchool  \\\n",
       "Zipcode             0.233799 -0.136994 -0.224106  -0.361479   -0.340607   \n",
       "IncomePerCapita    -0.500068  0.262061  0.385013   0.447516    0.571962   \n",
       "PopOver25           0.876240  0.691929  0.516295   0.350869    0.313306   \n",
       "LessThanHS          0.693017  0.146826 -0.056804  -0.116706   -0.189604   \n",
       "HighSchool          0.918826  0.244020  0.028185  -0.135187   -0.187038   \n",
       "SomeCollege         1.000000  0.389975  0.200074   0.014369   -0.042483   \n",
       "Bachelor            0.389975  1.000000  0.919023   0.769090    0.810396   \n",
       "Master              0.200074  0.919023  1.000000   0.904758    0.913308   \n",
       "Doctorate           0.014369  0.769090  0.904758   1.000000    0.889662   \n",
       "ProfSchool         -0.042483  0.810396  0.913308   0.889662    1.000000   \n",
       "Income              0.146218  0.873868  0.912174   0.839830    0.943770   \n",
       "\n",
       "                   Income  \n",
       "Zipcode         -0.326244  \n",
       "IncomePerCapita  0.542535  \n",
       "PopOver25        0.470183  \n",
       "LessThanHS      -0.061991  \n",
       "HighSchool       0.005785  \n",
       "SomeCollege      0.146218  \n",
       "Bachelor         0.873868  \n",
       "Master           0.912174  \n",
       "Doctorate        0.839830  \n",
       "ProfSchool       0.943770  \n",
       "Income           1.000000  "
      ]
     },
     "execution_count": 10,
     "metadata": {},
     "output_type": "execute_result"
    }
   ],
   "source": [
    "data.corr()"
   ]
  },
  {
   "cell_type": "markdown",
   "metadata": {},
   "source": [
    "## Homework"
   ]
  },
  {
   "cell_type": "markdown",
   "metadata": {},
   "source": [
    "Q1. Implement a linear regression of the total income vs population counts with Bachelor, \"Advanced\" (Advanced = Master + Doctorate + ProfSchool) and \"Other\" education incorporating all less than Bachelor (some college, high school, less than high school). \n",
    "\n",
    "Are all of those regressors statistically signifiant with respect to p-value<5\\% criteria? Which of the groups has the highest income per capita according to the slope coefficients with respect to their confidence intervals?"
   ]
  },
  {
   "cell_type": "code",
   "execution_count": 11,
   "metadata": {},
   "outputs": [
    {
     "data": {
      "text/html": [
       "<div>\n",
       "<style scoped>\n",
       "    .dataframe tbody tr th:only-of-type {\n",
       "        vertical-align: middle;\n",
       "    }\n",
       "\n",
       "    .dataframe tbody tr th {\n",
       "        vertical-align: top;\n",
       "    }\n",
       "\n",
       "    .dataframe thead th {\n",
       "        text-align: right;\n",
       "    }\n",
       "</style>\n",
       "<table border=\"1\" class=\"dataframe\">\n",
       "  <thead>\n",
       "    <tr style=\"text-align: right;\">\n",
       "      <th></th>\n",
       "      <th>Zipcode</th>\n",
       "      <th>IncomePerCapita</th>\n",
       "      <th>PopOver25</th>\n",
       "      <th>LessThanHS</th>\n",
       "      <th>HighSchool</th>\n",
       "      <th>SomeCollege</th>\n",
       "      <th>Bachelor</th>\n",
       "      <th>Master</th>\n",
       "      <th>Doctorate</th>\n",
       "      <th>ProfSchool</th>\n",
       "      <th>Income</th>\n",
       "      <th>Advanced</th>\n",
       "      <th>Other</th>\n",
       "    </tr>\n",
       "  </thead>\n",
       "  <tbody>\n",
       "    <tr>\n",
       "      <th>0</th>\n",
       "      <td>10001</td>\n",
       "      <td>77512.0</td>\n",
       "      <td>16328</td>\n",
       "      <td>1389</td>\n",
       "      <td>1665</td>\n",
       "      <td>2075</td>\n",
       "      <td>6061</td>\n",
       "      <td>3412</td>\n",
       "      <td>519</td>\n",
       "      <td>1207</td>\n",
       "      <td>1.265616e+09</td>\n",
       "      <td>5138</td>\n",
       "      <td>5129</td>\n",
       "    </tr>\n",
       "    <tr>\n",
       "      <th>1</th>\n",
       "      <td>10002</td>\n",
       "      <td>26905.0</td>\n",
       "      <td>60932</td>\n",
       "      <td>21170</td>\n",
       "      <td>12718</td>\n",
       "      <td>8532</td>\n",
       "      <td>12721</td>\n",
       "      <td>4001</td>\n",
       "      <td>641</td>\n",
       "      <td>1149</td>\n",
       "      <td>1.639375e+09</td>\n",
       "      <td>5791</td>\n",
       "      <td>42420</td>\n",
       "    </tr>\n",
       "    <tr>\n",
       "      <th>2</th>\n",
       "      <td>10003</td>\n",
       "      <td>79088.0</td>\n",
       "      <td>41182</td>\n",
       "      <td>1499</td>\n",
       "      <td>2810</td>\n",
       "      <td>4516</td>\n",
       "      <td>17958</td>\n",
       "      <td>9094</td>\n",
       "      <td>1626</td>\n",
       "      <td>3679</td>\n",
       "      <td>3.257002e+09</td>\n",
       "      <td>14399</td>\n",
       "      <td>8825</td>\n",
       "    </tr>\n",
       "    <tr>\n",
       "      <th>3</th>\n",
       "      <td>10004</td>\n",
       "      <td>98020.0</td>\n",
       "      <td>2279</td>\n",
       "      <td>29</td>\n",
       "      <td>87</td>\n",
       "      <td>305</td>\n",
       "      <td>984</td>\n",
       "      <td>550</td>\n",
       "      <td>86</td>\n",
       "      <td>238</td>\n",
       "      <td>2.233876e+08</td>\n",
       "      <td>874</td>\n",
       "      <td>421</td>\n",
       "    </tr>\n",
       "    <tr>\n",
       "      <th>4</th>\n",
       "      <td>10005</td>\n",
       "      <td>99633.0</td>\n",
       "      <td>5954</td>\n",
       "      <td>133</td>\n",
       "      <td>103</td>\n",
       "      <td>454</td>\n",
       "      <td>2745</td>\n",
       "      <td>1637</td>\n",
       "      <td>219</td>\n",
       "      <td>663</td>\n",
       "      <td>5.932149e+08</td>\n",
       "      <td>2519</td>\n",
       "      <td>690</td>\n",
       "    </tr>\n",
       "  </tbody>\n",
       "</table>\n",
       "</div>"
      ],
      "text/plain": [
       "   Zipcode  IncomePerCapita  PopOver25  LessThanHS  HighSchool  SomeCollege  \\\n",
       "0    10001          77512.0      16328        1389        1665         2075   \n",
       "1    10002          26905.0      60932       21170       12718         8532   \n",
       "2    10003          79088.0      41182        1499        2810         4516   \n",
       "3    10004          98020.0       2279          29          87          305   \n",
       "4    10005          99633.0       5954         133         103          454   \n",
       "\n",
       "   Bachelor  Master  Doctorate  ProfSchool        Income  Advanced  Other  \n",
       "0      6061    3412        519        1207  1.265616e+09      5138   5129  \n",
       "1     12721    4001        641        1149  1.639375e+09      5791  42420  \n",
       "2     17958    9094       1626        3679  3.257002e+09     14399   8825  \n",
       "3       984     550         86         238  2.233876e+08       874    421  \n",
       "4      2745    1637        219         663  5.932149e+08      2519    690  "
      ]
     },
     "execution_count": 11,
     "metadata": {},
     "output_type": "execute_result"
    }
   ],
   "source": [
    "data['Advanced']=data['Master'] + data['Doctorate'] + data['ProfSchool']\n",
    "data['Other'] = data['LessThanHS']+data['HighSchool']+data['SomeCollege']\n",
    "data.head()"
   ]
  },
  {
   "cell_type": "code",
   "execution_count": 12,
   "metadata": {},
   "outputs": [
    {
     "data": {
      "text/html": [
       "<table class=\"simpletable\">\n",
       "<caption>OLS Regression Results</caption>\n",
       "<tr>\n",
       "  <th>Dep. Variable:</th>         <td>Income</td>      <th>  R-squared (uncentered):</th>      <td>   0.949</td> \n",
       "</tr>\n",
       "<tr>\n",
       "  <th>Model:</th>                   <td>OLS</td>       <th>  Adj. R-squared (uncentered):</th> <td>   0.948</td> \n",
       "</tr>\n",
       "<tr>\n",
       "  <th>Method:</th>             <td>Least Squares</td>  <th>  F-statistic:       </th>          <td>   1106.</td> \n",
       "</tr>\n",
       "<tr>\n",
       "  <th>Date:</th>             <td>Sun, 26 Dec 2021</td> <th>  Prob (F-statistic):</th>          <td>8.50e-115</td>\n",
       "</tr>\n",
       "<tr>\n",
       "  <th>Time:</th>                 <td>08:57:14</td>     <th>  Log-Likelihood:    </th>          <td> -3804.4</td> \n",
       "</tr>\n",
       "<tr>\n",
       "  <th>No. Observations:</th>      <td>   181</td>      <th>  AIC:               </th>          <td>   7615.</td> \n",
       "</tr>\n",
       "<tr>\n",
       "  <th>Df Residuals:</th>          <td>   178</td>      <th>  BIC:               </th>          <td>   7624.</td> \n",
       "</tr>\n",
       "<tr>\n",
       "  <th>Df Model:</th>              <td>     3</td>      <th>                     </th>              <td> </td>    \n",
       "</tr>\n",
       "<tr>\n",
       "  <th>Covariance Type:</th>      <td>nonrobust</td>    <th>                     </th>              <td> </td>    \n",
       "</tr>\n",
       "</table>\n",
       "<table class=\"simpletable\">\n",
       "<tr>\n",
       "      <td></td>        <th>coef</th>     <th>std err</th>      <th>t</th>      <th>P>|t|</th>  <th>[0.025</th>    <th>0.975]</th>  \n",
       "</tr>\n",
       "<tr>\n",
       "  <th>Bachelor</th> <td> 4.858e+04</td> <td> 1.58e+04</td> <td>    3.072</td> <td> 0.002</td> <td> 1.74e+04</td> <td> 7.98e+04</td>\n",
       "</tr>\n",
       "<tr>\n",
       "  <th>Advanced</th> <td> 1.618e+05</td> <td> 1.57e+04</td> <td>   10.296</td> <td> 0.000</td> <td> 1.31e+05</td> <td> 1.93e+05</td>\n",
       "</tr>\n",
       "<tr>\n",
       "  <th>Other</th>    <td>  615.7292</td> <td> 2023.028</td> <td>    0.304</td> <td> 0.761</td> <td>-3376.475</td> <td> 4607.933</td>\n",
       "</tr>\n",
       "</table>\n",
       "<table class=\"simpletable\">\n",
       "<tr>\n",
       "  <th>Omnibus:</th>       <td>30.137</td> <th>  Durbin-Watson:     </th> <td>   1.543</td>\n",
       "</tr>\n",
       "<tr>\n",
       "  <th>Prob(Omnibus):</th> <td> 0.000</td> <th>  Jarque-Bera (JB):  </th> <td> 175.681</td>\n",
       "</tr>\n",
       "<tr>\n",
       "  <th>Skew:</th>          <td> 0.330</td> <th>  Prob(JB):          </th> <td>7.10e-39</td>\n",
       "</tr>\n",
       "<tr>\n",
       "  <th>Kurtosis:</th>      <td> 7.781</td> <th>  Cond. No.          </th> <td>    23.7</td>\n",
       "</tr>\n",
       "</table><br/><br/>Notes:<br/>[1] R² is computed without centering (uncentered) since the model does not contain a constant.<br/>[2] Standard Errors assume that the covariance matrix of the errors is correctly specified."
      ],
      "text/plain": [
       "<class 'statsmodels.iolib.summary.Summary'>\n",
       "\"\"\"\n",
       "                                 OLS Regression Results                                \n",
       "=======================================================================================\n",
       "Dep. Variable:                 Income   R-squared (uncentered):                   0.949\n",
       "Model:                            OLS   Adj. R-squared (uncentered):              0.948\n",
       "Method:                 Least Squares   F-statistic:                              1106.\n",
       "Date:                Sun, 26 Dec 2021   Prob (F-statistic):                   8.50e-115\n",
       "Time:                        08:57:14   Log-Likelihood:                         -3804.4\n",
       "No. Observations:                 181   AIC:                                      7615.\n",
       "Df Residuals:                     178   BIC:                                      7624.\n",
       "Df Model:                           3                                                  \n",
       "Covariance Type:            nonrobust                                                  \n",
       "==============================================================================\n",
       "                 coef    std err          t      P>|t|      [0.025      0.975]\n",
       "------------------------------------------------------------------------------\n",
       "Bachelor    4.858e+04   1.58e+04      3.072      0.002    1.74e+04    7.98e+04\n",
       "Advanced    1.618e+05   1.57e+04     10.296      0.000    1.31e+05    1.93e+05\n",
       "Other        615.7292   2023.028      0.304      0.761   -3376.475    4607.933\n",
       "==============================================================================\n",
       "Omnibus:                       30.137   Durbin-Watson:                   1.543\n",
       "Prob(Omnibus):                  0.000   Jarque-Bera (JB):              175.681\n",
       "Skew:                           0.330   Prob(JB):                     7.10e-39\n",
       "Kurtosis:                       7.781   Cond. No.                         23.7\n",
       "==============================================================================\n",
       "\n",
       "Notes:\n",
       "[1] R² is computed without centering (uncentered) since the model does not contain a constant.\n",
       "[2] Standard Errors assume that the covariance matrix of the errors is correctly specified.\n",
       "\"\"\""
      ]
     },
     "execution_count": 12,
     "metadata": {},
     "output_type": "execute_result"
    }
   ],
   "source": [
    "lm = smf.ols(formula = 'Income~Bachelor+Advanced+Other-1', data = data).fit()\n",
    "lm.summary()"
   ]
  },
  {
   "cell_type": "markdown",
   "metadata": {},
   "source": [
    "<span style='font-size:18pt;color:red'>'Bachelor' and 'Advanced' are rejected to the hypothesis, but not include 'Other'</span>"
   ]
  },
  {
   "cell_type": "markdown",
   "metadata": {},
   "source": [
    "Q2. Visualize the regression fit by plotting the observation versus our prediction for the income per zip code as a scatter plot"
   ]
  },
  {
   "cell_type": "code",
   "execution_count": 13,
   "metadata": {},
   "outputs": [],
   "source": [
    "data['predict'] = lm.predict(data[['Bachelor','Advanced', 'Other']])"
   ]
  },
  {
   "cell_type": "code",
   "execution_count": 14,
   "metadata": {},
   "outputs": [
    {
     "data": {
      "image/png": "[encoded data removed]",
      "text/plain": [
       "<Figure size 576x432 with 1 Axes>"
      ]
     },
     "metadata": {
      "needs_background": "light"
     },
     "output_type": "display_data"
    },
    {
     "data": {
      "image/png": "[encoded data removed]",
      "text/plain": [
       "<Figure size 576x432 with 1 Axes>"
      ]
     },
     "metadata": {
      "needs_background": "light"
     },
     "output_type": "display_data"
    },
    {
     "data": {
      "image/png": "[encoded data removed]",
      "text/plain": [
       "<Figure size 576x432 with 1 Axes>"
      ]
     },
     "metadata": {
      "needs_background": "light"
     },
     "output_type": "display_data"
    }
   ],
   "source": [
    "for i in ['Bachelor', 'Advanced', 'Other']:\n",
    "    t = data.sort_values(i)\n",
    "    plt.figure(figsize=(8,6))\n",
    "    plt.plot(t[i], t['Income'], 'o')\n",
    "    plt.title(i + ' vs Income', fontsize = 10)\n",
    "    plt.xlabel(i)\n",
    "    plt.ylabel('Income')\n",
    "    plt.plot(t[i], t['predict'], 'X')"
   ]
  },
  {
   "cell_type": "code",
   "execution_count": null,
   "metadata": {},
   "outputs": [],
   "source": []
  },
  {
   "cell_type": "code",
   "execution_count": null,
   "metadata": {},
   "outputs": [],
   "source": []
  }
 ],
 "metadata": {
  "anaconda-cloud": {},
  "interpreter": {
   "hash": "ecf5722fdaf1897a315d257d89d94520bfcaa453217d5becf09b39e73618b0de"
  },
  "kernelspec": {
   "display_name": "Python [conda env:PUI]",
   "language": "python",
   "name": "python3"
  },
  "language_info": {
   "codemirror_mode": {
    "name": "ipython",
    "version": 3
   },
   "file_extension": ".py",
   "mimetype": "text/x-python",
   "name": "python",
   "nbconvert_exporter": "python",
   "pygments_lexer": "ipython3",
   "version": "3.9.5"
  }
 },
 "nbformat": 4,
 "nbformat_minor": 1
}
