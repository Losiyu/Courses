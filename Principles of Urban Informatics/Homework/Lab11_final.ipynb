{
 "cells": [
  {
   "cell_type": "markdown",
   "metadata": {},
   "source": [
    "# PUI final exam 2021"
   ]
  },
  {
   "cell_type": "markdown",
   "metadata": {},
   "source": [
    "## Theoretic part"
   ]
  },
  {
   "cell_type": "markdown",
   "metadata": {},
   "source": [
    "## Question 1. \n",
    "Imagine training a model that considers multiple street segments and aims to predict the traffic based on the known characteristics of the street segments. Some of the street segments from the training sample have the observed amount of traffic specified for them, others do not. How would you classify this problem from the Machine Learning perspective?\n",
    "\n",
    "A. Supervised learning;\n",
    "\n",
    "B. Unsupervised learning;\n",
    "\n",
    "C. Semi-supervised learning;\n",
    "\n",
    "D. Reinforcement learning.\n",
    "\n",
    "Explain your choice:"
   ]
  },
  {
   "cell_type": "markdown",
   "metadata": {},
   "source": [
    "### C - Semi-supervised is a predictive model and based on labeled and unlabeled data  "
   ]
  },
  {
   "cell_type": "markdown",
   "metadata": {},
   "source": [
    "## Question 2. \n",
    "Regression $y\\sim a_1 x_1 + a_2 x_2 +a_3 x_3$ have p-value of $0.03$ for $x_1$, $0.3$ for $x_2$ and $0.15$ for $x_3$. Does it mean that (select all that apply):\n",
    "\n",
    "A. Impact of $x_3$ is twice stronger than impact of $x_2$.\n",
    "\n",
    "B. Regressors $x_2$ and $x_3$ are irrelevant.\n",
    "\n",
    "C. One could reject the null-hypothesis $a_j=0$ only for $j=1$ but not for $j=2$ and $j=3$ at 95% singificance level.\n",
    "\n",
    "D. The estimated value of $a_1$ is statistically significant.\n",
    "\n",
    "E. 95%-confidence indervals for $a_2$ and $a_3$ should contain zero. "
   ]
  },
  {
   "cell_type": "markdown",
   "metadata": {},
   "source": [
    "### CDE"
   ]
  },
  {
   "cell_type": "markdown",
   "metadata": {},
   "source": [
    "## Question 3. \n",
    "Which of the following statements (select all that apply) are true about overfitting problem for linear regression:\n",
    "\n",
    "A. Overfitting problem could be detected by R-squared if the in-sample R-squared\n",
    "is very low.\n",
    "\n",
    "B. Overfitting problem often happens when we do not have enough features but a big\n",
    "number of observations.\n",
    "\n",
    "C. Overfitting problem could be detected by R-squared if the out-of-sample R-\n",
    "squared is very low.\n",
    "\n",
    "D. Overfitting problem could happen when we have many noisy features but a\n",
    "small number of observations.\n",
    "\n",
    "E. Overfitting problem could be detected by R-squared if the out-of-sample R-\n",
    "squared is considerably lower compared to in-sample R-squared.\n",
    "\n",
    "Explain how do you understand the concept of overfitting in general and in the context of your answer."
   ]
  },
  {
   "cell_type": "markdown",
   "metadata": {},
   "source": [
    "### DE"
   ]
  },
  {
   "cell_type": "markdown",
   "metadata": {},
   "source": [
    "## Question 4. \n",
    "You trained the regression model with 100 regressors and 1000 observations in the training and another 1000 in the test sample. You found that in-sample R2 over the training sample is 70\\% and the out-of-sample R2 over the test sample only - 30\\%. (select all that apply)\n",
    "\n",
    "a) Do you think there is any problem and how would you characterize it? Can adding more regressors (if you have them) help the model?\n",
    "\n",
    "b) Which approaches you may use to solve the problem? \n",
    "\n",
    "c) What would you expect the in-sample R2 to increase or decrease after that? What about the out-of-sample (test) R2?"
   ]
  },
  {
   "cell_type": "markdown",
   "metadata": {},
   "source": [
    "### a) The problem is how to solve overfitting,Adding more regressors will make model become more complicated, which increase the overfit. The Overfitting happnd when the model is too complicated given the scale of the data while adding more regressors would complicate it even further.\n",
    "\n",
    "### b) Overfitting could be olved by reducing the complexity of the model. Dimensionality reduction such as PCA and regularization such as Prepossessing.MinMaxScale would be work. \n",
    "\n",
    "### c) In-sample R2 is likely to decrease after reducing the complexity of the model, but Out-of-sample R2 is expected to increase. Usually, the complexity is gradually decreasing until the gap between In-sample and out-of-sample R2 vanishes."
   ]
  },
  {
   "cell_type": "markdown",
   "metadata": {},
   "source": [
    "# import packages\n",
    "import numpy as np\n",
    "import geopandas as gpd\n",
    "import matplotlib\n",
    "import matplotlib.pyplot as plt\n",
    "import matplotlib.colors as mcolors\n",
    "import pandas as pd\n",
    "import statsmodels.formula.api as smf\n",
    "from sklearn.metrics import mean_squared_error, r2_score\n",
    "import datetime as dt\n",
    "from sklearn import linear_model\n",
    "from sklearn import model_selection\n",
    "from sklearn import preprocessing\n",
    "from sklearn.metrics import silhouette_samples, silhouette_score\n",
    "from sklearn.cluster import KMeans\n",
    "from scipy import stats\n",
    "\n",
    "# suppress warning\n",
    "import warnings\n",
    "warnings.simplefilter(action='ignore', category=FutureWarning)"
   ]
  },
  {
   "cell_type": "code",
   "execution_count": 3,
   "metadata": {},
   "outputs": [],
   "source": [
    "# import packages\n",
    "import numpy as np\n",
    "import geopandas as gpd\n",
    "import matplotlib\n",
    "import matplotlib.pyplot as plt\n",
    "import matplotlib.colors as mcolors\n",
    "import pandas as pd\n",
    "import statsmodels.formula.api as smf\n",
    "from sklearn.metrics import mean_squared_error, r2_score\n",
    "import datetime as dt\n",
    "from sklearn import linear_model\n",
    "from sklearn import model_selection\n",
    "from sklearn import preprocessing\n",
    "from sklearn.metrics import silhouette_samples, silhouette_score\n",
    "from sklearn.cluster import KMeans\n",
    "from scipy import stats\n",
    "import seaborn as sns\n",
    "# suppress warning\n",
    "import warnings\n",
    "warnings.simplefilter(action='ignore', category=FutureWarning)"
   ]
  },
  {
   "cell_type": "code",
   "execution_count": 4,
   "metadata": {},
   "outputs": [],
   "source": [
    "#include the distributions\n",
    "from scipy.stats import norm #normal\n",
    "from scipy.stats import genextreme as gev #generalized extreme value\n",
    "from scipy.stats import pareto #pareto"
   ]
  },
  {
   "cell_type": "markdown",
   "metadata": {},
   "source": [
    "# Traffic Modeling for Real-Time Autonomous Vehicle Solutions in LGA\n",
    "\n",
    "Transportation network models are essential to transportation operations and planning. A simple yet well-designed linear model can provide us insights into the traffic demand. We are going to model the outgoing traffic around LGA, one of the busiest transportation hubs in NYC. \n",
    "In this test, you'll be asked to:\n",
    "* Find possible correlations from observations\n",
    "* Incorporate time patterns using dummy variables\n",
    "* Run and diagnose linear models, in-sample and out-of-sample. Perform feature selection\n",
    "* Cluster the days based on their ridership patterns to see if we can detect any outliers"
   ]
  },
  {
   "cell_type": "markdown",
   "metadata": {},
   "source": [
    "We will be importing the dataset `LGAVehicleByHour.csv`,`LGAFlightArrival` providing FHV and taxi ridership and arrivals at the airport aggregated on the hourly basis:\n",
    "* `vehicle_count`: Number of FHV (For Hire Vehicle) and taxi departing from LGA. This is our target variable.\n",
    "* `arrivals`: Number of incoming domestic flights arriving LGA, which is assumed to provide a basis for future FHV and taxi demand"
   ]
  },
  {
   "cell_type": "code",
   "execution_count": 5,
   "metadata": {},
   "outputs": [],
   "source": [
    "# import and curate the dataset\n",
    "TaxiRidership = pd.read_csv(\"Data/LGAVehicleByHour.csv\")\n",
    "FlightArrival = pd.read_csv(\"Data/LGAFlightArrival.csv\")"
   ]
  },
  {
   "cell_type": "code",
   "execution_count": 6,
   "metadata": {},
   "outputs": [],
   "source": [
    "# convert the `date` feature into `dt.datetime` format. This is for later creating dummy variables\n",
    "TaxiRidership.Date = pd.to_datetime(TaxiRidership.Date)\n",
    "FlightArrival.Date = pd.to_datetime(FlightArrival.Date, format='%y/%m/%d %H:%M')"
   ]
  },
  {
   "cell_type": "code",
   "execution_count": 7,
   "metadata": {},
   "outputs": [],
   "source": [
    "#get day of the week; monday - 0, sunday - 6\n",
    "TaxiRidership['DOW']=pd.DatetimeIndex(TaxiRidership.Date).weekday"
   ]
  },
  {
   "cell_type": "code",
   "execution_count": 8,
   "metadata": {},
   "outputs": [],
   "source": [
    "#get day from beginning of the year, hour and day of the week from datetime\n",
    "TaxiRidership['Hour']=pd.DatetimeIndex(TaxiRidership.Date).hour"
   ]
  },
  {
   "cell_type": "code",
   "execution_count": 9,
   "metadata": {},
   "outputs": [],
   "source": [
    "#get day from beginning of the year\n",
    "TaxiRidership['day']=((TaxiRidership.Date-dt.datetime(2018,1,1))/dt.timedelta(days = 1)).astype(int)"
   ]
  },
  {
   "cell_type": "markdown",
   "metadata": {},
   "source": [
    "## Task 1. Spatial visualization"
   ]
  },
  {
   "cell_type": "markdown",
   "metadata": {},
   "source": [
    "### Q1(5+5pts extra credits) Spatial distribution of total ridership from LGA on each day of week. Using colormap 'RdBu_r', bonus on if you plot 7 plots on the same colormap scale."
   ]
  },
  {
   "cell_type": "code",
   "execution_count": 10,
   "metadata": {
    "scrolled": false
   },
   "outputs": [],
   "source": [
    "WEEK=['Monday', 'Tuesday', 'Wednesday', 'Thursday', 'Friday', 'Saturday', 'Sunday']\n",
    "taxiZone = gpd.read_file('https://data.cityofnewyork.us/api/geospatial/d3c5-ddgc?method=export&format=Shapefile')\n",
    "taxiZone = taxiZone[['location_i', 'geometry']]\n",
    "taxi = TaxiRidership.groupby(['DOW','DOLocationID']).agg({'vehicle_count':'sum'}).reset_index()"
   ]
  },
  {
   "cell_type": "code",
   "execution_count": 11,
   "metadata": {},
   "outputs": [
    {
     "name": "stdout",
     "output_type": "stream",
     "text": [
      "max:  48129.0  Min:  0.0  Mean:  3018.8560311284045\n"
     ]
    }
   ],
   "source": [
    "#calculate scale\n",
    "scaleMin = taxi.vehicle_count.min() \n",
    "scaleMax = taxi.vehicle_count.max()\n",
    "scaleMean = taxi.vehicle_count.mean()\n",
    "print(\"max: \", scaleMax, \" Min: \", scaleMin, \" Mean: \", scaleMean)\n"
   ]
  },
  {
   "cell_type": "code",
   "execution_count": 12,
   "metadata": {
    "scrolled": true
   },
   "outputs": [
    {
     "data": {
      "text/html": [
       "<div>\n",
       "<style scoped>\n",
       "    .dataframe tbody tr th:only-of-type {\n",
       "        vertical-align: middle;\n",
       "    }\n",
       "\n",
       "    .dataframe tbody tr th {\n",
       "        vertical-align: top;\n",
       "    }\n",
       "\n",
       "    .dataframe thead th {\n",
       "        text-align: right;\n",
       "    }\n",
       "</style>\n",
       "<table border=\"1\" class=\"dataframe\">\n",
       "  <thead>\n",
       "    <tr style=\"text-align: right;\">\n",
       "      <th></th>\n",
       "      <th>geometry</th>\n",
       "      <th>DOW</th>\n",
       "      <th>DOLocationID</th>\n",
       "      <th>vehicle_count</th>\n",
       "    </tr>\n",
       "  </thead>\n",
       "  <tbody>\n",
       "    <tr>\n",
       "      <th>0</th>\n",
       "      <td>POLYGON ((-74.18445 40.69500, -74.18449 40.695...</td>\n",
       "      <td>0</td>\n",
       "      <td>1</td>\n",
       "      <td>1049.0</td>\n",
       "    </tr>\n",
       "    <tr>\n",
       "      <th>1</th>\n",
       "      <td>POLYGON ((-74.18445 40.69500, -74.18449 40.695...</td>\n",
       "      <td>1</td>\n",
       "      <td>1</td>\n",
       "      <td>1020.0</td>\n",
       "    </tr>\n",
       "    <tr>\n",
       "      <th>2</th>\n",
       "      <td>POLYGON ((-74.18445 40.69500, -74.18449 40.695...</td>\n",
       "      <td>2</td>\n",
       "      <td>1</td>\n",
       "      <td>969.0</td>\n",
       "    </tr>\n",
       "    <tr>\n",
       "      <th>3</th>\n",
       "      <td>POLYGON ((-74.18445 40.69500, -74.18449 40.695...</td>\n",
       "      <td>3</td>\n",
       "      <td>1</td>\n",
       "      <td>1009.0</td>\n",
       "    </tr>\n",
       "    <tr>\n",
       "      <th>4</th>\n",
       "      <td>POLYGON ((-74.18445 40.69500, -74.18449 40.695...</td>\n",
       "      <td>4</td>\n",
       "      <td>1</td>\n",
       "      <td>1294.0</td>\n",
       "    </tr>\n",
       "  </tbody>\n",
       "</table>\n",
       "</div>"
      ],
      "text/plain": [
       "                                            geometry  DOW  DOLocationID  \\\n",
       "0  POLYGON ((-74.18445 40.69500, -74.18449 40.695...    0             1   \n",
       "1  POLYGON ((-74.18445 40.69500, -74.18449 40.695...    1             1   \n",
       "2  POLYGON ((-74.18445 40.69500, -74.18449 40.695...    2             1   \n",
       "3  POLYGON ((-74.18445 40.69500, -74.18449 40.695...    3             1   \n",
       "4  POLYGON ((-74.18445 40.69500, -74.18449 40.695...    4             1   \n",
       "\n",
       "   vehicle_count  \n",
       "0         1049.0  \n",
       "1         1020.0  \n",
       "2          969.0  \n",
       "3         1009.0  \n",
       "4         1294.0  "
      ]
     },
     "execution_count": 12,
     "metadata": {},
     "output_type": "execute_result"
    }
   ],
   "source": [
    "# merge geometry\n",
    "taxi = taxiZone.merge(taxi, left_on='location_i', right_on='DOLocationID')\n",
    "taxi = taxi.drop(columns=['location_i'])\n",
    "taxi.head()"
   ]
  },
  {
   "cell_type": "code",
   "execution_count": 13,
   "metadata": {
    "scrolled": true
   },
   "outputs": [
    {
     "data": {
      "text/plain": [
       "0"
      ]
     },
     "execution_count": 13,
     "metadata": {},
     "output_type": "execute_result"
    }
   ],
   "source": [
    "# make sure every DOLocationID could get a geometry info\n",
    "len(TaxiRidership[~TaxiRidership['DOLocationID'].isin(taxiZone.location_i.unique())])"
   ]
  },
  {
   "cell_type": "code",
   "execution_count": 14,
   "metadata": {
    "scrolled": false
   },
   "outputs": [
    {
     "data": {
      "image/png": "[encoded data removed]",
      "text/plain": [
       "<Figure size 1440x720 with 9 Axes>"
      ]
     },
     "metadata": {
      "needs_background": "light"
     },
     "output_type": "display_data"
    }
   ],
   "source": [
    "cnorm = mcolors.TwoSlopeNorm(vmin=scaleMin, vcenter=scaleMean, vmax=scaleMax)\n",
    "\n",
    "fig,ax = plt.subplots(2,4,figsize=(20,10))\n",
    "for day in range(0,7):\n",
    "    taxi[taxi['DOW']==day].plot(ax=ax[int(day/4),day%4], norm=cnorm, column='vehicle_count', legend=False, cmap='RdBu_r')\n",
    "    ax[int(day/4),day%4].set_title(WEEK[day-1])\n",
    "    ax[int(day/4),day%4].axis('off')\n",
    "ax[1,3].axis('off')\n",
    "\n",
    "cbar = plt.cm.ScalarMappable(norm=cnorm, cmap='RdBu_r')\n",
    "fig.colorbar(cbar, ax=ax).ax.tick_params(labelsize=10)"
   ]
  },
  {
   "cell_type": "markdown",
   "metadata": {},
   "source": [
    "## Task 2: Data preprocessing"
   ]
  },
  {
   "cell_type": "markdown",
   "metadata": {},
   "source": [
    "### Q1 (3pts), aggregate ridership to date-hour level (over the entire city for all the drop off locations aggregated together), merge with the flight arrival data"
   ]
  },
  {
   "cell_type": "code",
   "execution_count": 15,
   "metadata": {
    "scrolled": true
   },
   "outputs": [
    {
     "data": {
      "text/html": [
       "<div>\n",
       "<style scoped>\n",
       "    .dataframe tbody tr th:only-of-type {\n",
       "        vertical-align: middle;\n",
       "    }\n",
       "\n",
       "    .dataframe tbody tr th {\n",
       "        vertical-align: top;\n",
       "    }\n",
       "\n",
       "    .dataframe thead th {\n",
       "        text-align: right;\n",
       "    }\n",
       "</style>\n",
       "<table border=\"1\" class=\"dataframe\">\n",
       "  <thead>\n",
       "    <tr style=\"text-align: right;\">\n",
       "      <th></th>\n",
       "      <th>Date</th>\n",
       "      <th>arrivals</th>\n",
       "      <th>Hour</th>\n",
       "      <th>vehicle_count</th>\n",
       "    </tr>\n",
       "  </thead>\n",
       "  <tbody>\n",
       "    <tr>\n",
       "      <th>0</th>\n",
       "      <td>2018-01-01 00:00:00</td>\n",
       "      <td>3</td>\n",
       "      <td>0</td>\n",
       "      <td>142.0</td>\n",
       "    </tr>\n",
       "    <tr>\n",
       "      <th>1</th>\n",
       "      <td>2018-01-01 01:00:00</td>\n",
       "      <td>0</td>\n",
       "      <td>1</td>\n",
       "      <td>23.0</td>\n",
       "    </tr>\n",
       "    <tr>\n",
       "      <th>2</th>\n",
       "      <td>2018-01-01 02:00:00</td>\n",
       "      <td>1</td>\n",
       "      <td>2</td>\n",
       "      <td>2.0</td>\n",
       "    </tr>\n",
       "    <tr>\n",
       "      <th>3</th>\n",
       "      <td>2018-01-01 03:00:00</td>\n",
       "      <td>0</td>\n",
       "      <td>3</td>\n",
       "      <td>1.0</td>\n",
       "    </tr>\n",
       "    <tr>\n",
       "      <th>4</th>\n",
       "      <td>2018-01-01 04:00:00</td>\n",
       "      <td>0</td>\n",
       "      <td>4</td>\n",
       "      <td>13.0</td>\n",
       "    </tr>\n",
       "  </tbody>\n",
       "</table>\n",
       "</div>"
      ],
      "text/plain": [
       "                 Date  arrivals  Hour  vehicle_count\n",
       "0 2018-01-01 00:00:00         3     0          142.0\n",
       "1 2018-01-01 01:00:00         0     1           23.0\n",
       "2 2018-01-01 02:00:00         1     2            2.0\n",
       "3 2018-01-01 03:00:00         0     3            1.0\n",
       "4 2018-01-01 04:00:00         0     4           13.0"
      ]
     },
     "execution_count": 15,
     "metadata": {},
     "output_type": "execute_result"
    }
   ],
   "source": [
    "task2taxi = TaxiRidership[['Date','Hour','vehicle_count']].groupby(['Date','Hour'], as_index=False).sum()\n",
    "task2 = FlightArrival.merge(task2taxi, on='Date')\n",
    "task2.head()"
   ]
  },
  {
   "cell_type": "markdown",
   "metadata": {},
   "source": [
    "### Q2(3pts), add time-lagged arrivals (1,2,3,4,5,6..12 hours before)\n",
    "\n",
    "Taxi and FHV ridership volume is impacted by flight arrivals. Intuitively, more flights bring more passengers, and more ridership eventually. However, the hourly ridership volume may not only related to flight arrivals in the same hour, arrivals in 1 hour, 2 hours ago could impact ridership as well, as travelers need some time to pass the costume or wait for luggage. Please add lag add of `arrivals` as additional features, and name new features as `lag1` for `arrivals` 1 hour ago, and `lag2` for 2 hours before and so on. You may use the `shift` function in pandas to add arrivals lag values. For example, df['arrivals'].shift(1) means add 1 hour lag value of arrivals. `iloc` function works as well."
   ]
  },
  {
   "cell_type": "code",
   "execution_count": 16,
   "metadata": {
    "scrolled": false
   },
   "outputs": [
    {
     "data": {
      "text/html": [
       "<div>\n",
       "<style scoped>\n",
       "    .dataframe tbody tr th:only-of-type {\n",
       "        vertical-align: middle;\n",
       "    }\n",
       "\n",
       "    .dataframe tbody tr th {\n",
       "        vertical-align: top;\n",
       "    }\n",
       "\n",
       "    .dataframe thead th {\n",
       "        text-align: right;\n",
       "    }\n",
       "</style>\n",
       "<table border=\"1\" class=\"dataframe\">\n",
       "  <thead>\n",
       "    <tr style=\"text-align: right;\">\n",
       "      <th></th>\n",
       "      <th>Date</th>\n",
       "      <th>arrivals</th>\n",
       "      <th>Hour</th>\n",
       "      <th>vehicle_count</th>\n",
       "      <th>lag1</th>\n",
       "      <th>lag2</th>\n",
       "      <th>lag3</th>\n",
       "      <th>lag4</th>\n",
       "      <th>lag5</th>\n",
       "      <th>lag6</th>\n",
       "      <th>lag7</th>\n",
       "      <th>lag8</th>\n",
       "      <th>lag9</th>\n",
       "      <th>lag10</th>\n",
       "      <th>lag11</th>\n",
       "      <th>lag12</th>\n",
       "    </tr>\n",
       "  </thead>\n",
       "  <tbody>\n",
       "    <tr>\n",
       "      <th>0</th>\n",
       "      <td>2018-01-01 00:00:00</td>\n",
       "      <td>3</td>\n",
       "      <td>0</td>\n",
       "      <td>142.0</td>\n",
       "      <td>0</td>\n",
       "      <td>0</td>\n",
       "      <td>0</td>\n",
       "      <td>0</td>\n",
       "      <td>0</td>\n",
       "      <td>0</td>\n",
       "      <td>0</td>\n",
       "      <td>0</td>\n",
       "      <td>0</td>\n",
       "      <td>0</td>\n",
       "      <td>0</td>\n",
       "      <td>0</td>\n",
       "    </tr>\n",
       "    <tr>\n",
       "      <th>1</th>\n",
       "      <td>2018-01-01 01:00:00</td>\n",
       "      <td>0</td>\n",
       "      <td>1</td>\n",
       "      <td>23.0</td>\n",
       "      <td>3</td>\n",
       "      <td>0</td>\n",
       "      <td>0</td>\n",
       "      <td>0</td>\n",
       "      <td>0</td>\n",
       "      <td>0</td>\n",
       "      <td>0</td>\n",
       "      <td>0</td>\n",
       "      <td>0</td>\n",
       "      <td>0</td>\n",
       "      <td>0</td>\n",
       "      <td>0</td>\n",
       "    </tr>\n",
       "    <tr>\n",
       "      <th>2</th>\n",
       "      <td>2018-01-01 02:00:00</td>\n",
       "      <td>1</td>\n",
       "      <td>2</td>\n",
       "      <td>2.0</td>\n",
       "      <td>0</td>\n",
       "      <td>3</td>\n",
       "      <td>0</td>\n",
       "      <td>0</td>\n",
       "      <td>0</td>\n",
       "      <td>0</td>\n",
       "      <td>0</td>\n",
       "      <td>0</td>\n",
       "      <td>0</td>\n",
       "      <td>0</td>\n",
       "      <td>0</td>\n",
       "      <td>0</td>\n",
       "    </tr>\n",
       "    <tr>\n",
       "      <th>3</th>\n",
       "      <td>2018-01-01 03:00:00</td>\n",
       "      <td>0</td>\n",
       "      <td>3</td>\n",
       "      <td>1.0</td>\n",
       "      <td>1</td>\n",
       "      <td>0</td>\n",
       "      <td>3</td>\n",
       "      <td>0</td>\n",
       "      <td>0</td>\n",
       "      <td>0</td>\n",
       "      <td>0</td>\n",
       "      <td>0</td>\n",
       "      <td>0</td>\n",
       "      <td>0</td>\n",
       "      <td>0</td>\n",
       "      <td>0</td>\n",
       "    </tr>\n",
       "    <tr>\n",
       "      <th>4</th>\n",
       "      <td>2018-01-01 04:00:00</td>\n",
       "      <td>0</td>\n",
       "      <td>4</td>\n",
       "      <td>13.0</td>\n",
       "      <td>0</td>\n",
       "      <td>1</td>\n",
       "      <td>0</td>\n",
       "      <td>3</td>\n",
       "      <td>0</td>\n",
       "      <td>0</td>\n",
       "      <td>0</td>\n",
       "      <td>0</td>\n",
       "      <td>0</td>\n",
       "      <td>0</td>\n",
       "      <td>0</td>\n",
       "      <td>0</td>\n",
       "    </tr>\n",
       "  </tbody>\n",
       "</table>\n",
       "</div>"
      ],
      "text/plain": [
       "                 Date  arrivals  Hour  vehicle_count  lag1  lag2  lag3  lag4  \\\n",
       "0 2018-01-01 00:00:00         3     0          142.0     0     0     0     0   \n",
       "1 2018-01-01 01:00:00         0     1           23.0     3     0     0     0   \n",
       "2 2018-01-01 02:00:00         1     2            2.0     0     3     0     0   \n",
       "3 2018-01-01 03:00:00         0     3            1.0     1     0     3     0   \n",
       "4 2018-01-01 04:00:00         0     4           13.0     0     1     0     3   \n",
       "\n",
       "   lag5  lag6  lag7  lag8  lag9  lag10  lag11  lag12  \n",
       "0     0     0     0     0     0      0      0      0  \n",
       "1     0     0     0     0     0      0      0      0  \n",
       "2     0     0     0     0     0      0      0      0  \n",
       "3     0     0     0     0     0      0      0      0  \n",
       "4     0     0     0     0     0      0      0      0  "
      ]
     },
     "execution_count": 16,
     "metadata": {},
     "output_type": "execute_result"
    }
   ],
   "source": [
    "LAGS=['lag1','lag2','lag3','lag4','lag5','lag6','lag7','lag8','lag9','lag10','lag11','lag12']\n",
    "for i in range(0,12):\n",
    "    task2[LAGS[i]] = task2['arrivals'].shift(i+1, fill_value=0)\n",
    "task2.head()"
   ]
  },
  {
   "cell_type": "code",
   "execution_count": 17,
   "metadata": {},
   "outputs": [],
   "source": [
    "df = task2"
   ]
  },
  {
   "cell_type": "code",
   "execution_count": 18,
   "metadata": {},
   "outputs": [],
   "source": [
    "df['DOW']=pd.DatetimeIndex(df.Date).weekday\n",
    "df['month']=df['Date'].dt.month\n",
    "df['day']=((df.Date-dt.datetime(2018,1,1))/dt.timedelta(days = 1)).astype(int)"
   ]
  },
  {
   "cell_type": "markdown",
   "metadata": {},
   "source": [
    "## Task 3. Data Exploration"
   ]
  },
  {
   "cell_type": "markdown",
   "metadata": {},
   "source": [
    "### Q1 (3pts). Print some dataset characteristics: number of records, the total number of FHV and taxi trips, total number of arriving flights\n"
   ]
  },
  {
   "cell_type": "code",
   "execution_count": 19,
   "metadata": {
    "scrolled": true
   },
   "outputs": [
    {
     "name": "stdout",
     "output_type": "stream",
     "text": [
      "total number of record 8760\n",
      "total number of FHV 5430922.0\n",
      "total number of taxi trips 2251320\n",
      "total number of arriving flights 163713\n"
     ]
    }
   ],
   "source": [
    "print(\"total number of record\", df.shape[0])\n",
    "print(\"total number of FHV\", df['vehicle_count'].sum())\n",
    "print(\"total number of taxi trips\", TaxiRidership['vehicle_count'].shape[0])\n",
    "print(\"total number of arriving flights\", df['arrivals'].sum())"
   ]
  },
  {
   "cell_type": "markdown",
   "metadata": {},
   "source": [
    "### Q2 (8pts, 4 pts for the figure, 4 pts for the t-test). Plot a probability distribution function of hourly ridership volume on weekdays and weekend, and apply t-test to check is there a significant difference of hourly ridership between each day of week and the rest days, $\\alpha=0.05$ Report hypothesis testing result in a $7\\times1$ table, index name should be day of week (e.g. Monday), values should be True or False (True for P < 0.05).\n",
    "Hint: You may use norm.pdf function in scipy.stats to calculate the probability distribution, and standardize at first."
   ]
  },
  {
   "cell_type": "code",
   "execution_count": 20,
   "metadata": {},
   "outputs": [],
   "source": [
    "#introduce a custom function performing distribution analysis\n",
    "def distribution_analysis(x, log_scale = False, bins = 50, vis_means = True, vis_curve = True, print_outputs = True):\n",
    "    #x - array of observations\n",
    "    #log_scale - analyze distribution of log(x) if True\n",
    "    #fit_distribution - fit the distribution ('normal', 'gev' or 'pareto') or do nothing if 'None'\n",
    "    #bins - how many bins to use for binning the data\n",
    "    #vis_means - show mean and std lines if True\n",
    "    #vis_curve - show interpolated distribution curve over the histogram bars if True\n",
    "    #print_outputs - print mean, std and percentiles\n",
    "    \n",
    "    if log_scale: \n",
    "        x1 = np.log10(x) #convert data to decimal logarithms\n",
    "        xlabel = 'log(values)' #reflect in x labels\n",
    "    else:\n",
    "        x1 = x #leave original scale \n",
    "        xlabel = 'values'\n",
    "    mu = x1.mean() #compute the mean\n",
    "    if log_scale: #if logscale, output all three - log mean, its original scale and original scale mean\n",
    "        print('Log mean = {:.2f}({:.2f}), mean = {:.2f}'.format(mu,10**mu,x.mean()))\n",
    "    else:\n",
    "        print('Mean = {:.2f}'.format(mu)) #otherwise print mean\n",
    "    sigma = x1.std() #compute and output standard deviation \n",
    "    print('Standard deviation = {:.2f}'.format(sigma))\n",
    "    for p in [1,5,25,50,75,95,99]: #output percentile values\n",
    "        print('{:d} percentile = {:.2f}'.format(p,np.percentile(x1,p))) #----------------------自行更改 x => x1\n",
    "        \n",
    "    #visualize histogram and the interpolated line (if vis_curve=True) using seaborn\n",
    "    sns.distplot(x1, hist=True, kde=vis_curve, \n",
    "        bins=bins,color = 'darkblue', \n",
    "        hist_kws={'edgecolor':'black'},\n",
    "        kde_kws={'linewidth': 4})\n",
    "    \n",
    "    #show vertical lines for mean and std if vis_means = True\n",
    "    if vis_means:\n",
    "        plt.axvline(mu, color='r', ls='--', lw=2.0)\n",
    "        plt.axvline(mu-sigma, color='g', ls='--', lw=2.0)\n",
    "        plt.axvline(mu+sigma, color='g', ls='--', lw=2.0)\n",
    "        \n",
    "    ylim = plt.gca().get_ylim() #keep the y-range of original distribution density values \n",
    "    #(to make sure the fitted distribution would not affect it)\n",
    "    \n",
    "    h = np.arange(mu - 3 * sigma, mu + 3 * sigma, sigma / 100) #3-sigma visualization range for the fitted distribution\n",
    "    pars = None #fitted distribution parameters\n",
    "    \n",
    "    #fit and visualize the theoretic distribution\n",
    "    pars = norm.fit(x1)\n",
    "    plt.plot(h,norm.pdf(h,*pars),'r')\n",
    "    plt.xlabel(xlabel) #add x label \n",
    "    plt.ylim(ylim) #restore the y-range of original distribution density values \n",
    "    plt.show()\n",
    "    \n",
    "    return pars"
   ]
  },
  {
   "cell_type": "code",
   "execution_count": 21,
   "metadata": {
    "scrolled": false
   },
   "outputs": [
    {
     "name": "stdout",
     "output_type": "stream",
     "text": [
      "Mean = 505.21\n",
      "Standard deviation = 432.20\n",
      "1 percentile = 1.00\n",
      "5 percentile = 3.00\n",
      "25 percentile = 53.00\n",
      "50 percentile = 467.00\n",
      "75 percentile = 770.50\n",
      "95 percentile = 1336.25\n",
      "99 percentile = 1558.40\n"
     ]
    },
    {
     "data": {
      "image/png": "[encoded data removed]",
      "text/plain": [
       "<Figure size 432x288 with 1 Axes>"
      ]
     },
     "metadata": {
      "needs_background": "light"
     },
     "output_type": "display_data"
    }
   ],
   "source": [
    "distribution_analysis(df.loc[df['DOW']>4]['vehicle_count'], bins=40);"
   ]
  },
  {
   "cell_type": "code",
   "execution_count": 22,
   "metadata": {},
   "outputs": [
    {
     "name": "stdout",
     "output_type": "stream",
     "text": [
      "Mean = 665.69\n",
      "Standard deviation = 451.45\n",
      "1 percentile = 1.00\n",
      "5 percentile = 3.00\n",
      "25 percentile = 127.50\n",
      "50 percentile = 801.00\n",
      "75 percentile = 1021.00\n",
      "95 percentile = 1275.00\n",
      "99 percentile = 1454.59\n"
     ]
    },
    {
     "data": {
      "image/png": "[encoded data removed]",
      "text/plain": [
       "<Figure size 432x288 with 1 Axes>"
      ]
     },
     "metadata": {
      "needs_background": "light"
     },
     "output_type": "display_data"
    }
   ],
   "source": [
    "distribution_analysis(df.loc[df['DOW']<=4]['vehicle_count'], bins=40);"
   ]
  },
  {
   "cell_type": "code",
   "execution_count": 23,
   "metadata": {},
   "outputs": [
    {
     "data": {
      "text/html": [
       "<div>\n",
       "<style scoped>\n",
       "    .dataframe tbody tr th:only-of-type {\n",
       "        vertical-align: middle;\n",
       "    }\n",
       "\n",
       "    .dataframe tbody tr th {\n",
       "        vertical-align: top;\n",
       "    }\n",
       "\n",
       "    .dataframe thead th {\n",
       "        text-align: right;\n",
       "    }\n",
       "</style>\n",
       "<table border=\"1\" class=\"dataframe\">\n",
       "  <thead>\n",
       "    <tr style=\"text-align: right;\">\n",
       "      <th></th>\n",
       "      <th>significant</th>\n",
       "    </tr>\n",
       "  </thead>\n",
       "  <tbody>\n",
       "    <tr>\n",
       "      <th>Monday</th>\n",
       "      <td>True</td>\n",
       "    </tr>\n",
       "    <tr>\n",
       "      <th>Tuesday</th>\n",
       "      <td>False</td>\n",
       "    </tr>\n",
       "    <tr>\n",
       "      <th>Wednesday</th>\n",
       "      <td>False</td>\n",
       "    </tr>\n",
       "    <tr>\n",
       "      <th>Thursday</th>\n",
       "      <td>True</td>\n",
       "    </tr>\n",
       "    <tr>\n",
       "      <th>Friday</th>\n",
       "      <td>True</td>\n",
       "    </tr>\n",
       "    <tr>\n",
       "      <th>Saturday</th>\n",
       "      <td>True</td>\n",
       "    </tr>\n",
       "    <tr>\n",
       "      <th>Sunday</th>\n",
       "      <td>False</td>\n",
       "    </tr>\n",
       "  </tbody>\n",
       "</table>\n",
       "</div>"
      ],
      "text/plain": [
       "          significant\n",
       "Monday           True\n",
       "Tuesday         False\n",
       "Wednesday       False\n",
       "Thursday         True\n",
       "Friday           True\n",
       "Saturday         True\n",
       "Sunday          False"
      ]
     },
     "execution_count": 23,
     "metadata": {},
     "output_type": "execute_result"
    }
   ],
   "source": [
    "table = pd.DataFrame(columns=['significant'], index=WEEK)\n",
    "for i in range(0,7):\n",
    "    t_test = stats.ttest_ind(df.loc[df['DOW']==i]['vehicle_count'],\n",
    "                             df.loc[df['DOW']!=i]['vehicle_count'])\n",
    "    table.iloc[i]['significant'] = True if t_test[1] < 0.05 else False\n",
    "table"
   ]
  },
  {
   "cell_type": "markdown",
   "metadata": {},
   "source": [
    "### Q3(10pts, 3 pts for locate the correct month, 7 pts for the figure.) .  Plot the timeline of the `vehicle_count` and `arrivals` for the month having the highest taxi ridership (the sum of vehicle count in the whole month). As `arrivals` and `vehicle_count` have different scales, standardize each dataset first."
   ]
  },
  {
   "cell_type": "code",
   "execution_count": 24,
   "metadata": {
    "scrolled": false
   },
   "outputs": [
    {
     "data": {
      "text/plain": [
       "10"
      ]
     },
     "execution_count": 24,
     "metadata": {},
     "output_type": "execute_result"
    }
   ],
   "source": [
    "# get the largest sum of vehicle count in the whole month\n",
    "df[['month','vehicle_count']].groupby(['month']).sum().idxmax()['vehicle_count']"
   ]
  },
  {
   "cell_type": "code",
   "execution_count": 25,
   "metadata": {},
   "outputs": [
    {
     "data": {
      "text/plain": [
       "(744, 19)"
      ]
     },
     "execution_count": 25,
     "metadata": {},
     "output_type": "execute_result"
    }
   ],
   "source": [
    "Oct = df[df['month']==10]\n",
    "Oct.shape"
   ]
  },
  {
   "cell_type": "code",
   "execution_count": 26,
   "metadata": {},
   "outputs": [
    {
     "data": {
      "text/html": [
       "<div>\n",
       "<style scoped>\n",
       "    .dataframe tbody tr th:only-of-type {\n",
       "        vertical-align: middle;\n",
       "    }\n",
       "\n",
       "    .dataframe tbody tr th {\n",
       "        vertical-align: top;\n",
       "    }\n",
       "\n",
       "    .dataframe thead th {\n",
       "        text-align: right;\n",
       "    }\n",
       "</style>\n",
       "<table border=\"1\" class=\"dataframe\">\n",
       "  <thead>\n",
       "    <tr style=\"text-align: right;\">\n",
       "      <th></th>\n",
       "      <th>vehicle_count</th>\n",
       "    </tr>\n",
       "    <tr>\n",
       "      <th>day</th>\n",
       "      <th></th>\n",
       "    </tr>\n",
       "  </thead>\n",
       "  <tbody>\n",
       "    <tr>\n",
       "      <th>273</th>\n",
       "      <td>18194.0</td>\n",
       "    </tr>\n",
       "    <tr>\n",
       "      <th>274</th>\n",
       "      <td>12905.0</td>\n",
       "    </tr>\n",
       "    <tr>\n",
       "      <th>275</th>\n",
       "      <td>20099.0</td>\n",
       "    </tr>\n",
       "    <tr>\n",
       "      <th>276</th>\n",
       "      <td>18893.0</td>\n",
       "    </tr>\n",
       "    <tr>\n",
       "      <th>277</th>\n",
       "      <td>18624.0</td>\n",
       "    </tr>\n",
       "  </tbody>\n",
       "</table>\n",
       "</div>"
      ],
      "text/plain": [
       "     vehicle_count\n",
       "day               \n",
       "273        18194.0\n",
       "274        12905.0\n",
       "275        20099.0\n",
       "276        18893.0\n",
       "277        18624.0"
      ]
     },
     "execution_count": 26,
     "metadata": {},
     "output_type": "execute_result"
    }
   ],
   "source": [
    "taxi = Oct[['vehicle_count','day']].groupby('day').sum()\n",
    "taxi.head()"
   ]
  },
  {
   "cell_type": "code",
   "execution_count": 27,
   "metadata": {
    "scrolled": false
   },
   "outputs": [
    {
     "data": {
      "text/html": [
       "<div>\n",
       "<style scoped>\n",
       "    .dataframe tbody tr th:only-of-type {\n",
       "        vertical-align: middle;\n",
       "    }\n",
       "\n",
       "    .dataframe tbody tr th {\n",
       "        vertical-align: top;\n",
       "    }\n",
       "\n",
       "    .dataframe thead th {\n",
       "        text-align: right;\n",
       "    }\n",
       "</style>\n",
       "<table border=\"1\" class=\"dataframe\">\n",
       "  <thead>\n",
       "    <tr style=\"text-align: right;\">\n",
       "      <th></th>\n",
       "      <th>arrivals</th>\n",
       "    </tr>\n",
       "    <tr>\n",
       "      <th>day</th>\n",
       "      <th></th>\n",
       "    </tr>\n",
       "  </thead>\n",
       "  <tbody>\n",
       "    <tr>\n",
       "      <th>273</th>\n",
       "      <td>530</td>\n",
       "    </tr>\n",
       "    <tr>\n",
       "      <th>274</th>\n",
       "      <td>480</td>\n",
       "    </tr>\n",
       "    <tr>\n",
       "      <th>275</th>\n",
       "      <td>522</td>\n",
       "    </tr>\n",
       "    <tr>\n",
       "      <th>276</th>\n",
       "      <td>535</td>\n",
       "    </tr>\n",
       "    <tr>\n",
       "      <th>277</th>\n",
       "      <td>535</td>\n",
       "    </tr>\n",
       "  </tbody>\n",
       "</table>\n",
       "</div>"
      ],
      "text/plain": [
       "     arrivals\n",
       "day          \n",
       "273       530\n",
       "274       480\n",
       "275       522\n",
       "276       535\n",
       "277       535"
      ]
     },
     "execution_count": 27,
     "metadata": {},
     "output_type": "execute_result"
    }
   ],
   "source": [
    "flight = Oct[['arrivals','day']].groupby('day').sum()\n",
    "flight.head()"
   ]
  },
  {
   "cell_type": "code",
   "execution_count": 28,
   "metadata": {},
   "outputs": [
    {
     "data": {
      "text/plain": [
       "273"
      ]
     },
     "execution_count": 28,
     "metadata": {},
     "output_type": "execute_result"
    }
   ],
   "source": [
    "list(taxi.index)[0]"
   ]
  },
  {
   "cell_type": "code",
   "execution_count": 29,
   "metadata": {},
   "outputs": [
    {
     "data": {
      "image/png": "[encoded data removed]",
      "text/plain": [
       "<Figure size 432x288 with 1 Axes>"
      ]
     },
     "metadata": {
      "needs_background": "light"
     },
     "output_type": "display_data"
    }
   ],
   "source": [
    "# standardize\n",
    "min_max_scaler = preprocessing.StandardScaler()\n",
    "flight['norm'] = min_max_scaler.fit_transform(flight)\n",
    "taxi['norm'] = min_max_scaler.fit_transform(taxi)\n",
    "\n",
    "# visualize\n",
    "plt.plot(taxi.index-list(taxi.index)[0]+1, taxi['norm'], label='vehicle count')\n",
    "plt.plot(flight.index-list(flight.index)[0]+1, flight['norm'], label='arrivals')\n",
    "plt.legend()\n",
    "plt.show()"
   ]
  },
  {
   "cell_type": "markdown",
   "metadata": {},
   "source": [
    "## Task 4: Build Linear Regression Model of FHV and taxi ridership vs Arrivals data"
   ]
  },
  {
   "cell_type": "markdown",
   "metadata": {},
   "source": [
    "### Q1 (3pts). split the data into training, validation and test samples (first 90 days for training, next 180 for validation, last 90 for test)\n"
   ]
  },
  {
   "cell_type": "code",
   "execution_count": 30,
   "metadata": {},
   "outputs": [],
   "source": [
    "train=df.loc[df.day<90,:]\n",
    "valid=df.loc[(df.day>=90)&(df.day<270),:]\n",
    "test=df.loc[df.day>=270,:]"
   ]
  },
  {
   "cell_type": "markdown",
   "metadata": {},
   "source": [
    "### Q2 (10pts, 6 pts for modeling, 2 pts for the confidence interval, 2 pts for the figure.). \n",
    "\n",
    "Build an OLS model with intercept (you may want to use smf.ols) over the training dataset using `arrivals` as a sole predictor for `vehicle_count`. Check p-value for arrival. What does it indicate? Report the 99% confidence interval for arrival's coefficient. Scatter plot for taxi ridership and flight arrival, include the predictive line from linear regression report."
   ]
  },
  {
   "cell_type": "code",
   "execution_count": 31,
   "metadata": {
    "scrolled": false
   },
   "outputs": [
    {
     "data": {
      "text/html": [
       "<table class=\"simpletable\">\n",
       "<caption>OLS Regression Results</caption>\n",
       "<tr>\n",
       "  <th>Dep. Variable:</th>      <td>vehicle_count</td>  <th>  R-squared:         </th> <td>   0.724</td> \n",
       "</tr>\n",
       "<tr>\n",
       "  <th>Model:</th>                   <td>OLS</td>       <th>  Adj. R-squared:    </th> <td>   0.724</td> \n",
       "</tr>\n",
       "<tr>\n",
       "  <th>Method:</th>             <td>Least Squares</td>  <th>  F-statistic:       </th> <td>   5657.</td> \n",
       "</tr>\n",
       "<tr>\n",
       "  <th>Date:</th>             <td>Sun, 26 Dec 2021</td> <th>  Prob (F-statistic):</th>  <td>  0.00</td>  \n",
       "</tr>\n",
       "<tr>\n",
       "  <th>Time:</th>                 <td>09:00:19</td>     <th>  Log-Likelihood:    </th> <td> -14690.</td> \n",
       "</tr>\n",
       "<tr>\n",
       "  <th>No. Observations:</th>      <td>  2160</td>      <th>  AIC:               </th> <td>2.938e+04</td>\n",
       "</tr>\n",
       "<tr>\n",
       "  <th>Df Residuals:</th>          <td>  2158</td>      <th>  BIC:               </th> <td>2.939e+04</td>\n",
       "</tr>\n",
       "<tr>\n",
       "  <th>Df Model:</th>              <td>     1</td>      <th>                     </th>     <td> </td>    \n",
       "</tr>\n",
       "<tr>\n",
       "  <th>Covariance Type:</th>      <td>nonrobust</td>    <th>                     </th>     <td> </td>    \n",
       "</tr>\n",
       "</table>\n",
       "<table class=\"simpletable\">\n",
       "<tr>\n",
       "      <td></td>         <th>coef</th>     <th>std err</th>      <th>t</th>      <th>P>|t|</th>  <th>[0.005</th>    <th>0.995]</th>  \n",
       "</tr>\n",
       "<tr>\n",
       "  <th>Intercept</th> <td>   75.8315</td> <td>    7.772</td> <td>    9.757</td> <td> 0.000</td> <td>   55.795</td> <td>   95.868</td>\n",
       "</tr>\n",
       "<tr>\n",
       "  <th>arrivals</th>  <td>   26.2834</td> <td>    0.349</td> <td>   75.210</td> <td> 0.000</td> <td>   25.382</td> <td>   27.184</td>\n",
       "</tr>\n",
       "</table>\n",
       "<table class=\"simpletable\">\n",
       "<tr>\n",
       "  <th>Omnibus:</th>       <td>287.221</td> <th>  Durbin-Watson:     </th> <td>   0.767</td> \n",
       "</tr>\n",
       "<tr>\n",
       "  <th>Prob(Omnibus):</th> <td> 0.000</td>  <th>  Jarque-Bera (JB):  </th> <td> 655.473</td> \n",
       "</tr>\n",
       "<tr>\n",
       "  <th>Skew:</th>          <td> 0.772</td>  <th>  Prob(JB):          </th> <td>4.63e-143</td>\n",
       "</tr>\n",
       "<tr>\n",
       "  <th>Kurtosis:</th>      <td> 5.213</td>  <th>  Cond. No.          </th> <td>    37.0</td> \n",
       "</tr>\n",
       "</table><br/><br/>Notes:<br/>[1] Standard Errors assume that the covariance matrix of the errors is correctly specified."
      ],
      "text/plain": [
       "<class 'statsmodels.iolib.summary.Summary'>\n",
       "\"\"\"\n",
       "                            OLS Regression Results                            \n",
       "==============================================================================\n",
       "Dep. Variable:          vehicle_count   R-squared:                       0.724\n",
       "Model:                            OLS   Adj. R-squared:                  0.724\n",
       "Method:                 Least Squares   F-statistic:                     5657.\n",
       "Date:                Sun, 26 Dec 2021   Prob (F-statistic):               0.00\n",
       "Time:                        09:00:19   Log-Likelihood:                -14690.\n",
       "No. Observations:                2160   AIC:                         2.938e+04\n",
       "Df Residuals:                    2158   BIC:                         2.939e+04\n",
       "Df Model:                           1                                         \n",
       "Covariance Type:            nonrobust                                         \n",
       "==============================================================================\n",
       "                 coef    std err          t      P>|t|      [0.005      0.995]\n",
       "------------------------------------------------------------------------------\n",
       "Intercept     75.8315      7.772      9.757      0.000      55.795      95.868\n",
       "arrivals      26.2834      0.349     75.210      0.000      25.382      27.184\n",
       "==============================================================================\n",
       "Omnibus:                      287.221   Durbin-Watson:                   0.767\n",
       "Prob(Omnibus):                  0.000   Jarque-Bera (JB):              655.473\n",
       "Skew:                           0.772   Prob(JB):                    4.63e-143\n",
       "Kurtosis:                       5.213   Cond. No.                         37.0\n",
       "==============================================================================\n",
       "\n",
       "Notes:\n",
       "[1] Standard Errors assume that the covariance matrix of the errors is correctly specified.\n",
       "\"\"\""
      ]
     },
     "execution_count": 31,
     "metadata": {},
     "output_type": "execute_result"
    }
   ],
   "source": [
    "lm = smf.ols(formula='vehicle_count~arrivals', data = train).fit()\n",
    "lm.summary(alpha=0.01)"
   ]
  },
  {
   "cell_type": "code",
   "execution_count": 32,
   "metadata": {},
   "outputs": [
    {
     "data": {
      "text/plain": [
       "25.38239440770063"
      ]
     },
     "execution_count": 32,
     "metadata": {},
     "output_type": "execute_result"
    }
   ],
   "source": [
    "lm.conf_int(alpha=0.01).at['arrivals', 0]"
   ]
  },
  {
   "cell_type": "code",
   "execution_count": 33,
   "metadata": {
    "scrolled": true
   },
   "outputs": [
    {
     "name": "stdout",
     "output_type": "stream",
     "text": [
      "arrivals p value:  0.0\n",
      "99% CI is [25.38239440770063,27.184321755411347]\n"
     ]
    }
   ],
   "source": [
    "CIlow = lm.conf_int(alpha=0.01).at['arrivals', 0]\n",
    "CIhigh = lm.conf_int(alpha=0.01).at['arrivals', 1]\n",
    "print(\"arrivals p value: \", lm.pvalues['arrivals'])\n",
    "print(\"99% CI is [{0},{1}]\".format(CIlow, CIhigh))"
   ]
  },
  {
   "cell_type": "markdown",
   "metadata": {},
   "source": [
    "<span style=\"color:red;font-size:18pt\">pvalue < 0.99 reject the hypothesis that arrival has no relation with fhv. arrivals is significant</span>"
   ]
  },
  {
   "cell_type": "code",
   "execution_count": 34,
   "metadata": {
    "scrolled": false
   },
   "outputs": [
    {
     "data": {
      "text/plain": [
       "[<matplotlib.lines.Line2D at 0x22caa2d0760>]"
      ]
     },
     "execution_count": 34,
     "metadata": {},
     "output_type": "execute_result"
    },
    {
     "data": {
      "image/png": "[encoded data removed]",
      "text/plain": [
       "<Figure size 576x432 with 1 Axes>"
      ]
     },
     "metadata": {
      "needs_background": "light"
     },
     "output_type": "display_data"
    }
   ],
   "source": [
    "plt.figure(figsize=(8,6))\n",
    "plt.plot(train['arrivals'], train['vehicle_count'], 'o')\n",
    "plt.title('train set', fontsize = 10)\n",
    "plt.xlabel('arrivals')\n",
    "plt.ylabel('vehicle_count')\n",
    "plt.plot(train['arrivals'], lm.predict(train['arrivals']), '-r')"
   ]
  },
  {
   "cell_type": "code",
   "execution_count": 35,
   "metadata": {},
   "outputs": [
    {
     "data": {
      "text/plain": [
       "[<matplotlib.lines.Line2D at 0x22caa33e6d0>]"
      ]
     },
     "execution_count": 35,
     "metadata": {},
     "output_type": "execute_result"
    },
    {
     "data": {
      "image/png": "[encoded data removed]",
      "text/plain": [
       "<Figure size 576x432 with 1 Axes>"
      ]
     },
     "metadata": {
      "needs_background": "light"
     },
     "output_type": "display_data"
    }
   ],
   "source": [
    "plt.figure(figsize=(8,6))\n",
    "plt.plot(test['arrivals'], test['vehicle_count'], 'o')\n",
    "plt.title('test set', fontsize = 10)\n",
    "plt.xlabel('arrivals')\n",
    "plt.ylabel('vehicle_count')\n",
    "plt.plot(test['arrivals'], lm.predict(test['arrivals']), '-r')"
   ]
  },
  {
   "cell_type": "markdown",
   "metadata": {},
   "source": [
    "### Q3 (8pts): Consider Impact of immediate history of arrivals\n",
    "by adding time lags - add all 12 lag variables into the regression above\n",
    "\n",
    "There is always some delay between passengers arrival and departure (e.g. passing customs, picking up luggage, etc). `vehicle_count` might be more related to historical values of flight arrivals (lag) rather than immediate `arrivals`. Engineer a formula with all the following variables and run the regression:\n",
    "* arrival, lag1, ..., lagN: that happens 1hr, ..., N=12 hr ahead.\n",
    "Which of the variables have a statistically significant impact according to p-values?\n"
   ]
  },
  {
   "cell_type": "code",
   "execution_count": 36,
   "metadata": {},
   "outputs": [
    {
     "data": {
      "text/html": [
       "<table class=\"simpletable\">\n",
       "<caption>OLS Regression Results</caption>\n",
       "<tr>\n",
       "  <th>Dep. Variable:</th>      <td>vehicle_count</td>  <th>  R-squared:         </th> <td>   0.860</td> \n",
       "</tr>\n",
       "<tr>\n",
       "  <th>Model:</th>                   <td>OLS</td>       <th>  Adj. R-squared:    </th> <td>   0.859</td> \n",
       "</tr>\n",
       "<tr>\n",
       "  <th>Method:</th>             <td>Least Squares</td>  <th>  F-statistic:       </th> <td>   1012.</td> \n",
       "</tr>\n",
       "<tr>\n",
       "  <th>Date:</th>             <td>Sun, 26 Dec 2021</td> <th>  Prob (F-statistic):</th>  <td>  0.00</td>  \n",
       "</tr>\n",
       "<tr>\n",
       "  <th>Time:</th>                 <td>09:00:19</td>     <th>  Log-Likelihood:    </th> <td> -13957.</td> \n",
       "</tr>\n",
       "<tr>\n",
       "  <th>No. Observations:</th>      <td>  2160</td>      <th>  AIC:               </th> <td>2.794e+04</td>\n",
       "</tr>\n",
       "<tr>\n",
       "  <th>Df Residuals:</th>          <td>  2146</td>      <th>  BIC:               </th> <td>2.802e+04</td>\n",
       "</tr>\n",
       "<tr>\n",
       "  <th>Df Model:</th>              <td>    13</td>      <th>                     </th>     <td> </td>    \n",
       "</tr>\n",
       "<tr>\n",
       "  <th>Covariance Type:</th>      <td>nonrobust</td>    <th>                     </th>     <td> </td>    \n",
       "</tr>\n",
       "</table>\n",
       "<table class=\"simpletable\">\n",
       "<tr>\n",
       "      <td></td>         <th>coef</th>     <th>std err</th>      <th>t</th>      <th>P>|t|</th>  <th>[0.025</th>    <th>0.975]</th>  \n",
       "</tr>\n",
       "<tr>\n",
       "  <th>Intercept</th> <td>  -51.0989</td> <td>    9.390</td> <td>   -5.442</td> <td> 0.000</td> <td>  -69.513</td> <td>  -32.685</td>\n",
       "</tr>\n",
       "<tr>\n",
       "  <th>arrivals</th>  <td>   10.9149</td> <td>    0.529</td> <td>   20.615</td> <td> 0.000</td> <td>    9.877</td> <td>   11.953</td>\n",
       "</tr>\n",
       "<tr>\n",
       "  <th>lag1</th>      <td>   13.3212</td> <td>    0.684</td> <td>   19.485</td> <td> 0.000</td> <td>   11.981</td> <td>   14.662</td>\n",
       "</tr>\n",
       "<tr>\n",
       "  <th>lag2</th>      <td>    5.7680</td> <td>    0.688</td> <td>    8.381</td> <td> 0.000</td> <td>    4.418</td> <td>    7.118</td>\n",
       "</tr>\n",
       "<tr>\n",
       "  <th>lag3</th>      <td>    1.4042</td> <td>    0.690</td> <td>    2.036</td> <td> 0.042</td> <td>    0.052</td> <td>    2.757</td>\n",
       "</tr>\n",
       "<tr>\n",
       "  <th>lag4</th>      <td>   -1.3087</td> <td>    0.692</td> <td>   -1.890</td> <td> 0.059</td> <td>   -2.667</td> <td>    0.049</td>\n",
       "</tr>\n",
       "<tr>\n",
       "  <th>lag5</th>      <td>    0.5963</td> <td>    0.693</td> <td>    0.861</td> <td> 0.389</td> <td>   -0.762</td> <td>    1.955</td>\n",
       "</tr>\n",
       "<tr>\n",
       "  <th>lag6</th>      <td>   -0.4923</td> <td>    0.683</td> <td>   -0.721</td> <td> 0.471</td> <td>   -1.832</td> <td>    0.847</td>\n",
       "</tr>\n",
       "<tr>\n",
       "  <th>lag7</th>      <td>    0.9881</td> <td>    0.693</td> <td>    1.426</td> <td> 0.154</td> <td>   -0.371</td> <td>    2.347</td>\n",
       "</tr>\n",
       "<tr>\n",
       "  <th>lag8</th>      <td>    1.2618</td> <td>    0.693</td> <td>    1.821</td> <td> 0.069</td> <td>   -0.097</td> <td>    2.621</td>\n",
       "</tr>\n",
       "<tr>\n",
       "  <th>lag9</th>      <td>    1.8996</td> <td>    0.690</td> <td>    2.752</td> <td> 0.006</td> <td>    0.546</td> <td>    3.253</td>\n",
       "</tr>\n",
       "<tr>\n",
       "  <th>lag10</th>     <td>   -0.8283</td> <td>    0.689</td> <td>   -1.202</td> <td> 0.229</td> <td>   -2.179</td> <td>    0.523</td>\n",
       "</tr>\n",
       "<tr>\n",
       "  <th>lag11</th>     <td>    0.9669</td> <td>    0.684</td> <td>    1.413</td> <td> 0.158</td> <td>   -0.375</td> <td>    2.309</td>\n",
       "</tr>\n",
       "<tr>\n",
       "  <th>lag12</th>     <td>   -1.0439</td> <td>    0.529</td> <td>   -1.972</td> <td> 0.049</td> <td>   -2.082</td> <td>   -0.006</td>\n",
       "</tr>\n",
       "</table>\n",
       "<table class=\"simpletable\">\n",
       "<tr>\n",
       "  <th>Omnibus:</th>       <td>390.468</td> <th>  Durbin-Watson:     </th> <td>   0.816</td> \n",
       "</tr>\n",
       "<tr>\n",
       "  <th>Prob(Omnibus):</th> <td> 0.000</td>  <th>  Jarque-Bera (JB):  </th> <td> 900.055</td> \n",
       "</tr>\n",
       "<tr>\n",
       "  <th>Skew:</th>          <td> 1.014</td>  <th>  Prob(JB):          </th> <td>3.59e-196</td>\n",
       "</tr>\n",
       "<tr>\n",
       "  <th>Kurtosis:</th>      <td> 5.427</td>  <th>  Cond. No.          </th> <td>    197.</td> \n",
       "</tr>\n",
       "</table><br/><br/>Notes:<br/>[1] Standard Errors assume that the covariance matrix of the errors is correctly specified."
      ],
      "text/plain": [
       "<class 'statsmodels.iolib.summary.Summary'>\n",
       "\"\"\"\n",
       "                            OLS Regression Results                            \n",
       "==============================================================================\n",
       "Dep. Variable:          vehicle_count   R-squared:                       0.860\n",
       "Model:                            OLS   Adj. R-squared:                  0.859\n",
       "Method:                 Least Squares   F-statistic:                     1012.\n",
       "Date:                Sun, 26 Dec 2021   Prob (F-statistic):               0.00\n",
       "Time:                        09:00:19   Log-Likelihood:                -13957.\n",
       "No. Observations:                2160   AIC:                         2.794e+04\n",
       "Df Residuals:                    2146   BIC:                         2.802e+04\n",
       "Df Model:                          13                                         \n",
       "Covariance Type:            nonrobust                                         \n",
       "==============================================================================\n",
       "                 coef    std err          t      P>|t|      [0.025      0.975]\n",
       "------------------------------------------------------------------------------\n",
       "Intercept    -51.0989      9.390     -5.442      0.000     -69.513     -32.685\n",
       "arrivals      10.9149      0.529     20.615      0.000       9.877      11.953\n",
       "lag1          13.3212      0.684     19.485      0.000      11.981      14.662\n",
       "lag2           5.7680      0.688      8.381      0.000       4.418       7.118\n",
       "lag3           1.4042      0.690      2.036      0.042       0.052       2.757\n",
       "lag4          -1.3087      0.692     -1.890      0.059      -2.667       0.049\n",
       "lag5           0.5963      0.693      0.861      0.389      -0.762       1.955\n",
       "lag6          -0.4923      0.683     -0.721      0.471      -1.832       0.847\n",
       "lag7           0.9881      0.693      1.426      0.154      -0.371       2.347\n",
       "lag8           1.2618      0.693      1.821      0.069      -0.097       2.621\n",
       "lag9           1.8996      0.690      2.752      0.006       0.546       3.253\n",
       "lag10         -0.8283      0.689     -1.202      0.229      -2.179       0.523\n",
       "lag11          0.9669      0.684      1.413      0.158      -0.375       2.309\n",
       "lag12         -1.0439      0.529     -1.972      0.049      -2.082      -0.006\n",
       "==============================================================================\n",
       "Omnibus:                      390.468   Durbin-Watson:                   0.816\n",
       "Prob(Omnibus):                  0.000   Jarque-Bera (JB):              900.055\n",
       "Skew:                           1.014   Prob(JB):                    3.59e-196\n",
       "Kurtosis:                       5.427   Cond. No.                         197.\n",
       "==============================================================================\n",
       "\n",
       "Notes:\n",
       "[1] Standard Errors assume that the covariance matrix of the errors is correctly specified.\n",
       "\"\"\""
      ]
     },
     "execution_count": 36,
     "metadata": {},
     "output_type": "execute_result"
    }
   ],
   "source": [
    "lm2 = smf.ols(formula = 'vehicle_count ~ arrivals +' + ' + '.join(LAGS), data = train).fit()\n",
    "lm2.summary()"
   ]
  },
  {
   "cell_type": "markdown",
   "metadata": {},
   "source": [
    "<span style=\"color:red;font-size:18pt\">lag1, lag2, lag3, lag9, lag12 are significant</span>"
   ]
  },
  {
   "cell_type": "markdown",
   "metadata": {},
   "source": [
    "### Q4(5pt): Incorporate Temporal Patterns \n",
    "\n",
    "adding categorical variables for day of week and hour of the day.\n",
    "\n",
    "From the visualization in task1Q3, you may see that both - taxi ridership as well as arrivals follow a somewhat periodic temporal pattern. Intuitively, this is true for most traffic flows following daily rhythms including rush hours, and also varying over the course of the week. Usually, we add dummy/categorical variables (Boolean variable: 1 for True and 0 for False) to encapsulate people's traveling patterns during different time periods.\n",
    "\n",
    "Note that it would not make sense to add hour and dow as regular regressors as we can't anticipate their linear numeric impact. Instead, the expression `C(.)` or `pd.get_dummies` could be used in the regression formulae in order to treat those variables as categorical adding corresponding dummy variables to account for their possible discrete values. \n",
    "\n",
    "Perform the regression of `vehicle_count` ridership against `arrivals`, lags, and temporal categorical variables."
   ]
  },
  {
   "cell_type": "code",
   "execution_count": 37,
   "metadata": {
    "scrolled": false
   },
   "outputs": [
    {
     "data": {
      "text/html": [
       "<table class=\"simpletable\">\n",
       "<caption>OLS Regression Results</caption>\n",
       "<tr>\n",
       "  <th>Dep. Variable:</th>      <td>vehicle_count</td>  <th>  R-squared:         </th> <td>   0.900</td> \n",
       "</tr>\n",
       "<tr>\n",
       "  <th>Model:</th>                   <td>OLS</td>       <th>  Adj. R-squared:    </th> <td>   0.898</td> \n",
       "</tr>\n",
       "<tr>\n",
       "  <th>Method:</th>             <td>Least Squares</td>  <th>  F-statistic:       </th> <td>   453.6</td> \n",
       "</tr>\n",
       "<tr>\n",
       "  <th>Date:</th>             <td>Sun, 26 Dec 2021</td> <th>  Prob (F-statistic):</th>  <td>  0.00</td>  \n",
       "</tr>\n",
       "<tr>\n",
       "  <th>Time:</th>                 <td>09:00:19</td>     <th>  Log-Likelihood:    </th> <td> -13592.</td> \n",
       "</tr>\n",
       "<tr>\n",
       "  <th>No. Observations:</th>      <td>  2160</td>      <th>  AIC:               </th> <td>2.727e+04</td>\n",
       "</tr>\n",
       "<tr>\n",
       "  <th>Df Residuals:</th>          <td>  2117</td>      <th>  BIC:               </th> <td>2.752e+04</td>\n",
       "</tr>\n",
       "<tr>\n",
       "  <th>Df Model:</th>              <td>    42</td>      <th>                     </th>     <td> </td>    \n",
       "</tr>\n",
       "<tr>\n",
       "  <th>Covariance Type:</th>      <td>nonrobust</td>    <th>                     </th>     <td> </td>    \n",
       "</tr>\n",
       "</table>\n",
       "<table class=\"simpletable\">\n",
       "<tr>\n",
       "        <td></td>           <th>coef</th>     <th>std err</th>      <th>t</th>      <th>P>|t|</th>  <th>[0.025</th>    <th>0.975]</th>  \n",
       "</tr>\n",
       "<tr>\n",
       "  <th>Intercept</th>     <td>   66.1512</td> <td>   22.680</td> <td>    2.917</td> <td> 0.004</td> <td>   21.674</td> <td>  110.629</td>\n",
       "</tr>\n",
       "<tr>\n",
       "  <th>C(DOW)[T.1]</th>   <td>  -72.6308</td> <td>   10.635</td> <td>   -6.830</td> <td> 0.000</td> <td>  -93.486</td> <td>  -51.776</td>\n",
       "</tr>\n",
       "<tr>\n",
       "  <th>C(DOW)[T.2]</th>   <td>  -95.1384</td> <td>   10.779</td> <td>   -8.826</td> <td> 0.000</td> <td> -116.277</td> <td>  -74.000</td>\n",
       "</tr>\n",
       "<tr>\n",
       "  <th>C(DOW)[T.3]</th>   <td>  -21.7931</td> <td>   10.596</td> <td>   -2.057</td> <td> 0.040</td> <td>  -42.573</td> <td>   -1.013</td>\n",
       "</tr>\n",
       "<tr>\n",
       "  <th>C(DOW)[T.4]</th>   <td>  -57.0345</td> <td>   10.649</td> <td>   -5.356</td> <td> 0.000</td> <td>  -77.918</td> <td>  -36.151</td>\n",
       "</tr>\n",
       "<tr>\n",
       "  <th>C(DOW)[T.5]</th>   <td>  -77.3302</td> <td>   11.643</td> <td>   -6.642</td> <td> 0.000</td> <td> -100.164</td> <td>  -54.497</td>\n",
       "</tr>\n",
       "<tr>\n",
       "  <th>C(DOW)[T.6]</th>   <td>    8.2757</td> <td>   11.360</td> <td>    0.728</td> <td> 0.466</td> <td>  -14.002</td> <td>   30.554</td>\n",
       "</tr>\n",
       "<tr>\n",
       "  <th>C(Hour)[T.1]</th>  <td> -119.8431</td> <td>   21.125</td> <td>   -5.673</td> <td> 0.000</td> <td> -161.270</td> <td>  -78.416</td>\n",
       "</tr>\n",
       "<tr>\n",
       "  <th>C(Hour)[T.2]</th>  <td>  -80.5772</td> <td>   22.292</td> <td>   -3.615</td> <td> 0.000</td> <td> -124.293</td> <td>  -36.862</td>\n",
       "</tr>\n",
       "<tr>\n",
       "  <th>C(Hour)[T.3]</th>  <td>  -53.9145</td> <td>   23.619</td> <td>   -2.283</td> <td> 0.023</td> <td> -100.233</td> <td>   -7.596</td>\n",
       "</tr>\n",
       "<tr>\n",
       "  <th>C(Hour)[T.4]</th>  <td>  -48.6502</td> <td>   24.454</td> <td>   -1.989</td> <td> 0.047</td> <td>  -96.607</td> <td>   -0.694</td>\n",
       "</tr>\n",
       "<tr>\n",
       "  <th>C(Hour)[T.5]</th>  <td>  -40.7493</td> <td>   24.647</td> <td>   -1.653</td> <td> 0.098</td> <td>  -89.083</td> <td>    7.585</td>\n",
       "</tr>\n",
       "<tr>\n",
       "  <th>C(Hour)[T.6]</th>  <td>  -45.7692</td> <td>   25.457</td> <td>   -1.798</td> <td> 0.072</td> <td>  -95.692</td> <td>    4.154</td>\n",
       "</tr>\n",
       "<tr>\n",
       "  <th>C(Hour)[T.7]</th>  <td>  -35.1022</td> <td>   29.997</td> <td>   -1.170</td> <td> 0.242</td> <td>  -93.930</td> <td>   23.725</td>\n",
       "</tr>\n",
       "<tr>\n",
       "  <th>C(Hour)[T.8]</th>  <td>  -47.9236</td> <td>   30.951</td> <td>   -1.548</td> <td> 0.122</td> <td> -108.621</td> <td>   12.774</td>\n",
       "</tr>\n",
       "<tr>\n",
       "  <th>C(Hour)[T.9]</th>  <td>    6.8804</td> <td>   31.397</td> <td>    0.219</td> <td> 0.827</td> <td>  -54.693</td> <td>   68.454</td>\n",
       "</tr>\n",
       "<tr>\n",
       "  <th>C(Hour)[T.10]</th> <td>   35.7873</td> <td>   31.526</td> <td>    1.135</td> <td> 0.256</td> <td>  -26.037</td> <td>   97.612</td>\n",
       "</tr>\n",
       "<tr>\n",
       "  <th>C(Hour)[T.11]</th> <td>   -4.8611</td> <td>   29.840</td> <td>   -0.163</td> <td> 0.871</td> <td>  -63.380</td> <td>   53.658</td>\n",
       "</tr>\n",
       "<tr>\n",
       "  <th>C(Hour)[T.12]</th> <td>   11.9344</td> <td>   29.039</td> <td>    0.411</td> <td> 0.681</td> <td>  -45.014</td> <td>   68.883</td>\n",
       "</tr>\n",
       "<tr>\n",
       "  <th>C(Hour)[T.13]</th> <td>  -14.7916</td> <td>   28.986</td> <td>   -0.510</td> <td> 0.610</td> <td>  -71.636</td> <td>   42.053</td>\n",
       "</tr>\n",
       "<tr>\n",
       "  <th>C(Hour)[T.14]</th> <td>   31.5266</td> <td>   29.592</td> <td>    1.065</td> <td> 0.287</td> <td>  -26.505</td> <td>   89.558</td>\n",
       "</tr>\n",
       "<tr>\n",
       "  <th>C(Hour)[T.15]</th> <td>   52.9388</td> <td>   29.705</td> <td>    1.782</td> <td> 0.075</td> <td>   -5.315</td> <td>  111.193</td>\n",
       "</tr>\n",
       "<tr>\n",
       "  <th>C(Hour)[T.16]</th> <td>   66.0308</td> <td>   29.346</td> <td>    2.250</td> <td> 0.025</td> <td>    8.481</td> <td>  123.581</td>\n",
       "</tr>\n",
       "<tr>\n",
       "  <th>C(Hour)[T.17]</th> <td>   98.1921</td> <td>   28.625</td> <td>    3.430</td> <td> 0.001</td> <td>   42.057</td> <td>  154.328</td>\n",
       "</tr>\n",
       "<tr>\n",
       "  <th>C(Hour)[T.18]</th> <td>   98.4294</td> <td>   26.895</td> <td>    3.660</td> <td> 0.000</td> <td>   45.685</td> <td>  151.174</td>\n",
       "</tr>\n",
       "<tr>\n",
       "  <th>C(Hour)[T.19]</th> <td>  124.3245</td> <td>   23.521</td> <td>    5.286</td> <td> 0.000</td> <td>   78.197</td> <td>  170.452</td>\n",
       "</tr>\n",
       "<tr>\n",
       "  <th>C(Hour)[T.20]</th> <td>  100.1563</td> <td>   23.089</td> <td>    4.338</td> <td> 0.000</td> <td>   54.878</td> <td>  145.435</td>\n",
       "</tr>\n",
       "<tr>\n",
       "  <th>C(Hour)[T.21]</th> <td>  244.3750</td> <td>   22.945</td> <td>   10.651</td> <td> 0.000</td> <td>  199.378</td> <td>  289.372</td>\n",
       "</tr>\n",
       "<tr>\n",
       "  <th>C(Hour)[T.22]</th> <td>  208.3532</td> <td>   21.997</td> <td>    9.472</td> <td> 0.000</td> <td>  165.215</td> <td>  251.492</td>\n",
       "</tr>\n",
       "<tr>\n",
       "  <th>C(Hour)[T.23]</th> <td>  245.3463</td> <td>   20.991</td> <td>   11.688</td> <td> 0.000</td> <td>  204.181</td> <td>  286.512</td>\n",
       "</tr>\n",
       "<tr>\n",
       "  <th>arrivals</th>      <td>   10.1500</td> <td>    0.644</td> <td>   15.772</td> <td> 0.000</td> <td>    8.888</td> <td>   11.412</td>\n",
       "</tr>\n",
       "<tr>\n",
       "  <th>lag1</th>          <td>   11.3252</td> <td>    0.715</td> <td>   15.837</td> <td> 0.000</td> <td>    9.923</td> <td>   12.728</td>\n",
       "</tr>\n",
       "<tr>\n",
       "  <th>lag2</th>          <td>    3.6712</td> <td>    0.731</td> <td>    5.023</td> <td> 0.000</td> <td>    2.238</td> <td>    5.104</td>\n",
       "</tr>\n",
       "<tr>\n",
       "  <th>lag3</th>          <td>    1.2403</td> <td>    0.730</td> <td>    1.698</td> <td> 0.090</td> <td>   -0.192</td> <td>    2.672</td>\n",
       "</tr>\n",
       "<tr>\n",
       "  <th>lag4</th>          <td>   -0.4001</td> <td>    0.730</td> <td>   -0.548</td> <td> 0.584</td> <td>   -1.832</td> <td>    1.031</td>\n",
       "</tr>\n",
       "<tr>\n",
       "  <th>lag5</th>          <td>    0.6380</td> <td>    0.730</td> <td>    0.874</td> <td> 0.382</td> <td>   -0.794</td> <td>    2.070</td>\n",
       "</tr>\n",
       "<tr>\n",
       "  <th>lag6</th>          <td>   -0.4759</td> <td>    0.729</td> <td>   -0.653</td> <td> 0.514</td> <td>   -1.905</td> <td>    0.953</td>\n",
       "</tr>\n",
       "<tr>\n",
       "  <th>lag7</th>          <td>   -0.0660</td> <td>    0.730</td> <td>   -0.090</td> <td> 0.928</td> <td>   -1.498</td> <td>    1.366</td>\n",
       "</tr>\n",
       "<tr>\n",
       "  <th>lag8</th>          <td>    0.2512</td> <td>    0.731</td> <td>    0.344</td> <td> 0.731</td> <td>   -1.182</td> <td>    1.684</td>\n",
       "</tr>\n",
       "<tr>\n",
       "  <th>lag9</th>          <td>    1.6439</td> <td>    0.731</td> <td>    2.248</td> <td> 0.025</td> <td>    0.210</td> <td>    3.078</td>\n",
       "</tr>\n",
       "<tr>\n",
       "  <th>lag10</th>         <td>   -0.6727</td> <td>    0.731</td> <td>   -0.920</td> <td> 0.358</td> <td>   -2.107</td> <td>    0.761</td>\n",
       "</tr>\n",
       "<tr>\n",
       "  <th>lag11</th>         <td>    0.5136</td> <td>    0.714</td> <td>    0.719</td> <td> 0.472</td> <td>   -0.887</td> <td>    1.914</td>\n",
       "</tr>\n",
       "<tr>\n",
       "  <th>lag12</th>         <td>   -0.3597</td> <td>    0.637</td> <td>   -0.564</td> <td> 0.573</td> <td>   -1.610</td> <td>    0.890</td>\n",
       "</tr>\n",
       "</table>\n",
       "<table class=\"simpletable\">\n",
       "<tr>\n",
       "  <th>Omnibus:</th>       <td>322.762</td> <th>  Durbin-Watson:     </th> <td>   0.907</td> \n",
       "</tr>\n",
       "<tr>\n",
       "  <th>Prob(Omnibus):</th> <td> 0.000</td>  <th>  Jarque-Bera (JB):  </th> <td> 872.337</td> \n",
       "</tr>\n",
       "<tr>\n",
       "  <th>Skew:</th>          <td> 0.801</td>  <th>  Prob(JB):          </th> <td>3.75e-190</td>\n",
       "</tr>\n",
       "<tr>\n",
       "  <th>Kurtosis:</th>      <td> 5.669</td>  <th>  Cond. No.          </th> <td>2.28e+03</td> \n",
       "</tr>\n",
       "</table><br/><br/>Notes:<br/>[1] Standard Errors assume that the covariance matrix of the errors is correctly specified.<br/>[2] The condition number is large, 2.28e+03. This might indicate that there are<br/>strong multicollinearity or other numerical problems."
      ],
      "text/plain": [
       "<class 'statsmodels.iolib.summary.Summary'>\n",
       "\"\"\"\n",
       "                            OLS Regression Results                            \n",
       "==============================================================================\n",
       "Dep. Variable:          vehicle_count   R-squared:                       0.900\n",
       "Model:                            OLS   Adj. R-squared:                  0.898\n",
       "Method:                 Least Squares   F-statistic:                     453.6\n",
       "Date:                Sun, 26 Dec 2021   Prob (F-statistic):               0.00\n",
       "Time:                        09:00:19   Log-Likelihood:                -13592.\n",
       "No. Observations:                2160   AIC:                         2.727e+04\n",
       "Df Residuals:                    2117   BIC:                         2.752e+04\n",
       "Df Model:                          42                                         \n",
       "Covariance Type:            nonrobust                                         \n",
       "=================================================================================\n",
       "                    coef    std err          t      P>|t|      [0.025      0.975]\n",
       "---------------------------------------------------------------------------------\n",
       "Intercept        66.1512     22.680      2.917      0.004      21.674     110.629\n",
       "C(DOW)[T.1]     -72.6308     10.635     -6.830      0.000     -93.486     -51.776\n",
       "C(DOW)[T.2]     -95.1384     10.779     -8.826      0.000    -116.277     -74.000\n",
       "C(DOW)[T.3]     -21.7931     10.596     -2.057      0.040     -42.573      -1.013\n",
       "C(DOW)[T.4]     -57.0345     10.649     -5.356      0.000     -77.918     -36.151\n",
       "C(DOW)[T.5]     -77.3302     11.643     -6.642      0.000    -100.164     -54.497\n",
       "C(DOW)[T.6]       8.2757     11.360      0.728      0.466     -14.002      30.554\n",
       "C(Hour)[T.1]   -119.8431     21.125     -5.673      0.000    -161.270     -78.416\n",
       "C(Hour)[T.2]    -80.5772     22.292     -3.615      0.000    -124.293     -36.862\n",
       "C(Hour)[T.3]    -53.9145     23.619     -2.283      0.023    -100.233      -7.596\n",
       "C(Hour)[T.4]    -48.6502     24.454     -1.989      0.047     -96.607      -0.694\n",
       "C(Hour)[T.5]    -40.7493     24.647     -1.653      0.098     -89.083       7.585\n",
       "C(Hour)[T.6]    -45.7692     25.457     -1.798      0.072     -95.692       4.154\n",
       "C(Hour)[T.7]    -35.1022     29.997     -1.170      0.242     -93.930      23.725\n",
       "C(Hour)[T.8]    -47.9236     30.951     -1.548      0.122    -108.621      12.774\n",
       "C(Hour)[T.9]      6.8804     31.397      0.219      0.827     -54.693      68.454\n",
       "C(Hour)[T.10]    35.7873     31.526      1.135      0.256     -26.037      97.612\n",
       "C(Hour)[T.11]    -4.8611     29.840     -0.163      0.871     -63.380      53.658\n",
       "C(Hour)[T.12]    11.9344     29.039      0.411      0.681     -45.014      68.883\n",
       "C(Hour)[T.13]   -14.7916     28.986     -0.510      0.610     -71.636      42.053\n",
       "C(Hour)[T.14]    31.5266     29.592      1.065      0.287     -26.505      89.558\n",
       "C(Hour)[T.15]    52.9388     29.705      1.782      0.075      -5.315     111.193\n",
       "C(Hour)[T.16]    66.0308     29.346      2.250      0.025       8.481     123.581\n",
       "C(Hour)[T.17]    98.1921     28.625      3.430      0.001      42.057     154.328\n",
       "C(Hour)[T.18]    98.4294     26.895      3.660      0.000      45.685     151.174\n",
       "C(Hour)[T.19]   124.3245     23.521      5.286      0.000      78.197     170.452\n",
       "C(Hour)[T.20]   100.1563     23.089      4.338      0.000      54.878     145.435\n",
       "C(Hour)[T.21]   244.3750     22.945     10.651      0.000     199.378     289.372\n",
       "C(Hour)[T.22]   208.3532     21.997      9.472      0.000     165.215     251.492\n",
       "C(Hour)[T.23]   245.3463     20.991     11.688      0.000     204.181     286.512\n",
       "arrivals         10.1500      0.644     15.772      0.000       8.888      11.412\n",
       "lag1             11.3252      0.715     15.837      0.000       9.923      12.728\n",
       "lag2              3.6712      0.731      5.023      0.000       2.238       5.104\n",
       "lag3              1.2403      0.730      1.698      0.090      -0.192       2.672\n",
       "lag4             -0.4001      0.730     -0.548      0.584      -1.832       1.031\n",
       "lag5              0.6380      0.730      0.874      0.382      -0.794       2.070\n",
       "lag6             -0.4759      0.729     -0.653      0.514      -1.905       0.953\n",
       "lag7             -0.0660      0.730     -0.090      0.928      -1.498       1.366\n",
       "lag8              0.2512      0.731      0.344      0.731      -1.182       1.684\n",
       "lag9              1.6439      0.731      2.248      0.025       0.210       3.078\n",
       "lag10            -0.6727      0.731     -0.920      0.358      -2.107       0.761\n",
       "lag11             0.5136      0.714      0.719      0.472      -0.887       1.914\n",
       "lag12            -0.3597      0.637     -0.564      0.573      -1.610       0.890\n",
       "==============================================================================\n",
       "Omnibus:                      322.762   Durbin-Watson:                   0.907\n",
       "Prob(Omnibus):                  0.000   Jarque-Bera (JB):              872.337\n",
       "Skew:                           0.801   Prob(JB):                    3.75e-190\n",
       "Kurtosis:                       5.669   Cond. No.                     2.28e+03\n",
       "==============================================================================\n",
       "\n",
       "Notes:\n",
       "[1] Standard Errors assume that the covariance matrix of the errors is correctly specified.\n",
       "[2] The condition number is large, 2.28e+03. This might indicate that there are\n",
       "strong multicollinearity or other numerical problems.\n",
       "\"\"\""
      ]
     },
     "execution_count": 37,
     "metadata": {},
     "output_type": "execute_result"
    }
   ],
   "source": [
    "lm3=smf.ols(formula = 'vehicle_count ~ arrivals +' + ' + '.join(LAGS) + '+ C(DOW) + C(Hour)', data = train).fit()\n",
    "lm3.summary()"
   ]
  },
  {
   "cell_type": "code",
   "execution_count": 38,
   "metadata": {},
   "outputs": [
    {
     "data": {
      "text/plain": [
       "Index(['Intercept', 'C(DOW)[T.1]', 'C(DOW)[T.2]', 'C(DOW)[T.3]', 'C(DOW)[T.4]',\n",
       "       'C(DOW)[T.5]', 'C(Hour)[T.1]', 'C(Hour)[T.2]', 'C(Hour)[T.3]',\n",
       "       'C(Hour)[T.4]', 'C(Hour)[T.16]', 'C(Hour)[T.17]', 'C(Hour)[T.18]',\n",
       "       'C(Hour)[T.19]', 'C(Hour)[T.20]', 'C(Hour)[T.21]', 'C(Hour)[T.22]',\n",
       "       'C(Hour)[T.23]', 'arrivals', 'lag1', 'lag2', 'lag9'],\n",
       "      dtype='object')"
      ]
     },
     "execution_count": 38,
     "metadata": {},
     "output_type": "execute_result"
    }
   ],
   "source": [
    "lm3.pvalues.index[lm3.pvalues<0.05]"
   ]
  },
  {
   "cell_type": "markdown",
   "metadata": {},
   "source": [
    "### Q5 (8pts, no penalty if students got different results, but no points if students failed to complete 12 models). Perform feature selection for lag variables\n",
    "As you may see not all the lag variables have a statistically significant impact on the regression. Maybe some of them are not really relevant?\n",
    "Try different amounts of lag variables m=0,1,...,12 (include m most recent arrival volumes/lags) using a loop for training the above regression over the training sample, report and plot the out-of-sample R2 over the validation sample as the function of m and pick the m which maximizes it. Evaluate the final regression over the test sample."
   ]
  },
  {
   "cell_type": "code",
   "execution_count": 39,
   "metadata": {
    "scrolled": false
   },
   "outputs": [
    {
     "name": "stdout",
     "output_type": "stream",
     "text": [
      "0.7421703616031587 vehicle_count ~ arrivals+Hour+DOW\n",
      "0.826306849890811 vehicle_count ~ arrivals+Hour+DOW+lag1\n",
      "0.8340068232765722 vehicle_count ~ arrivals+Hour+DOW+lag1+lag2\n",
      "0.8326686200403772 vehicle_count ~ arrivals+Hour+DOW+lag1+lag2+lag3\n",
      "0.8326730050082604 vehicle_count ~ arrivals+Hour+DOW+lag1+lag2+lag3+lag4\n",
      "0.8326045787228709 vehicle_count ~ arrivals+Hour+DOW+lag1+lag2+lag3+lag4+lag5\n",
      "0.8328103906429498 vehicle_count ~ arrivals+Hour+DOW+lag1+lag2+lag3+lag4+lag5+lag6\n",
      "0.8349429653336038 vehicle_count ~ arrivals+Hour+DOW+lag1+lag2+lag3+lag4+lag5+lag6+lag7\n",
      "0.8371959912837339 vehicle_count ~ arrivals+Hour+DOW+lag1+lag2+lag3+lag4+lag5+lag6+lag7+lag8\n",
      "0.8387567328117791 vehicle_count ~ arrivals+Hour+DOW+lag1+lag2+lag3+lag4+lag5+lag6+lag7+lag8+lag9\n",
      "0.8387938253018106 vehicle_count ~ arrivals+Hour+DOW+lag1+lag2+lag3+lag4+lag5+lag6+lag7+lag8+lag9+lag10\n",
      "0.8393249515365606 vehicle_count ~ arrivals+Hour+DOW+lag1+lag2+lag3+lag4+lag5+lag6+lag7+lag8+lag9+lag10+lag11\n"
     ]
    }
   ],
   "source": [
    "R2=[]\n",
    "columns = ['arrivals','Hour','DOW']\n",
    "for i in range(0,12):\n",
    "    if(i>=1):\n",
    "        columns.append(\"lag%d\"%i)\n",
    "    formula='vehicle_count ~ '+'+'.join(columns);\n",
    "    lm = smf.ols(formula = formula, data = train).fit()\n",
    "    r2 = r2_score(valid.vehicle_count,lm.predict(valid))\n",
    "    R2.append(r2)\n",
    "    print(r2, formula)"
   ]
  },
  {
   "cell_type": "code",
   "execution_count": 40,
   "metadata": {},
   "outputs": [
    {
     "data": {
      "text/plain": [
       "11"
      ]
     },
     "execution_count": 40,
     "metadata": {},
     "output_type": "execute_result"
    }
   ],
   "source": [
    "m=R2.index(max(R2));m"
   ]
  },
  {
   "cell_type": "markdown",
   "metadata": {},
   "source": [
    "<span style=\"color:red;font-size:18pt\">m = 11 has the largest r2</span>"
   ]
  },
  {
   "cell_type": "code",
   "execution_count": 41,
   "metadata": {},
   "outputs": [
    {
     "name": "stdout",
     "output_type": "stream",
     "text": [
      "test R2:  0.8214008910404746\n"
     ]
    }
   ],
   "source": [
    "lm4 = smf.ols(formula = 'vehicle_count~arrivals+'+'+'.join(LAGS[:m])+'+C(Hour)+C(DOW)', data = train).fit()\n",
    "pred = lm4.predict(test)\n",
    "r2 = r2_score(test.vehicle_count, pred)\n",
    "print(\"test R2: \", r2)"
   ]
  },
  {
   "cell_type": "markdown",
   "metadata": {},
   "source": [
    "### Q6 (9pts, 3 pts for each figure). Visualize temporal patterns and lag impacts through bar plots\n",
    "For the best regression above, visualize:\n",
    "- bar plot of hour vs its impact coefficient\n",
    "- bar plot of day of the week vs its impact coefficient\n",
    "- bar plot of the lag (0 for immediate arrivals, 1,2,... for lags)"
   ]
  },
  {
   "cell_type": "code",
   "execution_count": 42,
   "metadata": {
    "scrolled": true
   },
   "outputs": [
    {
     "data": {
      "text/plain": [
       "<BarContainer object of 23 artists>"
      ]
     },
     "execution_count": 42,
     "metadata": {},
     "output_type": "execute_result"
    },
    {
     "data": {
      "image/png": "[encoded data removed]",
      "text/plain": [
       "<Figure size 432x288 with 1 Axes>"
      ]
     },
     "metadata": {
      "needs_background": "light"
     },
     "output_type": "display_data"
    }
   ],
   "source": [
    "plt.bar(range(1,24),lm4.params[1:24])"
   ]
  },
  {
   "cell_type": "code",
   "execution_count": 43,
   "metadata": {},
   "outputs": [
    {
     "data": {
      "text/plain": [
       "<BarContainer object of 6 artists>"
      ]
     },
     "execution_count": 43,
     "metadata": {},
     "output_type": "execute_result"
    },
    {
     "data": {
      "image/png": "[encoded data removed]",
      "text/plain": [
       "<Figure size 432x288 with 1 Axes>"
      ]
     },
     "metadata": {
      "needs_background": "light"
     },
     "output_type": "display_data"
    }
   ],
   "source": [
    "plt.bar(WEEK[1:],lm4.params[24:30])"
   ]
  },
  {
   "cell_type": "code",
   "execution_count": 44,
   "metadata": {
    "scrolled": false
   },
   "outputs": [
    {
     "data": {
      "text/plain": [
       "<BarContainer object of 11 artists>"
      ]
     },
     "execution_count": 44,
     "metadata": {},
     "output_type": "execute_result"
    },
    {
     "data": {
      "image/png": "[encoded data removed]",
      "text/plain": [
       "<Figure size 432x288 with 1 Axes>"
      ]
     },
     "metadata": {
      "needs_background": "light"
     },
     "output_type": "display_data"
    }
   ],
   "source": [
    "plt.bar(LAGS[:m],lm4.params[31:])"
   ]
  },
  {
   "cell_type": "markdown",
   "metadata": {},
   "source": [
    "## Task 5. Cluster the days of the year based on the relative timeline of their taxi departures from the airport"
   ]
  },
  {
   "cell_type": "markdown",
   "metadata": {},
   "source": [
    "### Q1 (3pts). From the entire `dataset`, create a dataframe with days as rows, hours as columns, and taxi ridership as values (feel free to use pd.pivot_table). Normalize each row by the total daily ridership"
   ]
  },
  {
   "cell_type": "code",
   "execution_count": 45,
   "metadata": {
    "scrolled": false
   },
   "outputs": [
    {
     "data": {
      "text/html": [
       "<div>\n",
       "<style scoped>\n",
       "    .dataframe tbody tr th:only-of-type {\n",
       "        vertical-align: middle;\n",
       "    }\n",
       "\n",
       "    .dataframe tbody tr th {\n",
       "        vertical-align: top;\n",
       "    }\n",
       "\n",
       "    .dataframe thead th {\n",
       "        text-align: right;\n",
       "    }\n",
       "</style>\n",
       "<table border=\"1\" class=\"dataframe\">\n",
       "  <thead>\n",
       "    <tr style=\"text-align: right;\">\n",
       "      <th></th>\n",
       "      <th>0</th>\n",
       "      <th>1</th>\n",
       "      <th>2</th>\n",
       "      <th>3</th>\n",
       "      <th>4</th>\n",
       "      <th>5</th>\n",
       "      <th>6</th>\n",
       "      <th>7</th>\n",
       "      <th>8</th>\n",
       "      <th>9</th>\n",
       "      <th>...</th>\n",
       "      <th>14</th>\n",
       "      <th>15</th>\n",
       "      <th>16</th>\n",
       "      <th>17</th>\n",
       "      <th>18</th>\n",
       "      <th>19</th>\n",
       "      <th>20</th>\n",
       "      <th>21</th>\n",
       "      <th>22</th>\n",
       "      <th>23</th>\n",
       "    </tr>\n",
       "    <tr>\n",
       "      <th>day</th>\n",
       "      <th></th>\n",
       "      <th></th>\n",
       "      <th></th>\n",
       "      <th></th>\n",
       "      <th></th>\n",
       "      <th></th>\n",
       "      <th></th>\n",
       "      <th></th>\n",
       "      <th></th>\n",
       "      <th></th>\n",
       "      <th></th>\n",
       "      <th></th>\n",
       "      <th></th>\n",
       "      <th></th>\n",
       "      <th></th>\n",
       "      <th></th>\n",
       "      <th></th>\n",
       "      <th></th>\n",
       "      <th></th>\n",
       "      <th></th>\n",
       "      <th></th>\n",
       "    </tr>\n",
       "  </thead>\n",
       "  <tbody>\n",
       "    <tr>\n",
       "      <th>0</th>\n",
       "      <td>0.011312</td>\n",
       "      <td>0.001832</td>\n",
       "      <td>0.000159</td>\n",
       "      <td>0.000080</td>\n",
       "      <td>0.001036</td>\n",
       "      <td>0.001036</td>\n",
       "      <td>0.001195</td>\n",
       "      <td>0.003664</td>\n",
       "      <td>0.019756</td>\n",
       "      <td>0.035290</td>\n",
       "      <td>...</td>\n",
       "      <td>0.060942</td>\n",
       "      <td>0.068908</td>\n",
       "      <td>0.061818</td>\n",
       "      <td>0.094161</td>\n",
       "      <td>0.064048</td>\n",
       "      <td>0.060942</td>\n",
       "      <td>0.059269</td>\n",
       "      <td>0.081654</td>\n",
       "      <td>0.095276</td>\n",
       "      <td>0.085956</td>\n",
       "    </tr>\n",
       "    <tr>\n",
       "      <th>1</th>\n",
       "      <td>0.053023</td>\n",
       "      <td>0.003352</td>\n",
       "      <td>0.001877</td>\n",
       "      <td>0.000134</td>\n",
       "      <td>0.000335</td>\n",
       "      <td>0.001073</td>\n",
       "      <td>0.001609</td>\n",
       "      <td>0.020177</td>\n",
       "      <td>0.036868</td>\n",
       "      <td>0.074876</td>\n",
       "      <td>...</td>\n",
       "      <td>0.059794</td>\n",
       "      <td>0.043572</td>\n",
       "      <td>0.054967</td>\n",
       "      <td>0.062140</td>\n",
       "      <td>0.065625</td>\n",
       "      <td>0.063011</td>\n",
       "      <td>0.054364</td>\n",
       "      <td>0.070251</td>\n",
       "      <td>0.069312</td>\n",
       "      <td>0.049269</td>\n",
       "    </tr>\n",
       "    <tr>\n",
       "      <th>2</th>\n",
       "      <td>0.055675</td>\n",
       "      <td>0.025525</td>\n",
       "      <td>0.001982</td>\n",
       "      <td>0.000248</td>\n",
       "      <td>0.000661</td>\n",
       "      <td>0.000991</td>\n",
       "      <td>0.003635</td>\n",
       "      <td>0.014538</td>\n",
       "      <td>0.043863</td>\n",
       "      <td>0.064183</td>\n",
       "      <td>...</td>\n",
       "      <td>0.057823</td>\n",
       "      <td>0.056831</td>\n",
       "      <td>0.074922</td>\n",
       "      <td>0.083512</td>\n",
       "      <td>0.071948</td>\n",
       "      <td>0.058896</td>\n",
       "      <td>0.041880</td>\n",
       "      <td>0.039650</td>\n",
       "      <td>0.046754</td>\n",
       "      <td>0.024864</td>\n",
       "    </tr>\n",
       "    <tr>\n",
       "      <th>3</th>\n",
       "      <td>0.248316</td>\n",
       "      <td>0.009259</td>\n",
       "      <td>0.001684</td>\n",
       "      <td>0.000842</td>\n",
       "      <td>0.008418</td>\n",
       "      <td>0.012626</td>\n",
       "      <td>0.036195</td>\n",
       "      <td>0.026094</td>\n",
       "      <td>0.026936</td>\n",
       "      <td>0.024411</td>\n",
       "      <td>...</td>\n",
       "      <td>0.057239</td>\n",
       "      <td>0.067340</td>\n",
       "      <td>0.033670</td>\n",
       "      <td>0.037879</td>\n",
       "      <td>0.024411</td>\n",
       "      <td>0.023569</td>\n",
       "      <td>0.017677</td>\n",
       "      <td>0.026936</td>\n",
       "      <td>0.031145</td>\n",
       "      <td>0.060606</td>\n",
       "    </tr>\n",
       "    <tr>\n",
       "      <th>4</th>\n",
       "      <td>0.033489</td>\n",
       "      <td>0.014192</td>\n",
       "      <td>0.002510</td>\n",
       "      <td>0.001298</td>\n",
       "      <td>0.000606</td>\n",
       "      <td>0.001211</td>\n",
       "      <td>0.003115</td>\n",
       "      <td>0.007961</td>\n",
       "      <td>0.007702</td>\n",
       "      <td>0.020076</td>\n",
       "      <td>...</td>\n",
       "      <td>0.051142</td>\n",
       "      <td>0.058757</td>\n",
       "      <td>0.062565</td>\n",
       "      <td>0.076411</td>\n",
       "      <td>0.076324</td>\n",
       "      <td>0.082208</td>\n",
       "      <td>0.077362</td>\n",
       "      <td>0.091295</td>\n",
       "      <td>0.065853</td>\n",
       "      <td>0.082814</td>\n",
       "    </tr>\n",
       "    <tr>\n",
       "      <th>...</th>\n",
       "      <td>...</td>\n",
       "      <td>...</td>\n",
       "      <td>...</td>\n",
       "      <td>...</td>\n",
       "      <td>...</td>\n",
       "      <td>...</td>\n",
       "      <td>...</td>\n",
       "      <td>...</td>\n",
       "      <td>...</td>\n",
       "      <td>...</td>\n",
       "      <td>...</td>\n",
       "      <td>...</td>\n",
       "      <td>...</td>\n",
       "      <td>...</td>\n",
       "      <td>...</td>\n",
       "      <td>...</td>\n",
       "      <td>...</td>\n",
       "      <td>...</td>\n",
       "      <td>...</td>\n",
       "      <td>...</td>\n",
       "      <td>...</td>\n",
       "    </tr>\n",
       "    <tr>\n",
       "      <th>360</th>\n",
       "      <td>0.038981</td>\n",
       "      <td>0.008450</td>\n",
       "      <td>0.003544</td>\n",
       "      <td>0.000204</td>\n",
       "      <td>0.000273</td>\n",
       "      <td>0.001159</td>\n",
       "      <td>0.004089</td>\n",
       "      <td>0.011858</td>\n",
       "      <td>0.047295</td>\n",
       "      <td>0.058812</td>\n",
       "      <td>...</td>\n",
       "      <td>0.058539</td>\n",
       "      <td>0.065967</td>\n",
       "      <td>0.054927</td>\n",
       "      <td>0.067943</td>\n",
       "      <td>0.075508</td>\n",
       "      <td>0.077416</td>\n",
       "      <td>0.062355</td>\n",
       "      <td>0.041093</td>\n",
       "      <td>0.064195</td>\n",
       "      <td>0.045318</td>\n",
       "    </tr>\n",
       "    <tr>\n",
       "      <th>361</th>\n",
       "      <td>0.028664</td>\n",
       "      <td>0.040007</td>\n",
       "      <td>0.023785</td>\n",
       "      <td>0.004025</td>\n",
       "      <td>0.000854</td>\n",
       "      <td>0.000915</td>\n",
       "      <td>0.003964</td>\n",
       "      <td>0.012197</td>\n",
       "      <td>0.032689</td>\n",
       "      <td>0.046899</td>\n",
       "      <td>...</td>\n",
       "      <td>0.057998</td>\n",
       "      <td>0.059584</td>\n",
       "      <td>0.059950</td>\n",
       "      <td>0.058913</td>\n",
       "      <td>0.065561</td>\n",
       "      <td>0.061170</td>\n",
       "      <td>0.055315</td>\n",
       "      <td>0.071172</td>\n",
       "      <td>0.074038</td>\n",
       "      <td>0.043971</td>\n",
       "    </tr>\n",
       "    <tr>\n",
       "      <th>362</th>\n",
       "      <td>0.045037</td>\n",
       "      <td>0.009984</td>\n",
       "      <td>0.000287</td>\n",
       "      <td>0.000431</td>\n",
       "      <td>0.000359</td>\n",
       "      <td>0.002155</td>\n",
       "      <td>0.004597</td>\n",
       "      <td>0.008763</td>\n",
       "      <td>0.033329</td>\n",
       "      <td>0.043313</td>\n",
       "      <td>...</td>\n",
       "      <td>0.047694</td>\n",
       "      <td>0.070033</td>\n",
       "      <td>0.060623</td>\n",
       "      <td>0.062994</td>\n",
       "      <td>0.073696</td>\n",
       "      <td>0.068525</td>\n",
       "      <td>0.077719</td>\n",
       "      <td>0.075277</td>\n",
       "      <td>0.050998</td>\n",
       "      <td>0.054949</td>\n",
       "    </tr>\n",
       "    <tr>\n",
       "      <th>363</th>\n",
       "      <td>0.022738</td>\n",
       "      <td>0.006516</td>\n",
       "      <td>0.000066</td>\n",
       "      <td>0.000199</td>\n",
       "      <td>0.000864</td>\n",
       "      <td>0.000665</td>\n",
       "      <td>0.004388</td>\n",
       "      <td>0.007579</td>\n",
       "      <td>0.041287</td>\n",
       "      <td>0.050927</td>\n",
       "      <td>...</td>\n",
       "      <td>0.057044</td>\n",
       "      <td>0.062097</td>\n",
       "      <td>0.064557</td>\n",
       "      <td>0.066817</td>\n",
       "      <td>0.062695</td>\n",
       "      <td>0.090154</td>\n",
       "      <td>0.056845</td>\n",
       "      <td>0.066751</td>\n",
       "      <td>0.058839</td>\n",
       "      <td>0.061033</td>\n",
       "    </tr>\n",
       "    <tr>\n",
       "      <th>364</th>\n",
       "      <td>0.031319</td>\n",
       "      <td>0.001282</td>\n",
       "      <td>0.000458</td>\n",
       "      <td>0.000183</td>\n",
       "      <td>0.000366</td>\n",
       "      <td>0.001099</td>\n",
       "      <td>0.001557</td>\n",
       "      <td>0.010440</td>\n",
       "      <td>0.044872</td>\n",
       "      <td>0.059524</td>\n",
       "      <td>...</td>\n",
       "      <td>0.074267</td>\n",
       "      <td>0.077564</td>\n",
       "      <td>0.054762</td>\n",
       "      <td>0.078022</td>\n",
       "      <td>0.077015</td>\n",
       "      <td>0.042766</td>\n",
       "      <td>0.054853</td>\n",
       "      <td>0.035165</td>\n",
       "      <td>0.037546</td>\n",
       "      <td>0.048626</td>\n",
       "    </tr>\n",
       "  </tbody>\n",
       "</table>\n",
       "<p>365 rows × 24 columns</p>\n",
       "</div>"
      ],
      "text/plain": [
       "           0         1         2         3         4         5         6   \\\n",
       "day                                                                         \n",
       "0    0.011312  0.001832  0.000159  0.000080  0.001036  0.001036  0.001195   \n",
       "1    0.053023  0.003352  0.001877  0.000134  0.000335  0.001073  0.001609   \n",
       "2    0.055675  0.025525  0.001982  0.000248  0.000661  0.000991  0.003635   \n",
       "3    0.248316  0.009259  0.001684  0.000842  0.008418  0.012626  0.036195   \n",
       "4    0.033489  0.014192  0.002510  0.001298  0.000606  0.001211  0.003115   \n",
       "..        ...       ...       ...       ...       ...       ...       ...   \n",
       "360  0.038981  0.008450  0.003544  0.000204  0.000273  0.001159  0.004089   \n",
       "361  0.028664  0.040007  0.023785  0.004025  0.000854  0.000915  0.003964   \n",
       "362  0.045037  0.009984  0.000287  0.000431  0.000359  0.002155  0.004597   \n",
       "363  0.022738  0.006516  0.000066  0.000199  0.000864  0.000665  0.004388   \n",
       "364  0.031319  0.001282  0.000458  0.000183  0.000366  0.001099  0.001557   \n",
       "\n",
       "           7         8         9   ...        14        15        16  \\\n",
       "day                                ...                                 \n",
       "0    0.003664  0.019756  0.035290  ...  0.060942  0.068908  0.061818   \n",
       "1    0.020177  0.036868  0.074876  ...  0.059794  0.043572  0.054967   \n",
       "2    0.014538  0.043863  0.064183  ...  0.057823  0.056831  0.074922   \n",
       "3    0.026094  0.026936  0.024411  ...  0.057239  0.067340  0.033670   \n",
       "4    0.007961  0.007702  0.020076  ...  0.051142  0.058757  0.062565   \n",
       "..        ...       ...       ...  ...       ...       ...       ...   \n",
       "360  0.011858  0.047295  0.058812  ...  0.058539  0.065967  0.054927   \n",
       "361  0.012197  0.032689  0.046899  ...  0.057998  0.059584  0.059950   \n",
       "362  0.008763  0.033329  0.043313  ...  0.047694  0.070033  0.060623   \n",
       "363  0.007579  0.041287  0.050927  ...  0.057044  0.062097  0.064557   \n",
       "364  0.010440  0.044872  0.059524  ...  0.074267  0.077564  0.054762   \n",
       "\n",
       "           17        18        19        20        21        22        23  \n",
       "day                                                                        \n",
       "0    0.094161  0.064048  0.060942  0.059269  0.081654  0.095276  0.085956  \n",
       "1    0.062140  0.065625  0.063011  0.054364  0.070251  0.069312  0.049269  \n",
       "2    0.083512  0.071948  0.058896  0.041880  0.039650  0.046754  0.024864  \n",
       "3    0.037879  0.024411  0.023569  0.017677  0.026936  0.031145  0.060606  \n",
       "4    0.076411  0.076324  0.082208  0.077362  0.091295  0.065853  0.082814  \n",
       "..        ...       ...       ...       ...       ...       ...       ...  \n",
       "360  0.067943  0.075508  0.077416  0.062355  0.041093  0.064195  0.045318  \n",
       "361  0.058913  0.065561  0.061170  0.055315  0.071172  0.074038  0.043971  \n",
       "362  0.062994  0.073696  0.068525  0.077719  0.075277  0.050998  0.054949  \n",
       "363  0.066817  0.062695  0.090154  0.056845  0.066751  0.058839  0.061033  \n",
       "364  0.078022  0.077015  0.042766  0.054853  0.035165  0.037546  0.048626  \n",
       "\n",
       "[365 rows x 24 columns]"
      ]
     },
     "execution_count": 45,
     "metadata": {},
     "output_type": "execute_result"
    }
   ],
   "source": [
    "table = pd.pivot_table(df[['Hour','day', 'vehicle_count']], index='day', columns='Hour')\n",
    "table.columns = list(range(0,24))\n",
    "table = table.div(table.sum(axis=1), axis=0)\n",
    "table"
   ]
  },
  {
   "cell_type": "markdown",
   "metadata": {},
   "source": [
    "### Q2 (8pts, no penalty if students got different results, but no points if the silhoutte score from different clusters are missing). Try K-means with different numbers of clusters k=2..7, reporting average Silhouette score for each. Which k is the \"optimal\" from Silhouette's standpoint?"
   ]
  },
  {
   "cell_type": "code",
   "execution_count": 46,
   "metadata": {},
   "outputs": [
    {
     "name": "stdout",
     "output_type": "stream",
     "text": [
      "For n_clusters =2, the average silhouette_score is :0.1892982498549995\n",
      "For n_clusters =3, the average silhouette_score is :0.22324051576230963\n",
      "For n_clusters =4, the average silhouette_score is :0.23329518409569272\n",
      "For n_clusters =5, the average silhouette_score is :0.22514662772630323\n",
      "For n_clusters =6, the average silhouette_score is :0.1760282734467836\n",
      "For n_clusters =7, the average silhouette_score is :0.17725740332000375\n"
     ]
    }
   ],
   "source": [
    "range_n_clusters = [2, 3, 4, 5, 6, 7]\n",
    "for n_clusters in range_n_clusters: #try different numbers of clusters\n",
    "    km = KMeans(n_clusters=n_clusters, random_state=324)\n",
    "    cluster_labels = km.fit_predict(table)\n",
    "    #report average Silhouette score\n",
    "    silhouette_avg = silhouette_score(table, cluster_labels)\n",
    "    print(\"For n_clusters ={},\".format(n_clusters)+\" the average silhouette_score is :{}\".format(silhouette_avg))"
   ]
  },
  {
   "cell_type": "markdown",
   "metadata": {},
   "source": [
    "<span style=\"color:red;font-size:18pt\">the highest one is acheived for k=4</span>"
   ]
  },
  {
   "cell_type": "markdown",
   "metadata": {},
   "source": [
    "### Q3 (10pts, 3 pts for data processing, 7 for the pivot table). Perform K-means with the optimal k from above. Report the number of occurrences of each day of the week within each of the clusters. How would you interpret the clusters based on that? Visualize the aggregated hourly timeline over all the days within each cluster.\n",
    "Create a dictionary of the cluster numbers corresponding to each day of the year, apply it adding a column \"cluster\" to the dataframe, and use pivot table with aggregation function `count` to collect the numbers above. Also, use the pivot table to collect total riders per hour of the day within each cluster for further visualization (after appropriate normalization by the grand total)."
   ]
  },
  {
   "cell_type": "code",
   "execution_count": 47,
   "metadata": {
    "scrolled": true
   },
   "outputs": [
    {
     "data": {
      "text/html": [
       "<div>\n",
       "<style scoped>\n",
       "    .dataframe tbody tr th:only-of-type {\n",
       "        vertical-align: middle;\n",
       "    }\n",
       "\n",
       "    .dataframe tbody tr th {\n",
       "        vertical-align: top;\n",
       "    }\n",
       "\n",
       "    .dataframe thead th {\n",
       "        text-align: right;\n",
       "    }\n",
       "</style>\n",
       "<table border=\"1\" class=\"dataframe\">\n",
       "  <thead>\n",
       "    <tr style=\"text-align: right;\">\n",
       "      <th></th>\n",
       "      <th>Date</th>\n",
       "      <th>arrivals</th>\n",
       "      <th>Hour</th>\n",
       "      <th>vehicle_count</th>\n",
       "      <th>lag1</th>\n",
       "      <th>lag2</th>\n",
       "      <th>lag3</th>\n",
       "      <th>lag4</th>\n",
       "      <th>lag5</th>\n",
       "      <th>lag6</th>\n",
       "      <th>lag7</th>\n",
       "      <th>lag8</th>\n",
       "      <th>lag9</th>\n",
       "      <th>lag10</th>\n",
       "      <th>lag11</th>\n",
       "      <th>lag12</th>\n",
       "      <th>DOW</th>\n",
       "      <th>month</th>\n",
       "      <th>day</th>\n",
       "      <th>Cluster</th>\n",
       "    </tr>\n",
       "  </thead>\n",
       "  <tbody>\n",
       "    <tr>\n",
       "      <th>0</th>\n",
       "      <td>2018-01-01 00:00:00</td>\n",
       "      <td>3</td>\n",
       "      <td>0</td>\n",
       "      <td>142.0</td>\n",
       "      <td>0</td>\n",
       "      <td>0</td>\n",
       "      <td>0</td>\n",
       "      <td>0</td>\n",
       "      <td>0</td>\n",
       "      <td>0</td>\n",
       "      <td>0</td>\n",
       "      <td>0</td>\n",
       "      <td>0</td>\n",
       "      <td>0</td>\n",
       "      <td>0</td>\n",
       "      <td>0</td>\n",
       "      <td>0</td>\n",
       "      <td>1</td>\n",
       "      <td>0</td>\n",
       "      <td>0</td>\n",
       "    </tr>\n",
       "    <tr>\n",
       "      <th>1</th>\n",
       "      <td>2018-01-01 01:00:00</td>\n",
       "      <td>0</td>\n",
       "      <td>1</td>\n",
       "      <td>23.0</td>\n",
       "      <td>3</td>\n",
       "      <td>0</td>\n",
       "      <td>0</td>\n",
       "      <td>0</td>\n",
       "      <td>0</td>\n",
       "      <td>0</td>\n",
       "      <td>0</td>\n",
       "      <td>0</td>\n",
       "      <td>0</td>\n",
       "      <td>0</td>\n",
       "      <td>0</td>\n",
       "      <td>0</td>\n",
       "      <td>0</td>\n",
       "      <td>1</td>\n",
       "      <td>0</td>\n",
       "      <td>0</td>\n",
       "    </tr>\n",
       "    <tr>\n",
       "      <th>2</th>\n",
       "      <td>2018-01-01 02:00:00</td>\n",
       "      <td>1</td>\n",
       "      <td>2</td>\n",
       "      <td>2.0</td>\n",
       "      <td>0</td>\n",
       "      <td>3</td>\n",
       "      <td>0</td>\n",
       "      <td>0</td>\n",
       "      <td>0</td>\n",
       "      <td>0</td>\n",
       "      <td>0</td>\n",
       "      <td>0</td>\n",
       "      <td>0</td>\n",
       "      <td>0</td>\n",
       "      <td>0</td>\n",
       "      <td>0</td>\n",
       "      <td>0</td>\n",
       "      <td>1</td>\n",
       "      <td>0</td>\n",
       "      <td>0</td>\n",
       "    </tr>\n",
       "    <tr>\n",
       "      <th>3</th>\n",
       "      <td>2018-01-01 03:00:00</td>\n",
       "      <td>0</td>\n",
       "      <td>3</td>\n",
       "      <td>1.0</td>\n",
       "      <td>1</td>\n",
       "      <td>0</td>\n",
       "      <td>3</td>\n",
       "      <td>0</td>\n",
       "      <td>0</td>\n",
       "      <td>0</td>\n",
       "      <td>0</td>\n",
       "      <td>0</td>\n",
       "      <td>0</td>\n",
       "      <td>0</td>\n",
       "      <td>0</td>\n",
       "      <td>0</td>\n",
       "      <td>0</td>\n",
       "      <td>1</td>\n",
       "      <td>0</td>\n",
       "      <td>0</td>\n",
       "    </tr>\n",
       "    <tr>\n",
       "      <th>4</th>\n",
       "      <td>2018-01-01 04:00:00</td>\n",
       "      <td>0</td>\n",
       "      <td>4</td>\n",
       "      <td>13.0</td>\n",
       "      <td>0</td>\n",
       "      <td>1</td>\n",
       "      <td>0</td>\n",
       "      <td>3</td>\n",
       "      <td>0</td>\n",
       "      <td>0</td>\n",
       "      <td>0</td>\n",
       "      <td>0</td>\n",
       "      <td>0</td>\n",
       "      <td>0</td>\n",
       "      <td>0</td>\n",
       "      <td>0</td>\n",
       "      <td>0</td>\n",
       "      <td>1</td>\n",
       "      <td>0</td>\n",
       "      <td>0</td>\n",
       "    </tr>\n",
       "  </tbody>\n",
       "</table>\n",
       "</div>"
      ],
      "text/plain": [
       "                 Date  arrivals  Hour  vehicle_count  lag1  lag2  lag3  lag4  \\\n",
       "0 2018-01-01 00:00:00         3     0          142.0     0     0     0     0   \n",
       "1 2018-01-01 01:00:00         0     1           23.0     3     0     0     0   \n",
       "2 2018-01-01 02:00:00         1     2            2.0     0     3     0     0   \n",
       "3 2018-01-01 03:00:00         0     3            1.0     1     0     3     0   \n",
       "4 2018-01-01 04:00:00         0     4           13.0     0     1     0     3   \n",
       "\n",
       "   lag5  lag6  lag7  lag8  lag9  lag10  lag11  lag12  DOW  month  day  Cluster  \n",
       "0     0     0     0     0     0      0      0      0    0      1    0        0  \n",
       "1     0     0     0     0     0      0      0      0    0      1    0        0  \n",
       "2     0     0     0     0     0      0      0      0    0      1    0        0  \n",
       "3     0     0     0     0     0      0      0      0    0      1    0        0  \n",
       "4     0     0     0     0     0      0      0      0    0      1    0        0  "
      ]
     },
     "execution_count": 47,
     "metadata": {},
     "output_type": "execute_result"
    }
   ],
   "source": [
    "km = KMeans(n_clusters=4, random_state=324)\n",
    "cluster_labels = km.fit_predict(table)\n",
    "dayCluster={i:cluster_labels[i] for i in range(len(cluster_labels))}\n",
    "df['Cluster']=df.day.map(dayCluster)\n",
    "df.head()"
   ]
  },
  {
   "cell_type": "code",
   "execution_count": 48,
   "metadata": {},
   "outputs": [
    {
     "data": {
      "text/html": [
       "<div>\n",
       "<style scoped>\n",
       "    .dataframe tbody tr th:only-of-type {\n",
       "        vertical-align: middle;\n",
       "    }\n",
       "\n",
       "    .dataframe tbody tr th {\n",
       "        vertical-align: top;\n",
       "    }\n",
       "\n",
       "    .dataframe thead th {\n",
       "        text-align: right;\n",
       "    }\n",
       "</style>\n",
       "<table border=\"1\" class=\"dataframe\">\n",
       "  <thead>\n",
       "    <tr style=\"text-align: right;\">\n",
       "      <th>Cluster</th>\n",
       "      <th>0</th>\n",
       "      <th>1</th>\n",
       "      <th>2</th>\n",
       "      <th>3</th>\n",
       "    </tr>\n",
       "    <tr>\n",
       "      <th>DOW</th>\n",
       "      <th></th>\n",
       "      <th></th>\n",
       "      <th></th>\n",
       "      <th></th>\n",
       "    </tr>\n",
       "  </thead>\n",
       "  <tbody>\n",
       "    <tr>\n",
       "      <th>0</th>\n",
       "      <td>6</td>\n",
       "      <td>37</td>\n",
       "      <td>7</td>\n",
       "      <td>3</td>\n",
       "    </tr>\n",
       "    <tr>\n",
       "      <th>1</th>\n",
       "      <td>4</td>\n",
       "      <td>42</td>\n",
       "      <td>6</td>\n",
       "      <td>0</td>\n",
       "    </tr>\n",
       "    <tr>\n",
       "      <th>2</th>\n",
       "      <td>4</td>\n",
       "      <td>41</td>\n",
       "      <td>5</td>\n",
       "      <td>2</td>\n",
       "    </tr>\n",
       "    <tr>\n",
       "      <th>3</th>\n",
       "      <td>15</td>\n",
       "      <td>30</td>\n",
       "      <td>6</td>\n",
       "      <td>1</td>\n",
       "    </tr>\n",
       "    <tr>\n",
       "      <th>4</th>\n",
       "      <td>6</td>\n",
       "      <td>33</td>\n",
       "      <td>11</td>\n",
       "      <td>2</td>\n",
       "    </tr>\n",
       "    <tr>\n",
       "      <th>5</th>\n",
       "      <td>1</td>\n",
       "      <td>2</td>\n",
       "      <td>9</td>\n",
       "      <td>40</td>\n",
       "    </tr>\n",
       "    <tr>\n",
       "      <th>6</th>\n",
       "      <td>49</td>\n",
       "      <td>3</td>\n",
       "      <td>0</td>\n",
       "      <td>0</td>\n",
       "    </tr>\n",
       "  </tbody>\n",
       "</table>\n",
       "</div>"
      ],
      "text/plain": [
       "Cluster   0   1   2   3\n",
       "DOW                    \n",
       "0         6  37   7   3\n",
       "1         4  42   6   0\n",
       "2         4  41   5   2\n",
       "3        15  30   6   1\n",
       "4         6  33  11   2\n",
       "5         1   2   9  40\n",
       "6        49   3   0   0"
      ]
     },
     "execution_count": 48,
     "metadata": {},
     "output_type": "execute_result"
    }
   ],
   "source": [
    "pd.pivot_table(df[['day','DOW','Cluster']].drop_duplicates(),values='day', index='DOW',columns='Cluster', aggfunc='count',fill_value=0)"
   ]
  },
  {
   "cell_type": "markdown",
   "metadata": {},
   "source": [
    "<span style=\"color:red;font-size:18pt\"> Cluster 1: Weekdays, Cluster 3: Saturday, Cluster 0: Sunday</span>"
   ]
  },
  {
   "cell_type": "markdown",
   "metadata": {},
   "source": [
    "### Q4(4pts) visualize the hourly timeline for each cluster, and normalize by total riderships in the cluster."
   ]
  },
  {
   "cell_type": "code",
   "execution_count": 49,
   "metadata": {},
   "outputs": [
    {
     "data": {
      "text/plain": [
       "<AxesSubplot:xlabel='Hour'>"
      ]
     },
     "execution_count": 49,
     "metadata": {},
     "output_type": "execute_result"
    },
    {
     "data": {
      "image/png": "[encoded data removed]",
      "text/plain": [
       "<Figure size 432x288 with 1 Axes>"
      ]
     },
     "metadata": {
      "needs_background": "light"
     },
     "output_type": "display_data"
    }
   ],
   "source": [
    "table=pd.pivot_table(task2,values='vehicle_count', index='Hour',columns='Cluster', aggfunc='sum')\n",
    "table/=table.sum()\n",
    "table.plot()"
   ]
  },
  {
   "cell_type": "code",
   "execution_count": null,
   "metadata": {},
   "outputs": [],
   "source": []
  }
 ],
 "metadata": {
  "interpreter": {
   "hash": "ecf5722fdaf1897a315d257d89d94520bfcaa453217d5becf09b39e73618b0de"
  },
  "kernelspec": {
   "display_name": "Python [conda env:PUI]",
   "language": "python",
   "name": "python3"
  },
  "language_info": {
   "codemirror_mode": {
    "name": "ipython",
    "version": 3
   },
   "file_extension": ".py",
   "mimetype": "text/x-python",
   "name": "python",
   "nbconvert_exporter": "python",
   "pygments_lexer": "ipython3",
   "version": "3.9.5"
  }
 },
 "nbformat": 4,
 "nbformat_minor": 2
}
