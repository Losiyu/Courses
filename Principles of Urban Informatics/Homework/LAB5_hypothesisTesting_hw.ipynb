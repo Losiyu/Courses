{
 "cells": [
  {
   "cell_type": "markdown",
   "metadata": {},
   "source": [
    "# LAB 5. Hypothesis testing. Green taxi case.\n",
    "\n",
    "## Homework due:  Oct 18, 12 noon"
   ]
  },
  {
   "cell_type": "markdown",
   "metadata": {},
   "source": [
    "Test varios hypothesis about ridership volume and trip characteristics for green taxi trips in 2019-2020. \n",
    "\n",
    "Does the ridership decline over time? Does it depend on the day of the week and time of the day? Does the distribution of the trip parameters (distance, time, speed) depend on the day of the week and borough?"
   ]
  },
  {
   "cell_type": "code",
   "execution_count": 1,
   "metadata": {},
   "outputs": [],
   "source": [
    "#import the modules\n",
    "import pandas as pd\n",
    "import geopandas as gpd\n",
    "import urllib.request\n",
    "import os\n",
    "import numpy as np\n",
    "from scipy import stats\n",
    "import matplotlib.pyplot as plt\n",
    "import warnings\n",
    "warnings.filterwarnings('ignore')"
   ]
  },
  {
   "cell_type": "code",
   "execution_count": 4,
   "metadata": {},
   "outputs": [
    {
     "data": {
      "text/html": [
       "<div>\n",
       "<style scoped>\n",
       "    .dataframe tbody tr th:only-of-type {\n",
       "        vertical-align: middle;\n",
       "    }\n",
       "\n",
       "    .dataframe tbody tr th {\n",
       "        vertical-align: top;\n",
       "    }\n",
       "\n",
       "    .dataframe thead th {\n",
       "        text-align: right;\n",
       "    }\n",
       "</style>\n",
       "<table border=\"1\" class=\"dataframe\">\n",
       "  <thead>\n",
       "    <tr style=\"text-align: right;\">\n",
       "      <th></th>\n",
       "      <th>lpep_pickup_datetime</th>\n",
       "      <th>lpep_dropoff_datetime</th>\n",
       "      <th>PULocationID</th>\n",
       "      <th>DOLocationID</th>\n",
       "      <th>trip_distance</th>\n",
       "      <th>fare_amount</th>\n",
       "      <th>total_amount</th>\n",
       "    </tr>\n",
       "  </thead>\n",
       "  <tbody>\n",
       "    <tr>\n",
       "      <th>0</th>\n",
       "      <td>2019-08-01 00:22:12</td>\n",
       "      <td>2019-08-01 00:22:38</td>\n",
       "      <td>145</td>\n",
       "      <td>145.0</td>\n",
       "      <td>0.00</td>\n",
       "      <td>2.5</td>\n",
       "      <td>3.30</td>\n",
       "    </tr>\n",
       "    <tr>\n",
       "      <th>1</th>\n",
       "      <td>2019-08-01 00:11:35</td>\n",
       "      <td>2019-08-01 00:25:53</td>\n",
       "      <td>66</td>\n",
       "      <td>49.0</td>\n",
       "      <td>2.55</td>\n",
       "      <td>11.5</td>\n",
       "      <td>15.36</td>\n",
       "    </tr>\n",
       "    <tr>\n",
       "      <th>2</th>\n",
       "      <td>2019-08-01 00:56:09</td>\n",
       "      <td>2019-08-01 01:12:02</td>\n",
       "      <td>65</td>\n",
       "      <td>68.0</td>\n",
       "      <td>4.33</td>\n",
       "      <td>15.5</td>\n",
       "      <td>21.55</td>\n",
       "    </tr>\n",
       "    <tr>\n",
       "      <th>3</th>\n",
       "      <td>2019-07-31 23:59:42</td>\n",
       "      <td>2019-08-01 00:11:44</td>\n",
       "      <td>25</td>\n",
       "      <td>133.0</td>\n",
       "      <td>3.85</td>\n",
       "      <td>13.0</td>\n",
       "      <td>16.30</td>\n",
       "    </tr>\n",
       "    <tr>\n",
       "      <th>4</th>\n",
       "      <td>2019-08-01 00:20:34</td>\n",
       "      <td>2019-08-01 00:28:44</td>\n",
       "      <td>75</td>\n",
       "      <td>263.0</td>\n",
       "      <td>1.30</td>\n",
       "      <td>7.5</td>\n",
       "      <td>12.55</td>\n",
       "    </tr>\n",
       "  </tbody>\n",
       "</table>\n",
       "</div>"
      ],
      "text/plain": [
       "  lpep_pickup_datetime lpep_dropoff_datetime  PULocationID  DOLocationID  \\\n",
       "0  2019-08-01 00:22:12   2019-08-01 00:22:38           145         145.0   \n",
       "1  2019-08-01 00:11:35   2019-08-01 00:25:53            66          49.0   \n",
       "2  2019-08-01 00:56:09   2019-08-01 01:12:02            65          68.0   \n",
       "3  2019-07-31 23:59:42   2019-08-01 00:11:44            25         133.0   \n",
       "4  2019-08-01 00:20:34   2019-08-01 00:28:44            75         263.0   \n",
       "\n",
       "   trip_distance  fare_amount  total_amount  \n",
       "0           0.00          2.5          3.30  \n",
       "1           2.55         11.5         15.36  \n",
       "2           4.33         15.5         21.55  \n",
       "3           3.85         13.0         16.30  \n",
       "4           1.30          7.5         12.55  "
      ]
     },
     "execution_count": 4,
     "metadata": {},
     "output_type": "execute_result"
    }
   ],
   "source": [
    "dfTaxi = pd.read_csv('Data/greenTaxi1920.csv')\n",
    "dfTaxi.head()"
   ]
  },
  {
   "cell_type": "code",
   "execution_count": 5,
   "metadata": {},
   "outputs": [],
   "source": [
    "#take care of the timestamp types\n",
    "dfTaxi['lpep_pickup_datetime'] = pd.to_datetime(dfTaxi['lpep_pickup_datetime'])\n",
    "dfTaxi['lpep_dropoff_datetime'] = pd.to_datetime(dfTaxi['lpep_dropoff_datetime'])"
   ]
  },
  {
   "cell_type": "code",
   "execution_count": 6,
   "metadata": {},
   "outputs": [],
   "source": [
    "#extract date, year, day of the week and hour (takes some time around half a minute)\n",
    "dfTaxi['Date'] = dfTaxi['lpep_pickup_datetime'].dt.date\n",
    "dfTaxi['Day'] = dfTaxi['lpep_pickup_datetime'].dt.day\n",
    "dfTaxi['Month'] = dfTaxi['lpep_pickup_datetime'].dt.month\n",
    "dfTaxi['Year'] = dfTaxi['lpep_pickup_datetime'].dt.year\n",
    "dfTaxi['DOW'] = dfTaxi['lpep_pickup_datetime'].dt.dayofweek\n",
    "dfTaxi['Hour'] = dfTaxi['lpep_pickup_datetime'].dt.hour\n",
    "dfTaxi = dfTaxi.loc[dfTaxi['Year'].isin([2019, 2020])]"
   ]
  },
  {
   "cell_type": "code",
   "execution_count": 7,
   "metadata": {},
   "outputs": [],
   "source": [
    "#calculate trip duration in minutes\n",
    "dfTaxi['trip_duration'] = (dfTaxi['lpep_dropoff_datetime'] - dfTaxi['lpep_pickup_datetime'])\n",
    "dfTaxi['trip_duration'] = dfTaxi['trip_duration'].dt.total_seconds() / 60"
   ]
  },
  {
   "cell_type": "code",
   "execution_count": 8,
   "metadata": {},
   "outputs": [],
   "source": [
    "dfTaxi['speed'] = dfTaxi['trip_distance'] / (dfTaxi['trip_duration'] / 60) #avg trip speed in miles per hoiur"
   ]
  },
  {
   "cell_type": "code",
   "execution_count": 9,
   "metadata": {},
   "outputs": [
    {
     "data": {
      "text/plain": [
       "6667936"
      ]
     },
     "execution_count": 9,
     "metadata": {},
     "output_type": "execute_result"
    }
   ],
   "source": [
    "len(dfTaxi) #original number of records"
   ]
  },
  {
   "cell_type": "code",
   "execution_count": 10,
   "metadata": {},
   "outputs": [
    {
     "data": {
      "text/plain": [
       "6387664"
      ]
     },
     "execution_count": 10,
     "metadata": {},
     "output_type": "execute_result"
    }
   ],
   "source": [
    "#sanity filtering\n",
    "dfTaxi = dfTaxi[(dfTaxi.trip_distance < 100)& (dfTaxi.speed <= 80) & (dfTaxi.speed >= 1) & (dfTaxi.trip_duration <= 100) & (dfTaxi.trip_duration >= 1)]\n",
    "len(dfTaxi) #remaining records"
   ]
  },
  {
   "cell_type": "code",
   "execution_count": 11,
   "metadata": {},
   "outputs": [],
   "source": [
    "#daily total trip counts and cumulative duration and distance traveled\n",
    "dfTaxiDaily = dfTaxi.groupby(['Year','Month','DOW','Date']).\\\n",
    "            agg({'lpep_pickup_datetime':'count','trip_duration':'sum','trip_distance':'sum'}).\\\n",
    "            rename(columns={'lpep_pickup_datetime':'trip_count'}).reset_index()\n",
    "dfTaxiDaily = dfTaxiDaily.sort_values(by='Date')"
   ]
  },
  {
   "cell_type": "code",
   "execution_count": 12,
   "metadata": {},
   "outputs": [],
   "source": [
    "dfTaxiDaily['speed'] = dfTaxiDaily['trip_distance'] / dfTaxiDaily['trip_duration'] * 60"
   ]
  },
  {
   "cell_type": "code",
   "execution_count": 13,
   "metadata": {},
   "outputs": [
    {
     "data": {
      "text/html": [
       "<div>\n",
       "<style scoped>\n",
       "    .dataframe tbody tr th:only-of-type {\n",
       "        vertical-align: middle;\n",
       "    }\n",
       "\n",
       "    .dataframe tbody tr th {\n",
       "        vertical-align: top;\n",
       "    }\n",
       "\n",
       "    .dataframe thead th {\n",
       "        text-align: right;\n",
       "    }\n",
       "</style>\n",
       "<table border=\"1\" class=\"dataframe\">\n",
       "  <thead>\n",
       "    <tr style=\"text-align: right;\">\n",
       "      <th></th>\n",
       "      <th>Year</th>\n",
       "      <th>Month</th>\n",
       "      <th>DOW</th>\n",
       "      <th>Date</th>\n",
       "      <th>trip_count</th>\n",
       "      <th>trip_duration</th>\n",
       "      <th>trip_distance</th>\n",
       "      <th>speed</th>\n",
       "    </tr>\n",
       "  </thead>\n",
       "  <tbody>\n",
       "    <tr>\n",
       "      <th>4</th>\n",
       "      <td>2019</td>\n",
       "      <td>1</td>\n",
       "      <td>1</td>\n",
       "      <td>2019-01-01</td>\n",
       "      <td>14367</td>\n",
       "      <td>192406.050000</td>\n",
       "      <td>53838.05</td>\n",
       "      <td>16.788885</td>\n",
       "    </tr>\n",
       "    <tr>\n",
       "      <th>9</th>\n",
       "      <td>2019</td>\n",
       "      <td>1</td>\n",
       "      <td>2</td>\n",
       "      <td>2019-01-02</td>\n",
       "      <td>18005</td>\n",
       "      <td>271232.433333</td>\n",
       "      <td>65944.76</td>\n",
       "      <td>14.587804</td>\n",
       "    </tr>\n",
       "    <tr>\n",
       "      <th>14</th>\n",
       "      <td>2019</td>\n",
       "      <td>1</td>\n",
       "      <td>3</td>\n",
       "      <td>2019-01-03</td>\n",
       "      <td>19858</td>\n",
       "      <td>309655.900000</td>\n",
       "      <td>72154.53</td>\n",
       "      <td>13.980912</td>\n",
       "    </tr>\n",
       "    <tr>\n",
       "      <th>19</th>\n",
       "      <td>2019</td>\n",
       "      <td>1</td>\n",
       "      <td>4</td>\n",
       "      <td>2019-01-04</td>\n",
       "      <td>21001</td>\n",
       "      <td>319105.950000</td>\n",
       "      <td>74338.68</td>\n",
       "      <td>13.977554</td>\n",
       "    </tr>\n",
       "    <tr>\n",
       "      <th>23</th>\n",
       "      <td>2019</td>\n",
       "      <td>1</td>\n",
       "      <td>5</td>\n",
       "      <td>2019-01-05</td>\n",
       "      <td>19386</td>\n",
       "      <td>258513.416667</td>\n",
       "      <td>63392.53</td>\n",
       "      <td>14.713170</td>\n",
       "    </tr>\n",
       "  </tbody>\n",
       "</table>\n",
       "</div>"
      ],
      "text/plain": [
       "    Year  Month  DOW        Date  trip_count  trip_duration  trip_distance  \\\n",
       "4   2019      1    1  2019-01-01       14367  192406.050000       53838.05   \n",
       "9   2019      1    2  2019-01-02       18005  271232.433333       65944.76   \n",
       "14  2019      1    3  2019-01-03       19858  309655.900000       72154.53   \n",
       "19  2019      1    4  2019-01-04       21001  319105.950000       74338.68   \n",
       "23  2019      1    5  2019-01-05       19386  258513.416667       63392.53   \n",
       "\n",
       "        speed  \n",
       "4   16.788885  \n",
       "9   14.587804  \n",
       "14  13.980912  \n",
       "19  13.977554  \n",
       "23  14.713170  "
      ]
     },
     "execution_count": 13,
     "metadata": {},
     "output_type": "execute_result"
    }
   ],
   "source": [
    "dfTaxiDaily.head()"
   ]
  },
  {
   "cell_type": "code",
   "execution_count": 14,
   "metadata": {},
   "outputs": [
    {
     "data": {
      "image/png": "[encoded data removed]",
      "text/plain": [
       "<Figure size 432x288 with 1 Axes>"
      ]
     },
     "metadata": {
      "needs_background": "light"
     },
     "output_type": "display_data"
    }
   ],
   "source": [
    "#ridership timeline - daily trip counts; seem to decline and particularly during the pandemics lockdown\n",
    "plt.plot(dfTaxiDaily['Date'], dfTaxiDaily['trip_count'])\n",
    "plt.xticks(rotation=70);\n",
    "plt.show()"
   ]
  },
  {
   "cell_type": "code",
   "execution_count": 15,
   "metadata": {},
   "outputs": [
    {
     "data": {
      "text/plain": [
       "<matplotlib.legend.Legend at 0x1802d7f86a0>"
      ]
     },
     "execution_count": 15,
     "metadata": {},
     "output_type": "execute_result"
    },
    {
     "data": {
      "image/png": "[encoded data removed]",
      "text/plain": [
       "<Figure size 432x288 with 1 Axes>"
      ]
     },
     "metadata": {
      "needs_background": "light"
     },
     "output_type": "display_data"
    }
   ],
   "source": [
    "#histograms of daily counts in 2019 and 2020 - distributions look different\n",
    "plt.hist(dfTaxiDaily.loc[dfTaxiDaily['Year']==2019]['trip_count'].values,bins=30,label='2019')\n",
    "plt.hist(dfTaxiDaily.loc[dfTaxiDaily['Year']==2020]['trip_count'].values,bins=30,alpha=0.9,label='2020')\n",
    "#plt.hist(dfTaxiDaily.loc[dfTaxiDaily['Year']==2020]['trip_count'].values,bins=30,alpha=0.5,label='2020')\n",
    "plt.legend()"
   ]
  },
  {
   "cell_type": "markdown",
   "metadata": {},
   "source": [
    "2020 daily ride numbers are vastly different from 2019 numbers, due to the pandemic"
   ]
  },
  {
   "cell_type": "code",
   "execution_count": 16,
   "metadata": {},
   "outputs": [
    {
     "data": {
      "text/plain": [
       "Ttest_indResult(statistic=22.879917560620992, pvalue=2.222080562897862e-80)"
      ]
     },
     "execution_count": 16,
     "metadata": {},
     "output_type": "execute_result"
    }
   ],
   "source": [
    "## t-test between the 2019 and 2020 distributions\n",
    "stats.ttest_ind(dfTaxiDaily.loc[dfTaxiDaily['Year']==2019]['trip_count'],dfTaxiDaily.loc[dfTaxiDaily['Year']==2020]['trip_count'])"
   ]
  },
  {
   "cell_type": "code",
   "execution_count": 17,
   "metadata": {},
   "outputs": [
    {
     "data": {
      "text/plain": [
       "KstestResult(statistic=0.662140364737639, pvalue=8.881784197001252e-16)"
      ]
     },
     "execution_count": 17,
     "metadata": {},
     "output_type": "execute_result"
    }
   ],
   "source": [
    "## K-S test\n",
    "stats.ks_2samp(dfTaxiDaily.loc[dfTaxiDaily['Year']==2019]['trip_count'],dfTaxiDaily.loc[dfTaxiDaily['Year']==2020]['trip_count'])"
   ]
  },
  {
   "cell_type": "markdown",
   "metadata": {},
   "source": [
    "So the hypothesis that 2019 and 2020 daily trip counts follow the same distributions can be rejected beyond any reasonable doubt"
   ]
  },
  {
   "cell_type": "code",
   "execution_count": 18,
   "metadata": {},
   "outputs": [
    {
     "data": {
      "text/plain": [
       "(5223051, 5223051)"
      ]
     },
     "execution_count": 18,
     "metadata": {},
     "output_type": "execute_result"
    }
   ],
   "source": [
    "#For further analysis select the year 2019\n",
    "dfTaxiDaily2019 = dfTaxiDaily.loc[dfTaxiDaily['Year']==2019] #daily aggregates\n",
    "dfTaxi2019 = dfTaxi.loc[dfTaxi['Year']==2019] #individual trips\n",
    "(dfTaxiDaily2019['trip_count'].sum(),len(dfTaxi2019)) #total trip counts in either dataset"
   ]
  },
  {
   "cell_type": "markdown",
   "metadata": {},
   "source": [
    "## Example 1. Test if weekend ridership is different from weekday"
   ]
  },
  {
   "cell_type": "code",
   "execution_count": 19,
   "metadata": {},
   "outputs": [
    {
     "data": {
      "text/plain": [
       "23     19386\n",
       "27     17225\n",
       "24     20321\n",
       "28     16851\n",
       "25     19693\n",
       "       ...  \n",
       "326     9994\n",
       "322    12326\n",
       "330       11\n",
       "329        3\n",
       "331        2\n",
       "Name: trip_count, Length: 96, dtype: int64"
      ]
     },
     "execution_count": 19,
     "metadata": {},
     "output_type": "execute_result"
    }
   ],
   "source": [
    "# Monday is 0, Sunday is 6; weekends: DOW>4, weekdays: DOW<4\n",
    "# t-test\n",
    "stats.ttest_ind(dfTaxiDaily2019.loc[dfTaxiDaily2019['DOW']>4]['trip_count'],\n",
    "                dfTaxiDaily2019.loc[dfTaxiDaily2019['DOW']<4]['trip_count'])\n",
    "dfTaxiDaily2019.loc[dfTaxiDaily2019['DOW']>4]['trip_count']"
   ]
  },
  {
   "cell_type": "code",
   "execution_count": 20,
   "metadata": {},
   "outputs": [
    {
     "data": {
      "text/plain": [
       "KstestResult(statistic=0.24711879432624115, pvalue=0.0006547345365657264)"
      ]
     },
     "execution_count": 20,
     "metadata": {},
     "output_type": "execute_result"
    }
   ],
   "source": [
    "# Monday is 0, Sunday is 6; weekends: DOW>4, weekdays: DOW<4\n",
    "# KS-test\n",
    "stats.ks_2samp(dfTaxiDaily2019.loc[dfTaxiDaily2019['DOW']>4]['trip_count'],\n",
    "                dfTaxiDaily2019.loc[dfTaxiDaily2019['DOW']<4]['trip_count'])"
   ]
  },
  {
   "cell_type": "markdown",
   "metadata": {},
   "source": [
    "Reject the hypothesis that weekends and weekdays follow the same ridership distribution at 95\\% significance level"
   ]
  },
  {
   "cell_type": "markdown",
   "metadata": {},
   "source": [
    "## Example 2. Test if trip speed, duration or distance follow log-normal distributions"
   ]
  },
  {
   "cell_type": "code",
   "execution_count": 21,
   "metadata": {},
   "outputs": [
    {
     "data": {
      "text/plain": [
       "<AxesSubplot:>"
      ]
     },
     "execution_count": 21,
     "metadata": {},
     "output_type": "execute_result"
    },
    {
     "data": {
      "image/png": "[encoded data removed]",
      "text/plain": [
       "<Figure size 432x288 with 1 Axes>"
      ]
     },
     "metadata": {
      "needs_background": "light"
     },
     "output_type": "display_data"
    }
   ],
   "source": [
    "#analyze the overall speed distribution (plot on log-scale)\n",
    "np.log(dfTaxi2019['speed']).hist(bins=100)"
   ]
  },
  {
   "cell_type": "code",
   "execution_count": 22,
   "metadata": {},
   "outputs": [
    {
     "data": {
      "text/plain": [
       "<AxesSubplot:>"
      ]
     },
     "execution_count": 22,
     "metadata": {},
     "output_type": "execute_result"
    },
    {
     "data": {
      "image/png": "[encoded data removed]",
      "text/plain": [
       "<Figure size 432x288 with 1 Axes>"
      ]
     },
     "metadata": {
      "needs_background": "light"
     },
     "output_type": "display_data"
    }
   ],
   "source": [
    "#analyze the overall duration distribution (plot on log-scale)\n",
    "np.log(dfTaxi2019['trip_duration']).hist(bins=100)"
   ]
  },
  {
   "cell_type": "code",
   "execution_count": 23,
   "metadata": {},
   "outputs": [
    {
     "data": {
      "text/plain": [
       "<AxesSubplot:>"
      ]
     },
     "execution_count": 23,
     "metadata": {},
     "output_type": "execute_result"
    },
    {
     "data": {
      "image/png": "[encoded data removed]",
      "text/plain": [
       "<Figure size 432x288 with 1 Axes>"
      ]
     },
     "metadata": {
      "needs_background": "light"
     },
     "output_type": "display_data"
    }
   ],
   "source": [
    "#analyze the overall duration distribution (plot on log-scale)\n",
    "np.log(dfTaxi2019['trip_distance']).hist(bins=100)"
   ]
  },
  {
   "cell_type": "code",
   "execution_count": 24,
   "metadata": {},
   "outputs": [],
   "source": [
    "def is_normal(x): #check is the distribution is normal using one-sample KS test and sample mean-std\n",
    "    return stats.kstest(x,'norm',args=(x.mean(),x.std()))"
   ]
  },
  {
   "cell_type": "code",
   "execution_count": 25,
   "metadata": {},
   "outputs": [
    {
     "data": {
      "text/plain": [
       "KstestResult(statistic=0.040362657218470765, pvalue=0.0)"
      ]
     },
     "execution_count": 25,
     "metadata": {},
     "output_type": "execute_result"
    }
   ],
   "source": [
    "# is log-speed normally distributed?\n",
    "is_normal(np.log(dfTaxi2019['speed']))"
   ]
  },
  {
   "cell_type": "code",
   "execution_count": 26,
   "metadata": {},
   "outputs": [
    {
     "data": {
      "text/plain": [
       "KstestResult(statistic=0.006262974104058405, pvalue=2.2308674200592036e-178)"
      ]
     },
     "execution_count": 26,
     "metadata": {},
     "output_type": "execute_result"
    }
   ],
   "source": [
    "# is log-duration normally distributed?\n",
    "is_normal(np.log(dfTaxi2019['trip_duration']))"
   ]
  },
  {
   "cell_type": "code",
   "execution_count": 27,
   "metadata": {},
   "outputs": [
    {
     "data": {
      "text/plain": [
       "KstestResult(statistic=0.0371959551860061, pvalue=0.0)"
      ]
     },
     "execution_count": 27,
     "metadata": {},
     "output_type": "execute_result"
    }
   ],
   "source": [
    "# is log-distance normally distributed?\n",
    "is_normal(np.log(dfTaxi2019['trip_distance']))"
   ]
  },
  {
   "cell_type": "code",
   "execution_count": 28,
   "metadata": {},
   "outputs": [],
   "source": [
    "#so none of those quantities have log-normal distribution (rejecting with 99.9999...% confidence)"
   ]
  },
  {
   "cell_type": "code",
   "execution_count": 29,
   "metadata": {},
   "outputs": [],
   "source": [
    "#what about daily average trip_count, duration, distance, speed?"
   ]
  },
  {
   "cell_type": "code",
   "execution_count": 30,
   "metadata": {},
   "outputs": [
    {
     "data": {
      "text/plain": [
       "KstestResult(statistic=0.10222090032691855, pvalue=0.0017910702475394337)"
      ]
     },
     "execution_count": 30,
     "metadata": {},
     "output_type": "execute_result"
    }
   ],
   "source": [
    "is_normal(dfTaxiDaily2019['trip_count']) #does not look normal"
   ]
  },
  {
   "cell_type": "code",
   "execution_count": 31,
   "metadata": {},
   "outputs": [
    {
     "data": {
      "text/plain": [
       "<matplotlib.legend.Legend at 0x1802e519790>"
      ]
     },
     "execution_count": 31,
     "metadata": {},
     "output_type": "execute_result"
    },
    {
     "data": {
      "image/png": "[encoded data removed]",
      "text/plain": [
       "<Figure size 432x288 with 1 Axes>"
      ]
     },
     "metadata": {
      "needs_background": "light"
     },
     "output_type": "display_data"
    }
   ],
   "source": [
    "#visualize empiric CDF's for trip-counts\n",
    "plt.hist(dfTaxiDaily2019['trip_count'].values, 50, density=True, \n",
    "         histtype='step',cumulative=True,label='trip count')\n",
    "plt.hist(np.random.normal(dfTaxiDaily2019['trip_count'].mean(), dfTaxiDaily2019['trip_count'].std(),\n",
    "                          len(dfTaxiDaily2019)), 50, density=True, \n",
    "         histtype='step',cumulative=True,label='same mean and std in gaussian distribution')\n",
    "plt.legend(loc='upper left')"
   ]
  },
  {
   "cell_type": "code",
   "execution_count": 32,
   "metadata": {},
   "outputs": [
    {
     "data": {
      "text/plain": [
       "KstestResult(statistic=0.39763352335934743, pvalue=7.316977574991639e-48)"
      ]
     },
     "execution_count": 32,
     "metadata": {},
     "output_type": "execute_result"
    }
   ],
   "source": [
    "is_normal(np.log(dfTaxiDaily2019['trip_count'])) #but might be log-normal"
   ]
  },
  {
   "cell_type": "code",
   "execution_count": 33,
   "metadata": {},
   "outputs": [
    {
     "data": {
      "text/plain": [
       "<matplotlib.legend.Legend at 0x1802e5c79d0>"
      ]
     },
     "execution_count": 33,
     "metadata": {},
     "output_type": "execute_result"
    },
    {
     "data": {
      "image/png": "[encoded data removed]",
      "text/plain": [
       "<Figure size 432x288 with 1 Axes>"
      ]
     },
     "metadata": {
      "needs_background": "light"
     },
     "output_type": "display_data"
    }
   ],
   "source": [
    "#visualize empiric CDF's for log trip-counts\n",
    "plt.hist(np.log(dfTaxiDaily2019['trip_count'].values), 50, density=True, \n",
    "         histtype='step',cumulative=True,label='log trip count')\n",
    "plt.hist(np.random.normal(np.log(dfTaxiDaily2019['trip_count']).mean(), np.log(dfTaxiDaily2019['trip_count']).std(),\n",
    "                          len(dfTaxiDaily2019)), 50, density=True, \n",
    "         histtype='step',cumulative=True,label='same mean and std in gaussian distribution')\n",
    "plt.legend(loc='upper left')"
   ]
  },
  {
   "cell_type": "code",
   "execution_count": 34,
   "metadata": {},
   "outputs": [
    {
     "data": {
      "text/plain": [
       "KstestResult(statistic=0.059490388153520424, pvalue=0.18313344866657633)"
      ]
     },
     "execution_count": 34,
     "metadata": {},
     "output_type": "execute_result"
    }
   ],
   "source": [
    "is_normal(dfTaxiDaily2019['trip_duration']) #could be normal"
   ]
  },
  {
   "cell_type": "code",
   "execution_count": 35,
   "metadata": {},
   "outputs": [
    {
     "data": {
      "text/plain": [
       "<AxesSubplot:>"
      ]
     },
     "execution_count": 35,
     "metadata": {},
     "output_type": "execute_result"
    },
    {
     "data": {
      "image/png": "[encoded data removed]",
      "text/plain": [
       "<Figure size 432x288 with 1 Axes>"
      ]
     },
     "metadata": {
      "needs_background": "light"
     },
     "output_type": "display_data"
    }
   ],
   "source": [
    "dfTaxiDaily2019['trip_duration'].hist(bins=8)"
   ]
  },
  {
   "cell_type": "code",
   "execution_count": 36,
   "metadata": {},
   "outputs": [
    {
     "data": {
      "text/plain": [
       "<matplotlib.legend.Legend at 0x1802e6aec10>"
      ]
     },
     "execution_count": 36,
     "metadata": {},
     "output_type": "execute_result"
    },
    {
     "data": {
      "image/png": "[encoded data removed]",
      "text/plain": [
       "<Figure size 432x288 with 1 Axes>"
      ]
     },
     "metadata": {
      "needs_background": "light"
     },
     "output_type": "display_data"
    }
   ],
   "source": [
    "_ = plt.hist(dfTaxiDaily2019['trip_duration'].values, 50, density=True, \n",
    "         histtype='step',cumulative=True,label='trip duration')\n",
    "_ = plt.hist(np.random.normal(dfTaxiDaily2019['trip_duration'].mean(), \n",
    "                              dfTaxiDaily2019['trip_duration'].std(),\n",
    "                          len(dfTaxiDaily2019)), 50, density=True, \n",
    "         histtype='step',cumulative=True,label='same mean and std \\nin gaussian distribution')\n",
    "plt.legend(loc='upper left')"
   ]
  },
  {
   "cell_type": "code",
   "execution_count": 37,
   "metadata": {},
   "outputs": [
    {
     "data": {
      "text/plain": [
       "KstestResult(statistic=0.10000823433973538, pvalue=0.002417126959815598)"
      ]
     },
     "execution_count": 37,
     "metadata": {},
     "output_type": "execute_result"
    }
   ],
   "source": [
    "is_normal(dfTaxiDaily2019['trip_distance']) #does not look normal"
   ]
  },
  {
   "cell_type": "code",
   "execution_count": 38,
   "metadata": {},
   "outputs": [
    {
     "data": {
      "text/plain": [
       "KstestResult(statistic=0.40185494022875995, pvalue=6.4704373608856345e-49)"
      ]
     },
     "execution_count": 38,
     "metadata": {},
     "output_type": "execute_result"
    }
   ],
   "source": [
    "is_normal(np.log(dfTaxiDaily2019['trip_distance'])) #but might be log-normal"
   ]
  },
  {
   "cell_type": "code",
   "execution_count": 39,
   "metadata": {},
   "outputs": [
    {
     "data": {
      "text/plain": [
       "KstestResult(statistic=0.05132684663697412, pvalue=0.3345668864594722)"
      ]
     },
     "execution_count": 39,
     "metadata": {},
     "output_type": "execute_result"
    }
   ],
   "source": [
    "is_normal(dfTaxiDaily2019['speed']) #might be normal"
   ]
  },
  {
   "cell_type": "code",
   "execution_count": 40,
   "metadata": {},
   "outputs": [
    {
     "data": {
      "text/plain": [
       "KstestResult(statistic=0.05584949432226126, pvalue=0.24242825588779116)"
      ]
     },
     "execution_count": 40,
     "metadata": {},
     "output_type": "execute_result"
    }
   ],
   "source": [
    "is_normal(np.log(dfTaxiDaily2019['speed'])) #log-normal even more likely"
   ]
  },
  {
   "cell_type": "markdown",
   "metadata": {},
   "source": [
    "## Research questions to further explore\n",
    "- Which weekdays are similar/different in terms of avg.travel speed distributions?\n",
    "- Are evening/morning/afternoon trip speed, duration and distance distributions signifiantly different?\n",
    "- Are trip speed, duration and distance distributions different in Brooklyn vs Queens or Bronx? \n",
    "- No doubt that 2020 saw a large drop in ridership but how can we assess it? As we don't have the full year, the drop just started in March and there is also a general decline, consider the 2020/2019 ratios (to account for the general trend and seasonality and see how much more steep is the drop during the pandemics). Compare the pandemics numbers (After March 2020 with the same period pre-march 2020). Also compare the post-pandemics and pre-pandemics travel distance, speed and duration distributions"
   ]
  },
  {
   "cell_type": "markdown",
   "metadata": {},
   "source": [
    "## Homework assignment"
   ]
  },
  {
   "cell_type": "markdown",
   "metadata": {},
   "source": [
    "## Task 1. Travel speed - hours of the day (2 pts)\n",
    "Traffic and travel speed might vary throughout the day. Select the trips happening on Oct, 1, 2019. \n",
    "\n",
    "a) Compute average travel speed per each hour of the day and visuale as a bar plot. \n",
    "\n",
    "Compare the speed distributions for: \n",
    "\n",
    "b) trip samples within an hour of 9am (Hour=9) and an hour of 10am, \n",
    "\n",
    "c) morning rush hour (two hours of 8 and 9am) and evening rush hour (two hours of 5pm(17) and 6pm(18)). Can you reject the hypothesis that the compared speed samples have the same mean(use t-test) and distribution (use ks-test) at a 95\\% significance level?"
   ]
  },
  {
   "cell_type": "markdown",
   "metadata": {
    "deletable": false,
    "nbgrader": {
     "cell_type": "code",
     "checksum": "43659e42da26dbe696271c87fd7473a7",
     "grade": true,
     "grade_id": "cell-b506158f7c893752",
     "locked": false,
     "points": 2,
     "schema_version": 3,
     "solution": true,
     "task": false
    }
   },
   "source": []
  },
  {
   "cell_type": "code",
   "execution_count": 41,
   "metadata": {},
   "outputs": [
    {
     "data": {
      "text/html": [
       "<div>\n",
       "<style scoped>\n",
       "    .dataframe tbody tr th:only-of-type {\n",
       "        vertical-align: middle;\n",
       "    }\n",
       "\n",
       "    .dataframe tbody tr th {\n",
       "        vertical-align: top;\n",
       "    }\n",
       "\n",
       "    .dataframe thead th {\n",
       "        text-align: right;\n",
       "    }\n",
       "</style>\n",
       "<table border=\"1\" class=\"dataframe\">\n",
       "  <thead>\n",
       "    <tr style=\"text-align: right;\">\n",
       "      <th></th>\n",
       "      <th>lpep_pickup_datetime</th>\n",
       "      <th>lpep_dropoff_datetime</th>\n",
       "      <th>PULocationID</th>\n",
       "      <th>DOLocationID</th>\n",
       "      <th>trip_distance</th>\n",
       "      <th>fare_amount</th>\n",
       "      <th>total_amount</th>\n",
       "      <th>Date</th>\n",
       "      <th>Day</th>\n",
       "      <th>Month</th>\n",
       "      <th>Year</th>\n",
       "      <th>DOW</th>\n",
       "      <th>Hour</th>\n",
       "      <th>trip_duration</th>\n",
       "      <th>speed</th>\n",
       "    </tr>\n",
       "  </thead>\n",
       "  <tbody>\n",
       "    <tr>\n",
       "      <th>839374</th>\n",
       "      <td>2019-10-01 00:02:03</td>\n",
       "      <td>2019-10-01 00:03:34</td>\n",
       "      <td>166</td>\n",
       "      <td>166.0</td>\n",
       "      <td>0.36</td>\n",
       "      <td>3.5</td>\n",
       "      <td>4.80</td>\n",
       "      <td>2019-10-01</td>\n",
       "      <td>1</td>\n",
       "      <td>10</td>\n",
       "      <td>2019</td>\n",
       "      <td>1</td>\n",
       "      <td>0</td>\n",
       "      <td>1.516667</td>\n",
       "      <td>14.241758</td>\n",
       "    </tr>\n",
       "    <tr>\n",
       "      <th>839576</th>\n",
       "      <td>2019-10-01 00:02:07</td>\n",
       "      <td>2019-10-01 00:12:34</td>\n",
       "      <td>130</td>\n",
       "      <td>205.0</td>\n",
       "      <td>2.85</td>\n",
       "      <td>11.0</td>\n",
       "      <td>12.30</td>\n",
       "      <td>2019-10-01</td>\n",
       "      <td>1</td>\n",
       "      <td>10</td>\n",
       "      <td>2019</td>\n",
       "      <td>1</td>\n",
       "      <td>0</td>\n",
       "      <td>10.450000</td>\n",
       "      <td>16.363636</td>\n",
       "    </tr>\n",
       "    <tr>\n",
       "      <th>839614</th>\n",
       "      <td>2019-10-01 00:00:05</td>\n",
       "      <td>2019-10-01 00:05:50</td>\n",
       "      <td>256</td>\n",
       "      <td>37.0</td>\n",
       "      <td>1.21</td>\n",
       "      <td>6.5</td>\n",
       "      <td>9.36</td>\n",
       "      <td>2019-10-01</td>\n",
       "      <td>1</td>\n",
       "      <td>10</td>\n",
       "      <td>2019</td>\n",
       "      <td>1</td>\n",
       "      <td>0</td>\n",
       "      <td>5.750000</td>\n",
       "      <td>12.626087</td>\n",
       "    </tr>\n",
       "    <tr>\n",
       "      <th>2124647</th>\n",
       "      <td>2019-10-01 00:26:02</td>\n",
       "      <td>2019-10-01 00:39:58</td>\n",
       "      <td>112</td>\n",
       "      <td>196.0</td>\n",
       "      <td>5.88</td>\n",
       "      <td>18.0</td>\n",
       "      <td>19.30</td>\n",
       "      <td>2019-10-01</td>\n",
       "      <td>1</td>\n",
       "      <td>10</td>\n",
       "      <td>2019</td>\n",
       "      <td>1</td>\n",
       "      <td>0</td>\n",
       "      <td>13.933333</td>\n",
       "      <td>25.320574</td>\n",
       "    </tr>\n",
       "    <tr>\n",
       "      <th>2124648</th>\n",
       "      <td>2019-10-01 00:18:11</td>\n",
       "      <td>2019-10-01 00:22:38</td>\n",
       "      <td>43</td>\n",
       "      <td>263.0</td>\n",
       "      <td>0.80</td>\n",
       "      <td>5.0</td>\n",
       "      <td>9.05</td>\n",
       "      <td>2019-10-01</td>\n",
       "      <td>1</td>\n",
       "      <td>10</td>\n",
       "      <td>2019</td>\n",
       "      <td>1</td>\n",
       "      <td>0</td>\n",
       "      <td>4.450000</td>\n",
       "      <td>10.786517</td>\n",
       "    </tr>\n",
       "  </tbody>\n",
       "</table>\n",
       "</div>"
      ],
      "text/plain": [
       "        lpep_pickup_datetime lpep_dropoff_datetime  PULocationID  \\\n",
       "839374   2019-10-01 00:02:03   2019-10-01 00:03:34           166   \n",
       "839576   2019-10-01 00:02:07   2019-10-01 00:12:34           130   \n",
       "839614   2019-10-01 00:00:05   2019-10-01 00:05:50           256   \n",
       "2124647  2019-10-01 00:26:02   2019-10-01 00:39:58           112   \n",
       "2124648  2019-10-01 00:18:11   2019-10-01 00:22:38            43   \n",
       "\n",
       "         DOLocationID  trip_distance  fare_amount  total_amount        Date  \\\n",
       "839374          166.0           0.36          3.5          4.80  2019-10-01   \n",
       "839576          205.0           2.85         11.0         12.30  2019-10-01   \n",
       "839614           37.0           1.21          6.5          9.36  2019-10-01   \n",
       "2124647         196.0           5.88         18.0         19.30  2019-10-01   \n",
       "2124648         263.0           0.80          5.0          9.05  2019-10-01   \n",
       "\n",
       "         Day  Month  Year  DOW  Hour  trip_duration      speed  \n",
       "839374     1     10  2019    1     0       1.516667  14.241758  \n",
       "839576     1     10  2019    1     0      10.450000  16.363636  \n",
       "839614     1     10  2019    1     0       5.750000  12.626087  \n",
       "2124647    1     10  2019    1     0      13.933333  25.320574  \n",
       "2124648    1     10  2019    1     0       4.450000  10.786517  "
      ]
     },
     "execution_count": 41,
     "metadata": {},
     "output_type": "execute_result"
    }
   ],
   "source": [
    "task1 = dfTaxi[\n",
    "    (dfTaxi.Year == 2019) & \\\n",
    "    (dfTaxi.Month == 10) & \\\n",
    "    (dfTaxi.Day == 1)\n",
    "]\n",
    "task1.head()"
   ]
  },
  {
   "cell_type": "markdown",
   "metadata": {},
   "source": [
    "## 1.a"
   ]
  },
  {
   "cell_type": "code",
   "execution_count": 42,
   "metadata": {},
   "outputs": [
    {
     "data": {
      "image/png": "[encoded data removed]",
      "text/plain": [
       "<Figure size 432x288 with 1 Axes>"
      ]
     },
     "metadata": {
      "needs_background": "light"
     },
     "output_type": "display_data"
    }
   ],
   "source": [
    "task1a = task1[['speed', 'Hour']].groupby('Hour').mean()\n",
    "task1a.speed.plot.bar()\n",
    "plt.yticks(range(0,25));\n",
    "plt.show()"
   ]
  },
  {
   "cell_type": "markdown",
   "metadata": {},
   "source": [
    "## 1.b"
   ]
  },
  {
   "cell_type": "code",
   "execution_count": 43,
   "metadata": {},
   "outputs": [
    {
     "name": "stdout",
     "output_type": "stream",
     "text": [
      "Ttest_indResult(statistic=-1.173277394807621, pvalue=0.2408567402829922)\n",
      "KstestResult(statistic=0.04866545344252351, pvalue=0.2793212653142807)\n"
     ]
    }
   ],
   "source": [
    "print(stats.ttest_ind(task1.loc[task1['Hour']==9]['speed'],task1.loc[task1['Hour']==10]['speed']))\n",
    "print(stats.ks_2samp(task1.loc[task1['Hour']==9]['speed'],task1.loc[task1['Hour']==10]['speed']))"
   ]
  },
  {
   "cell_type": "markdown",
   "metadata": {},
   "source": [
    "## 1.c"
   ]
  },
  {
   "cell_type": "code",
   "execution_count": 44,
   "metadata": {},
   "outputs": [
    {
     "name": "stdout",
     "output_type": "stream",
     "text": [
      "Ttest_indResult(statistic=5.316218844376547, pvalue=1.1253493376431865e-07)\n",
      "KstestResult(statistic=0.06860517517057287, pvalue=0.0005164093592973096)\n"
     ]
    }
   ],
   "source": [
    "task1c_morning = pd.concat([task1.loc[task1['Hour']==8]['speed'], task1.loc[task1['Hour']==9]['speed']])\n",
    "task1c_afternoon = pd.concat([task1.loc[task1['Hour']==17]['speed'],task1.loc[task1['Hour']==18]['speed']])\n",
    "print(stats.ttest_ind(task1c_morning, task1c_afternoon))\n",
    "print(stats.ks_2samp(task1c_morning, task1c_afternoon))"
   ]
  },
  {
   "cell_type": "markdown",
   "metadata": {},
   "source": [
    "## Task 2. Travel speed - days of the week (2 pts)\n",
    "Traffic and travel speed also vary during different weekdays. \n",
    "\n",
    "a) Compute average travel speed per each of the 7 days of the week (among all the individual trips happening on Mondays, Tuesdays, Wednesdays etc); visualize those as a bar plot. Then compute average travel speed per each day of the year and perform a pairwise comparison between the distributions of the daily speed averages within different days of the week (i.e. distribution of all Mondays vs all Tuesdays etc). \n",
    "\n",
    "Compute p-value of the ks-test for each pair of the different weekdays and compare with 5\\%. As a results we are expecting a 7*7 pandas dataframe filled with \"reject\" (if p-value below 5\\%), \"keep\" (if p-value above 5\\%) and \"-\" on the diagonal."
   ]
  },
  {
   "cell_type": "markdown",
   "metadata": {},
   "source": [
    "### Note: take 2019 as example"
   ]
  },
  {
   "cell_type": "markdown",
   "metadata": {},
   "source": [
    "### 2.a"
   ]
  },
  {
   "cell_type": "code",
   "execution_count": 45,
   "metadata": {},
   "outputs": [
    {
     "data": {
      "text/plain": [
       "<AxesSubplot:xlabel='DOW'>"
      ]
     },
     "execution_count": 45,
     "metadata": {},
     "output_type": "execute_result"
    },
    {
     "data": {
      "image/png": "[encoded data removed]",
      "text/plain": [
       "<Figure size 432x288 with 1 Axes>"
      ]
     },
     "metadata": {
      "needs_background": "light"
     },
     "output_type": "display_data"
    }
   ],
   "source": [
    "task2a = dfTaxi.loc[dfTaxi['Year']==2019][['DOW', 'speed']].groupby('DOW').mean()\n",
    "task2a.speed.plot.bar()"
   ]
  },
  {
   "cell_type": "markdown",
   "metadata": {},
   "source": [
    "### 2.b"
   ]
  },
  {
   "cell_type": "code",
   "execution_count": 46,
   "metadata": {
    "deletable": false,
    "nbgrader": {
     "cell_type": "code",
     "checksum": "2ea1b1e20fb0a1d9019a53eec25d00f7",
     "grade": true,
     "grade_id": "cell-715f66bc11a6df95",
     "locked": false,
     "points": 2,
     "schema_version": 3,
     "solution": true,
     "task": false
    },
    "scrolled": true
   },
   "outputs": [
    {
     "data": {
      "text/html": [
       "<div>\n",
       "<style scoped>\n",
       "    .dataframe tbody tr th:only-of-type {\n",
       "        vertical-align: middle;\n",
       "    }\n",
       "\n",
       "    .dataframe tbody tr th {\n",
       "        vertical-align: top;\n",
       "    }\n",
       "\n",
       "    .dataframe thead th {\n",
       "        text-align: right;\n",
       "    }\n",
       "</style>\n",
       "<table border=\"1\" class=\"dataframe\">\n",
       "  <thead>\n",
       "    <tr style=\"text-align: right;\">\n",
       "      <th></th>\n",
       "      <th>Mon</th>\n",
       "      <th>Tue</th>\n",
       "      <th>Wed</th>\n",
       "      <th>Thu</th>\n",
       "      <th>Fri</th>\n",
       "      <th>Sat</th>\n",
       "      <th>Sun</th>\n",
       "    </tr>\n",
       "  </thead>\n",
       "  <tbody>\n",
       "    <tr>\n",
       "      <th>Mon</th>\n",
       "      <td>-</td>\n",
       "      <td>reject</td>\n",
       "      <td>reject</td>\n",
       "      <td>reject</td>\n",
       "      <td>reject</td>\n",
       "      <td>reject</td>\n",
       "      <td>reject</td>\n",
       "    </tr>\n",
       "    <tr>\n",
       "      <th>Tue</th>\n",
       "      <td>reject</td>\n",
       "      <td>-</td>\n",
       "      <td>reject</td>\n",
       "      <td>reject</td>\n",
       "      <td>reject</td>\n",
       "      <td>reject</td>\n",
       "      <td>reject</td>\n",
       "    </tr>\n",
       "    <tr>\n",
       "      <th>Wed</th>\n",
       "      <td>reject</td>\n",
       "      <td>reject</td>\n",
       "      <td>-</td>\n",
       "      <td>reject</td>\n",
       "      <td>reject</td>\n",
       "      <td>reject</td>\n",
       "      <td>reject</td>\n",
       "    </tr>\n",
       "    <tr>\n",
       "      <th>Thu</th>\n",
       "      <td>reject</td>\n",
       "      <td>reject</td>\n",
       "      <td>reject</td>\n",
       "      <td>-</td>\n",
       "      <td>reject</td>\n",
       "      <td>reject</td>\n",
       "      <td>reject</td>\n",
       "    </tr>\n",
       "    <tr>\n",
       "      <th>Fri</th>\n",
       "      <td>reject</td>\n",
       "      <td>reject</td>\n",
       "      <td>reject</td>\n",
       "      <td>reject</td>\n",
       "      <td>-</td>\n",
       "      <td>reject</td>\n",
       "      <td>reject</td>\n",
       "    </tr>\n",
       "    <tr>\n",
       "      <th>Sat</th>\n",
       "      <td>reject</td>\n",
       "      <td>reject</td>\n",
       "      <td>reject</td>\n",
       "      <td>reject</td>\n",
       "      <td>reject</td>\n",
       "      <td>-</td>\n",
       "      <td>reject</td>\n",
       "    </tr>\n",
       "    <tr>\n",
       "      <th>Sun</th>\n",
       "      <td>reject</td>\n",
       "      <td>reject</td>\n",
       "      <td>reject</td>\n",
       "      <td>reject</td>\n",
       "      <td>reject</td>\n",
       "      <td>reject</td>\n",
       "      <td>-</td>\n",
       "    </tr>\n",
       "  </tbody>\n",
       "</table>\n",
       "</div>"
      ],
      "text/plain": [
       "        Mon     Tue     Wed     Thu     Fri     Sat     Sun\n",
       "Mon       -  reject  reject  reject  reject  reject  reject\n",
       "Tue  reject       -  reject  reject  reject  reject  reject\n",
       "Wed  reject  reject       -  reject  reject  reject  reject\n",
       "Thu  reject  reject  reject       -  reject  reject  reject\n",
       "Fri  reject  reject  reject  reject       -  reject  reject\n",
       "Sat  reject  reject  reject  reject  reject       -  reject\n",
       "Sun  reject  reject  reject  reject  reject  reject       -"
      ]
     },
     "execution_count": 46,
     "metadata": {},
     "output_type": "execute_result"
    }
   ],
   "source": [
    "task2b = dfTaxi.loc[dfTaxi['Year']==2019]\n",
    "DOW=['Mon', 'Tue', 'Wed', 'Thu', 'Fri', 'Sat', 'Sun']\n",
    "DOW_Map = {'Mon':0, 'Tue':1, 'Wed':2, 'Thu':3, 'Fri':4, 'Sat':5, 'Sun':6}\n",
    "result = pd.DataFrame(columns=DOW, index=DOW)\n",
    "for i in DOW:\n",
    "    for j in DOW:\n",
    "        p = stats.ks_2samp(task2b.loc[task2b['DOW']==DOW_Map[i]]['speed'],task2b.loc[task2b['DOW']==DOW_Map[j]]['speed']).pvalue\n",
    "        if i != j:\n",
    "            result.loc[i][j] = 'keep' if p > 0.05 else 'reject'\n",
    "        else:\n",
    "            result.loc[i][j] = '-'\n",
    "result"
   ]
  },
  {
   "cell_type": "markdown",
   "metadata": {},
   "source": [
    "## Task 3. Trip speeds per borough. (3 pts)\n",
    "\n",
    "For the day of Oct, 1, 2019 compute the average trip speed in Brooklyn, Queens and Bronx (by pickup). Then compare the samples of the trip speeds in Brooklyn, Queens and Bronx on that day using t-test and ks-test (pairwise comparison). Fill two 3x3 pandas dataframes (one for t-test, one for ks-test) with p-values for each pair of boroughs. Can we reject the null hypothesis that speed mean/distributions within each pair of boroughs is similar?"
   ]
  },
  {
   "cell_type": "code",
   "execution_count": 48,
   "metadata": {
    "scrolled": true
   },
   "outputs": [
    {
     "data": {
      "text/html": [
       "<div>\n",
       "<style scoped>\n",
       "    .dataframe tbody tr th:only-of-type {\n",
       "        vertical-align: middle;\n",
       "    }\n",
       "\n",
       "    .dataframe tbody tr th {\n",
       "        vertical-align: top;\n",
       "    }\n",
       "\n",
       "    .dataframe thead th {\n",
       "        text-align: right;\n",
       "    }\n",
       "</style>\n",
       "<table border=\"1\" class=\"dataframe\">\n",
       "  <thead>\n",
       "    <tr style=\"text-align: right;\">\n",
       "      <th></th>\n",
       "      <th>shape_area</th>\n",
       "      <th>objectid</th>\n",
       "      <th>shape_leng</th>\n",
       "      <th>location_id</th>\n",
       "      <th>zone</th>\n",
       "      <th>borough</th>\n",
       "      <th>geometry</th>\n",
       "    </tr>\n",
       "  </thead>\n",
       "  <tbody>\n",
       "    <tr>\n",
       "      <th>0</th>\n",
       "      <td>0.0007823067885</td>\n",
       "      <td>1</td>\n",
       "      <td>0.116357453189</td>\n",
       "      <td>1</td>\n",
       "      <td>Newark Airport</td>\n",
       "      <td>EWR</td>\n",
       "      <td>MULTIPOLYGON (((-74.18445 40.69500, -74.18449 ...</td>\n",
       "    </tr>\n",
       "    <tr>\n",
       "      <th>1</th>\n",
       "      <td>0.00486634037837</td>\n",
       "      <td>2</td>\n",
       "      <td>0.43346966679</td>\n",
       "      <td>2</td>\n",
       "      <td>Jamaica Bay</td>\n",
       "      <td>Queens</td>\n",
       "      <td>MULTIPOLYGON (((-73.82338 40.63899, -73.82277 ...</td>\n",
       "    </tr>\n",
       "    <tr>\n",
       "      <th>2</th>\n",
       "      <td>0.000314414156821</td>\n",
       "      <td>3</td>\n",
       "      <td>0.0843411059012</td>\n",
       "      <td>3</td>\n",
       "      <td>Allerton/Pelham Gardens</td>\n",
       "      <td>Bronx</td>\n",
       "      <td>MULTIPOLYGON (((-73.84793 40.87134, -73.84725 ...</td>\n",
       "    </tr>\n",
       "    <tr>\n",
       "      <th>3</th>\n",
       "      <td>0.000111871946192</td>\n",
       "      <td>4</td>\n",
       "      <td>0.0435665270921</td>\n",
       "      <td>4</td>\n",
       "      <td>Alphabet City</td>\n",
       "      <td>Manhattan</td>\n",
       "      <td>MULTIPOLYGON (((-73.97177 40.72582, -73.97179 ...</td>\n",
       "    </tr>\n",
       "    <tr>\n",
       "      <th>4</th>\n",
       "      <td>0.000497957489363</td>\n",
       "      <td>5</td>\n",
       "      <td>0.0921464898574</td>\n",
       "      <td>5</td>\n",
       "      <td>Arden Heights</td>\n",
       "      <td>Staten Island</td>\n",
       "      <td>MULTIPOLYGON (((-74.17422 40.56257, -74.17349 ...</td>\n",
       "    </tr>\n",
       "  </tbody>\n",
       "</table>\n",
       "</div>"
      ],
      "text/plain": [
       "          shape_area objectid       shape_leng location_id  \\\n",
       "0    0.0007823067885        1   0.116357453189           1   \n",
       "1   0.00486634037837        2    0.43346966679           2   \n",
       "2  0.000314414156821        3  0.0843411059012           3   \n",
       "3  0.000111871946192        4  0.0435665270921           4   \n",
       "4  0.000497957489363        5  0.0921464898574           5   \n",
       "\n",
       "                      zone        borough  \\\n",
       "0           Newark Airport            EWR   \n",
       "1              Jamaica Bay         Queens   \n",
       "2  Allerton/Pelham Gardens          Bronx   \n",
       "3            Alphabet City      Manhattan   \n",
       "4            Arden Heights  Staten Island   \n",
       "\n",
       "                                            geometry  \n",
       "0  MULTIPOLYGON (((-74.18445 40.69500, -74.18449 ...  \n",
       "1  MULTIPOLYGON (((-73.82338 40.63899, -73.82277 ...  \n",
       "2  MULTIPOLYGON (((-73.84793 40.87134, -73.84725 ...  \n",
       "3  MULTIPOLYGON (((-73.97177 40.72582, -73.97179 ...  \n",
       "4  MULTIPOLYGON (((-74.17422 40.56257, -74.17349 ...  "
      ]
     },
     "execution_count": 48,
     "metadata": {},
     "output_type": "execute_result"
    }
   ],
   "source": [
    "taxizone = gpd.read_file('Data/taxizone.geojson')\n",
    "taxizone.head()"
   ]
  },
  {
   "cell_type": "code",
   "execution_count": 49,
   "metadata": {},
   "outputs": [
    {
     "data": {
      "text/html": [
       "<div>\n",
       "<style scoped>\n",
       "    .dataframe tbody tr th:only-of-type {\n",
       "        vertical-align: middle;\n",
       "    }\n",
       "\n",
       "    .dataframe tbody tr th {\n",
       "        vertical-align: top;\n",
       "    }\n",
       "\n",
       "    .dataframe thead th {\n",
       "        text-align: right;\n",
       "    }\n",
       "</style>\n",
       "<table border=\"1\" class=\"dataframe\">\n",
       "  <thead>\n",
       "    <tr style=\"text-align: right;\">\n",
       "      <th></th>\n",
       "      <th>PULocationID</th>\n",
       "      <th>speed</th>\n",
       "      <th>shape_area</th>\n",
       "      <th>objectid</th>\n",
       "      <th>shape_leng</th>\n",
       "      <th>location_id</th>\n",
       "      <th>zone</th>\n",
       "      <th>borough</th>\n",
       "      <th>geometry</th>\n",
       "    </tr>\n",
       "  </thead>\n",
       "  <tbody>\n",
       "    <tr>\n",
       "      <th>0</th>\n",
       "      <td>166</td>\n",
       "      <td>14.241758</td>\n",
       "      <td>0.000255276270405</td>\n",
       "      <td>166</td>\n",
       "      <td>0.0688237542871</td>\n",
       "      <td>166</td>\n",
       "      <td>Morningside Heights</td>\n",
       "      <td>Manhattan</td>\n",
       "      <td>MULTIPOLYGON (((-73.95708 40.81430, -73.95627 ...</td>\n",
       "    </tr>\n",
       "    <tr>\n",
       "      <th>1</th>\n",
       "      <td>166</td>\n",
       "      <td>7.701493</td>\n",
       "      <td>0.000255276270405</td>\n",
       "      <td>166</td>\n",
       "      <td>0.0688237542871</td>\n",
       "      <td>166</td>\n",
       "      <td>Morningside Heights</td>\n",
       "      <td>Manhattan</td>\n",
       "      <td>MULTIPOLYGON (((-73.95708 40.81430, -73.95627 ...</td>\n",
       "    </tr>\n",
       "    <tr>\n",
       "      <th>2</th>\n",
       "      <td>166</td>\n",
       "      <td>11.639723</td>\n",
       "      <td>0.000255276270405</td>\n",
       "      <td>166</td>\n",
       "      <td>0.0688237542871</td>\n",
       "      <td>166</td>\n",
       "      <td>Morningside Heights</td>\n",
       "      <td>Manhattan</td>\n",
       "      <td>MULTIPOLYGON (((-73.95708 40.81430, -73.95627 ...</td>\n",
       "    </tr>\n",
       "    <tr>\n",
       "      <th>3</th>\n",
       "      <td>166</td>\n",
       "      <td>22.621185</td>\n",
       "      <td>0.000255276270405</td>\n",
       "      <td>166</td>\n",
       "      <td>0.0688237542871</td>\n",
       "      <td>166</td>\n",
       "      <td>Morningside Heights</td>\n",
       "      <td>Manhattan</td>\n",
       "      <td>MULTIPOLYGON (((-73.95708 40.81430, -73.95627 ...</td>\n",
       "    </tr>\n",
       "    <tr>\n",
       "      <th>4</th>\n",
       "      <td>166</td>\n",
       "      <td>13.170732</td>\n",
       "      <td>0.000255276270405</td>\n",
       "      <td>166</td>\n",
       "      <td>0.0688237542871</td>\n",
       "      <td>166</td>\n",
       "      <td>Morningside Heights</td>\n",
       "      <td>Manhattan</td>\n",
       "      <td>MULTIPOLYGON (((-73.95708 40.81430, -73.95627 ...</td>\n",
       "    </tr>\n",
       "  </tbody>\n",
       "</table>\n",
       "</div>"
      ],
      "text/plain": [
       "   PULocationID      speed         shape_area objectid       shape_leng  \\\n",
       "0           166  14.241758  0.000255276270405      166  0.0688237542871   \n",
       "1           166   7.701493  0.000255276270405      166  0.0688237542871   \n",
       "2           166  11.639723  0.000255276270405      166  0.0688237542871   \n",
       "3           166  22.621185  0.000255276270405      166  0.0688237542871   \n",
       "4           166  13.170732  0.000255276270405      166  0.0688237542871   \n",
       "\n",
       "   location_id                 zone    borough  \\\n",
       "0          166  Morningside Heights  Manhattan   \n",
       "1          166  Morningside Heights  Manhattan   \n",
       "2          166  Morningside Heights  Manhattan   \n",
       "3          166  Morningside Heights  Manhattan   \n",
       "4          166  Morningside Heights  Manhattan   \n",
       "\n",
       "                                            geometry  \n",
       "0  MULTIPOLYGON (((-73.95708 40.81430, -73.95627 ...  \n",
       "1  MULTIPOLYGON (((-73.95708 40.81430, -73.95627 ...  \n",
       "2  MULTIPOLYGON (((-73.95708 40.81430, -73.95627 ...  \n",
       "3  MULTIPOLYGON (((-73.95708 40.81430, -73.95627 ...  \n",
       "4  MULTIPOLYGON (((-73.95708 40.81430, -73.95627 ...  "
      ]
     },
     "execution_count": 49,
     "metadata": {},
     "output_type": "execute_result"
    }
   ],
   "source": [
    "task3 = task1.astype({'PULocationID': int})\n",
    "taxizone = taxizone.astype({'location_id': int})\n",
    "task3 = task3[['PULocationID', 'speed']]\n",
    "task3 = task3.merge(taxizone, left_on='PULocationID', right_on='location_id')\n",
    "task3.head()"
   ]
  },
  {
   "cell_type": "markdown",
   "metadata": {
    "deletable": false,
    "nbgrader": {
     "cell_type": "code",
     "checksum": "2234caaa0db408cd6c8c4b60a19d34b9",
     "grade": true,
     "grade_id": "cell-a82be21f68e200e7",
     "locked": false,
     "points": 3,
     "schema_version": 3,
     "solution": true,
     "task": false
    }
   },
   "source": [
    "# Your code hear"
   ]
  },
  {
   "cell_type": "code",
   "execution_count": 50,
   "metadata": {},
   "outputs": [
    {
     "name": "stdout",
     "output_type": "stream",
     "text": [
      "t test:\n",
      "           Queens Brooklyn   Bronx\n",
      "Queens         -   reject  reject\n",
      "Brooklyn  reject        -  reject\n",
      "Bronx     reject   reject       -\n",
      "\n",
      "ks test:\n",
      "           Queens Brooklyn   Bronx\n",
      "Queens         -   reject  reject\n",
      "Brooklyn  reject        -  reject\n",
      "Bronx     reject   reject       -\n"
     ]
    }
   ],
   "source": [
    "Borough = ['Queens', 'Brooklyn', 'Bronx']\n",
    "t = pd.DataFrame(columns=Borough, index=Borough)\n",
    "ks = pd.DataFrame(columns=Borough, index=Borough)\n",
    "\n",
    "for i in Borough:\n",
    "    for j in Borough:\n",
    "        if i != j:\n",
    "            ks_p = stats.ks_2samp(task3.loc[task3['borough']==i]['speed'],task3.loc[task3['borough']==j]['speed']).pvalue\n",
    "            t_p = stats.ttest_ind(task3.loc[task3['borough']==i]['speed'],task3.loc[task3['borough']==j]['speed']).pvalue\n",
    "            ks[i][j] = 'keep' if ks_p > 0.05 else 'reject'\n",
    "            t[i][j] = 'keep' if t_p > 0.05 else 'reject'\n",
    "        else:\n",
    "            ks[i][j] = '-'\n",
    "            t[i][j] = '-'\n",
    "print('t test:\\n',t)\n",
    "print('\\nks test:\\n', ks)                        "
   ]
  },
  {
   "cell_type": "code",
   "execution_count": null,
   "metadata": {},
   "outputs": [],
   "source": []
  }
 ],
 "metadata": {
  "interpreter": {
   "hash": "ecf5722fdaf1897a315d257d89d94520bfcaa453217d5becf09b39e73618b0de"
  },
  "kernelspec": {
   "display_name": "Python [conda env:PUI]",
   "language": "python",
   "name": "python3"
  },
  "language_info": {
   "codemirror_mode": {
    "name": "ipython",
    "version": 3
   },
   "file_extension": ".py",
   "mimetype": "text/x-python",
   "name": "python",
   "nbconvert_exporter": "python",
   "pygments_lexer": "ipython3",
   "version": "3.9.5"
  }
 },
 "nbformat": 4,
 "nbformat_minor": 4
}
