{
 "cells": [
  {
   "cell_type": "code",
   "execution_count": 1,
   "metadata": {},
   "outputs": [],
   "source": [
    "import pandas as pd\n",
    "import matplotlib.pyplot as plt"
   ]
  },
  {
   "cell_type": "code",
   "execution_count": 2,
   "metadata": {},
   "outputs": [],
   "source": [
    "complaintData = pd.read_csv('ComplaintsMetrix.csv')\n",
    "shootData = pd.read_csv('ShootMetrix.csv')\n",
    "complaintData = complaintData.drop(columns=['Unnamed: 0'])\n",
    "shootData = shootData.drop(columns=['Unnamed: 0'])"
   ]
  },
  {
   "cell_type": "code",
   "execution_count": 3,
   "metadata": {},
   "outputs": [
    {
     "data": {
      "text/html": [
       "<div>\n",
       "<style scoped>\n",
       "    .dataframe tbody tr th:only-of-type {\n",
       "        vertical-align: middle;\n",
       "    }\n",
       "\n",
       "    .dataframe tbody tr th {\n",
       "        vertical-align: top;\n",
       "    }\n",
       "\n",
       "    .dataframe thead th {\n",
       "        text-align: right;\n",
       "    }\n",
       "</style>\n",
       "<table border=\"1\" class=\"dataframe\">\n",
       "  <thead>\n",
       "    <tr style=\"text-align: right;\">\n",
       "      <th></th>\n",
       "      <th>zipcode</th>\n",
       "      <th>Damaged Tree</th>\n",
       "      <th>Graffiti</th>\n",
       "      <th>Noise - Commercial</th>\n",
       "      <th>FATF</th>\n",
       "      <th>Overgrown Tree/Branches</th>\n",
       "      <th>Lost Property</th>\n",
       "      <th>Rodent</th>\n",
       "      <th>Illegal Parking</th>\n",
       "      <th>Broken Parking Meter</th>\n",
       "      <th>...</th>\n",
       "      <th>SRDE</th>\n",
       "      <th>Request Large Bulky Item Collection</th>\n",
       "      <th>Sweeping/Missed</th>\n",
       "      <th>DOF Property - Payment Issue</th>\n",
       "      <th>Litter Basket / Request</th>\n",
       "      <th>DPR Internal</th>\n",
       "      <th>Overflowing Litter Baskets</th>\n",
       "      <th>Outside Building</th>\n",
       "      <th>Electric</th>\n",
       "      <th>Quality of Life</th>\n",
       "    </tr>\n",
       "  </thead>\n",
       "  <tbody>\n",
       "  </tbody>\n",
       "</table>\n",
       "<p>0 rows × 181 columns</p>\n",
       "</div>"
      ],
      "text/plain": [
       "Empty DataFrame\n",
       "Columns: [zipcode, Damaged Tree, Graffiti, Noise - Commercial, FATF, Overgrown Tree/Branches, Lost Property, Rodent, Illegal Parking, Broken Parking Meter, Non-Emergency Police Matter, Blocked Driveway, Noise - Residential, Street Condition, Sidewalk Condition, Noise - Helicopter, Street Sign - Damaged, Unsanitary Animal Pvt Property, For Hire Vehicle Complaint, Street Sign - Dangling, DEP Street Condition, Noise - Vehicle, Indoor Air Quality, Root/Sewer/Sidewalk Condition, Violation of Park Rules, Maintenance or Facility, Animal in a Park, Standing Water, Homeless Person Assistance, Noise - Park, New Tree Request, Dead/Dying Tree, Abandoned Vehicle, Sewer, PLUMBING, Traffic, Radioactive Material, Noise - Street/Sidewalk, Beach/Pool/Sauna Complaint, Smoking, Vending, Unsanitary Condition, Unsanitary Pigeon Condition, Building/Use, School Maintenance, General Construction/Plumbing, Animal-Abuse, Homeless Encampment, Food Establishment, For Hire Vehicle Report, Curb Condition, Illegal Tree Damage, Street Sign - Missing, Consumer Complaint, Taxi Report, Taxi Complaint, Mobile Food Vendor, Food Poisoning, Drug Activity, Street Light Condition, Water System, Special Projects Inspection Team (SPIT), WATER LEAK, UNSANITARY CONDITION, Noise - House of Worship, Plumbing, Bike/Roller/Skate Chronic, Traffic Signal Condition, Bus Stop Shelter Complaint, Poison Ivy, Drinking, Illegal Fireworks, Tattooing, Indoor Sewage, Pet Shop, Highway Condition, Urinating in Public, ELEVATOR, Unleashed Dog, Taxi Compliment, Unsanitary Animal Facility, GENERAL, Noise, Mosquitoes, HEAT/HOT WATER, Drinking Water, Asbestos, Single Occupancy Bathroom, Mold, Panhandling, Green Taxi Complaint, Day Care, Fire Alarm - Replacement, Bus Stop Shelter Placement, DOOR/WINDOW, Illegal Animal Sold, Missed Collection, Harboring Bees/Wasps, Public Payphone Complaint, Illegal Animal Kept as Pet, ...]\n",
       "Index: []\n",
       "\n",
       "[0 rows x 181 columns]"
      ]
     },
     "execution_count": 3,
     "metadata": {},
     "output_type": "execute_result"
    }
   ],
   "source": [
    "complaintData.head(0)"
   ]
  },
  {
   "cell_type": "code",
   "execution_count": 4,
   "metadata": {},
   "outputs": [
    {
     "data": {
      "text/html": [
       "<div>\n",
       "<style scoped>\n",
       "    .dataframe tbody tr th:only-of-type {\n",
       "        vertical-align: middle;\n",
       "    }\n",
       "\n",
       "    .dataframe tbody tr th {\n",
       "        vertical-align: top;\n",
       "    }\n",
       "\n",
       "    .dataframe thead th {\n",
       "        text-align: right;\n",
       "    }\n",
       "</style>\n",
       "<table border=\"1\" class=\"dataframe\">\n",
       "  <thead>\n",
       "    <tr style=\"text-align: right;\">\n",
       "      <th></th>\n",
       "      <th>ZIPCODE</th>\n",
       "      <th>Shoot</th>\n",
       "    </tr>\n",
       "  </thead>\n",
       "  <tbody>\n",
       "  </tbody>\n",
       "</table>\n",
       "</div>"
      ],
      "text/plain": [
       "Empty DataFrame\n",
       "Columns: [ZIPCODE, Shoot]\n",
       "Index: []"
      ]
     },
     "execution_count": 4,
     "metadata": {},
     "output_type": "execute_result"
    }
   ],
   "source": [
    "shootData.head(0)"
   ]
  },
  {
   "cell_type": "code",
   "execution_count": 5,
   "metadata": {},
   "outputs": [
    {
     "data": {
      "text/html": [
       "<div>\n",
       "<style scoped>\n",
       "    .dataframe tbody tr th:only-of-type {\n",
       "        vertical-align: middle;\n",
       "    }\n",
       "\n",
       "    .dataframe tbody tr th {\n",
       "        vertical-align: top;\n",
       "    }\n",
       "\n",
       "    .dataframe thead th {\n",
       "        text-align: right;\n",
       "    }\n",
       "</style>\n",
       "<table border=\"1\" class=\"dataframe\">\n",
       "  <thead>\n",
       "    <tr style=\"text-align: right;\">\n",
       "      <th></th>\n",
       "      <th>zipcode</th>\n",
       "      <th>Damaged Tree</th>\n",
       "      <th>Graffiti</th>\n",
       "      <th>Noise - Commercial</th>\n",
       "      <th>FATF</th>\n",
       "      <th>Overgrown Tree/Branches</th>\n",
       "      <th>Lost Property</th>\n",
       "      <th>Rodent</th>\n",
       "      <th>Illegal Parking</th>\n",
       "      <th>Broken Parking Meter</th>\n",
       "      <th>...</th>\n",
       "      <th>Sweeping/Missed</th>\n",
       "      <th>DOF Property - Payment Issue</th>\n",
       "      <th>Litter Basket / Request</th>\n",
       "      <th>DPR Internal</th>\n",
       "      <th>Overflowing Litter Baskets</th>\n",
       "      <th>Outside Building</th>\n",
       "      <th>Electric</th>\n",
       "      <th>Quality of Life</th>\n",
       "      <th>ZIPCODE</th>\n",
       "      <th>Shoot</th>\n",
       "    </tr>\n",
       "  </thead>\n",
       "  <tbody>\n",
       "    <tr>\n",
       "      <th>0</th>\n",
       "      <td>11436</td>\n",
       "      <td>71</td>\n",
       "      <td>3</td>\n",
       "      <td>2</td>\n",
       "      <td>0</td>\n",
       "      <td>67</td>\n",
       "      <td>0</td>\n",
       "      <td>28</td>\n",
       "      <td>297</td>\n",
       "      <td>0</td>\n",
       "      <td>...</td>\n",
       "      <td>0</td>\n",
       "      <td>0</td>\n",
       "      <td>0</td>\n",
       "      <td>0</td>\n",
       "      <td>0</td>\n",
       "      <td>0</td>\n",
       "      <td>0</td>\n",
       "      <td>0</td>\n",
       "      <td>11436</td>\n",
       "      <td>76</td>\n",
       "    </tr>\n",
       "  </tbody>\n",
       "</table>\n",
       "<p>1 rows × 183 columns</p>\n",
       "</div>"
      ],
      "text/plain": [
       "   zipcode  Damaged Tree  Graffiti  Noise - Commercial  FATF  \\\n",
       "0    11436            71         3                   2     0   \n",
       "\n",
       "   Overgrown Tree/Branches  Lost Property  Rodent  Illegal Parking  \\\n",
       "0                       67              0      28              297   \n",
       "\n",
       "   Broken Parking Meter  ...  Sweeping/Missed  DOF Property - Payment Issue  \\\n",
       "0                     0  ...                0                             0   \n",
       "\n",
       "   Litter Basket / Request  DPR Internal  Overflowing Litter Baskets  \\\n",
       "0                        0             0                           0   \n",
       "\n",
       "   Outside Building  Electric  Quality of Life  ZIPCODE  Shoot  \n",
       "0                 0         0                0    11436     76  \n",
       "\n",
       "[1 rows x 183 columns]"
      ]
     },
     "execution_count": 5,
     "metadata": {},
     "output_type": "execute_result"
    }
   ],
   "source": [
    "df = complaintData.merge(shootData, left_on='zipcode', right_on='ZIPCODE')\n",
    "df.head(1)"
   ]
  },
  {
   "cell_type": "code",
   "execution_count": 6,
   "metadata": {},
   "outputs": [
    {
     "data": {
      "text/html": [
       "<div>\n",
       "<style scoped>\n",
       "    .dataframe tbody tr th:only-of-type {\n",
       "        vertical-align: middle;\n",
       "    }\n",
       "\n",
       "    .dataframe tbody tr th {\n",
       "        vertical-align: top;\n",
       "    }\n",
       "\n",
       "    .dataframe thead th {\n",
       "        text-align: right;\n",
       "    }\n",
       "</style>\n",
       "<table border=\"1\" class=\"dataframe\">\n",
       "  <thead>\n",
       "    <tr style=\"text-align: right;\">\n",
       "      <th></th>\n",
       "      <th>Shoot</th>\n",
       "    </tr>\n",
       "  </thead>\n",
       "  <tbody>\n",
       "    <tr>\n",
       "      <th>Unsanitary Condition</th>\n",
       "      <td>0.739288</td>\n",
       "    </tr>\n",
       "    <tr>\n",
       "      <th>Noise - Residential</th>\n",
       "      <td>0.711884</td>\n",
       "    </tr>\n",
       "    <tr>\n",
       "      <th>Indoor Sewage</th>\n",
       "      <td>0.668656</td>\n",
       "    </tr>\n",
       "    <tr>\n",
       "      <th>Day Care</th>\n",
       "      <td>0.618324</td>\n",
       "    </tr>\n",
       "    <tr>\n",
       "      <th>General</th>\n",
       "      <td>0.599098</td>\n",
       "    </tr>\n",
       "  </tbody>\n",
       "</table>\n",
       "</div>"
      ],
      "text/plain": [
       "                         Shoot\n",
       "Unsanitary Condition  0.739288\n",
       "Noise - Residential   0.711884\n",
       "Indoor Sewage         0.668656\n",
       "Day Care              0.618324\n",
       "General               0.599098"
      ]
     },
     "execution_count": 6,
     "metadata": {},
     "output_type": "execute_result"
    }
   ],
   "source": [
    "correlation = df.corr().drop(columns=['zipcode', 'ZIPCODE','Shoot']).iloc[-1]\n",
    "correlation = correlation.abs()\n",
    "correlation = correlation.to_frame()\n",
    "correlation = correlation.sort_values(by='Shoot', ascending=False)\n",
    "correlation.head()"
   ]
  },
  {
   "cell_type": "code",
   "execution_count": 7,
   "metadata": {},
   "outputs": [
    {
     "data": {
      "text/plain": [
       "<BarContainer object of 20 artists>"
      ]
     },
     "execution_count": 7,
     "metadata": {},
     "output_type": "execute_result"
    },
    {
     "data": {
      "image/png": "[encoded data removed]",
      "text/plain": [
       "<Figure size 1080x720 with 1 Axes>"
      ]
     },
     "metadata": {
      "needs_background": "light"
     },
     "output_type": "display_data"
    }
   ],
   "source": [
    "plt.figure(figsize=(15, 10))\n",
    "plt.xticks(rotation=90)\n",
    "plt.bar(correlation.index[:20], correlation.Shoot[:20])\n"
   ]
  },
  {
   "cell_type": "code",
   "execution_count": null,
   "metadata": {},
   "outputs": [],
   "source": []
  }
 ],
 "metadata": {
  "interpreter": {
   "hash": "ecf5722fdaf1897a315d257d89d94520bfcaa453217d5becf09b39e73618b0de"
  },
  "kernelspec": {
   "display_name": "Python 3.9.5 64-bit ('base': conda)",
   "language": "python",
   "name": "python3"
  },
  "language_info": {
   "codemirror_mode": {
    "name": "ipython",
    "version": 3
   },
   "file_extension": ".py",
   "mimetype": "text/x-python",
   "name": "python",
   "nbconvert_exporter": "python",
   "pygments_lexer": "ipython3",
   "version": "3.9.5"
  },
  "orig_nbformat": 4
 },
 "nbformat": 4,
 "nbformat_minor": 2
}
