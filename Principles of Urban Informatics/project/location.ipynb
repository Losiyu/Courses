{
 "cells": [
  {
   "cell_type": "code",
   "execution_count": null,
   "metadata": {},
   "outputs": [],
   "source": [
    "import pandas as pd\n",
    "import matplotlib.pyplot as plt\n",
    "import warnings \n",
    "warnings.filterwarnings('ignore')\n",
    "\n",
    "data = pd.read_csv('NYPD_Arrests_Data__Historic_.csv')\n",
    "data.head()"
   ]
  },
  {
   "cell_type": "code",
   "execution_count": null,
   "metadata": {},
   "outputs": [],
   "source": [
    "data['ARREST_DATE'] = pd.to_datetime(data['ARREST_DATE'])\n",
    "data =data[data['ARREST_DATE'].dt.year==2019]\n",
    "data.shape"
   ]
  },
  {
   "cell_type": "code",
   "execution_count": null,
   "metadata": {},
   "outputs": [],
   "source": [
    "_matrix = data.pivot_table(index='ARREST_BORO', columns='PERP_RACE', aggfunc='size', fill_value=0)\n",
    "_matrix['LATINO'] = _matrix['BLACK HISPANIC'] +_matrix['WHITE HISPANIC']\n",
    "_matrix = _matrix.drop(columns=['BLACK HISPANIC', 'WHITE HISPANIC'])\n",
    "_matrix = _matrix.drop(columns=['UNKNOWN'])\n",
    "_matrix = _matrix.rename(columns={'AMERICAN INDIAN/ALASKAN NATIVE':'AMERICAN INDIAN', 'ASIAN / PACIFIC ISLANDER':'ASIAN'})\n",
    "_matrix.head()"
   ]
  },
  {
   "cell_type": "code",
   "execution_count": null,
   "metadata": {},
   "outputs": [],
   "source": [
    "boroMatrix = _matrix.reset_index()\n",
    "boroMatrix = boroMatrix.drop(columns=['ARREST_BORO', 'AMERICAN INDIAN'])\n",
    "boroMatrix = boroMatrix[['WHITE','BLACK','ASIAN','LATINO']]\n",
    "boroMatrix.head()"
   ]
  },
  {
   "cell_type": "code",
   "execution_count": null,
   "metadata": {},
   "outputs": [],
   "source": [
    "raceMatrix = pd.read_csv('race.csv')\n",
    "raceMatrix = raceMatrix.drop(columns=['Boro'])\n",
    "raceMatrix"
   ]
  },
  {
   "cell_type": "code",
   "execution_count": null,
   "metadata": {},
   "outputs": [],
   "source": [
    "df = pd.DataFrame(index=['B', 'K', 'M', 'Q', 'S'], columns=['WHITE','BLACK','ASIAN','LATINO'])\n",
    "for i in range(0,5):\n",
    "  for j in range(0,4):\n",
    "    df.iloc[i,j] = boroMatrix.iloc[i,j] / raceMatrix.iloc[i,j] \n",
    "df"
   ]
  },
  {
   "cell_type": "code",
   "execution_count": null,
   "metadata": {},
   "outputs": [],
   "source": [
    "df = df.T\n",
    "for i in ['B', 'K', 'M', 'Q', 'S']:\n",
    "  plt.pie(df[i]*100,\n",
    "        labels=list(df[i].index), \n",
    "        autopct='%.2f%%',\n",
    "       )\n",
    "  plt.show()\n"
   ]
  },
  {
   "cell_type": "code",
   "execution_count": null,
   "metadata": {},
   "outputs": [],
   "source": []
  }
 ],
 "metadata": {
  "interpreter": {
   "hash": "ecf5722fdaf1897a315d257d89d94520bfcaa453217d5becf09b39e73618b0de"
  },
  "kernelspec": {
   "display_name": "Python 3.9.5 64-bit ('base': conda)",
   "language": "python",
   "name": "python3"
  },
  "language_info": {
   "codemirror_mode": {
    "name": "ipython",
    "version": 3
   },
   "file_extension": ".py",
   "mimetype": "text/x-python",
   "name": "python",
   "nbconvert_exporter": "python",
   "pygments_lexer": "ipython3",
   "version": "3.9.5"
  },
  "orig_nbformat": 4
 },
 "nbformat": 4,
 "nbformat_minor": 2
}
