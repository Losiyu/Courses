{
 "cells": [
  {
   "cell_type": "code",
   "execution_count": null,
   "metadata": {},
   "outputs": [],
   "source": [
    "import pandas as pd\n",
    "import matplotlib.pyplot as plt\n",
    "import seaborn as sns\n",
    "import warnings\n",
    "warnings.filterwarnings('ignore')\n",
    "\n",
    "data = pd.read_csv('NYPD_Arrests_Data__Historic_.csv')\n",
    "data.head()"
   ]
  },
  {
   "cell_type": "code",
   "execution_count": null,
   "metadata": {},
   "outputs": [],
   "source": [
    "data['ARREST_DATE'] = pd.to_datetime(data['ARREST_DATE'])\n",
    "data['day'] = data['ARREST_DATE'].dt.day\n",
    "data['month'] = data['ARREST_DATE'].dt.month\n",
    "data['year'] = data['ARREST_DATE'].dt.year\n",
    "data.head(1)"
   ]
  },
  {
   "cell_type": "code",
   "execution_count": null,
   "metadata": {},
   "outputs": [],
   "source": [
    "_matrix = data.pivot_table(index='year', columns='PERP_RACE', aggfunc='size', fill_value=0)\n",
    "_matrix['Latino'] = _matrix['BLACK HISPANIC'] +_matrix['WHITE HISPANIC']\n",
    "_matrix = _matrix.drop(columns=['BLACK HISPANIC', 'WHITE HISPANIC'])\n",
    "_matrix = _matrix.drop(columns=['OTHER', 'UNKNOWN'])\n",
    "_matrix = _matrix.rename(columns={'AMERICAN INDIAN/ALASKAN NATIVE':'AMERICAN INDIAN', 'ASIAN / PACIFIC ISLANDER':'ASIAN'})\n",
    "_matrix.head()"
   ]
  },
  {
   "cell_type": "code",
   "execution_count": null,
   "metadata": {},
   "outputs": [],
   "source": [
    "_matrix.plot.line()"
   ]
  },
  {
   "cell_type": "code",
   "execution_count": null,
   "metadata": {},
   "outputs": [],
   "source": [
    "correlation=_matrix.corr()\n",
    "plt.figure(figsize=(16, 6))\n",
    "heatmap = sns.clustermap(correlation, annot=True)"
   ]
  },
  {
   "cell_type": "code",
   "execution_count": null,
   "metadata": {},
   "outputs": [],
   "source": [
    "correlation=_matrix.corr()\n",
    "correlation_norm = (correlation-correlation.min())/(correlation.max()-correlation.min())\n",
    "correlation_norm = correlation_norm.rename(columns={'AMERICAN INDIAN/ALASKAN NATIVE':'AMERICAN INDIAN', 'ASIAN / PACIFIC ISLANDER':'ASIAN'})\n",
    "plt.figure(figsize=(16, 6))\n",
    "heatmap = sns.clustermap(correlation_norm, annot=True)"
   ]
  }
 ],
 "metadata": {
  "interpreter": {
   "hash": "ecf5722fdaf1897a315d257d89d94520bfcaa453217d5becf09b39e73618b0de"
  },
  "kernelspec": {
   "display_name": "Python 3.9.5 64-bit ('base': conda)",
   "language": "python",
   "name": "python3"
  },
  "language_info": {
   "codemirror_mode": {
    "name": "ipython",
    "version": 3
   },
   "file_extension": ".py",
   "mimetype": "text/x-python",
   "name": "python",
   "nbconvert_exporter": "python",
   "pygments_lexer": "ipython3",
   "version": "3.9.5"
  },
  "orig_nbformat": 4
 },
 "nbformat": 4,
 "nbformat_minor": 2
}
