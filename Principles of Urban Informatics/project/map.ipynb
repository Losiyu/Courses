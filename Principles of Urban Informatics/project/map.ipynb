{
 "cells": [
  {
   "cell_type": "code",
   "execution_count": null,
   "metadata": {},
   "outputs": [],
   "source": [
    "import pandas as pd\n",
    "import matplotlib.pyplot as plt\n",
    "import warnings\n",
    "import geopandas as gpd\n",
    "warnings.filterwarnings('ignore')\n",
    "\n",
    "data = pd.read_csv('NYPD_Arrests_Data__Historic_.csv')\n",
    "data.head()"
   ]
  },
  {
   "cell_type": "code",
   "execution_count": null,
   "metadata": {},
   "outputs": [],
   "source": [
    "zips = gpd.read_file('zipcode/ZIP_CODE_040114.shp')\n",
    "zips[\"COUNTY\"].replace({\n",
    "    \"Bronx\": \"BRONX\",\n",
    "    \"Queens\": \"QUEENS\",\n",
    "    \"New York\": \"MANHATTAN\",\n",
    "    \"Kings\": \"BROOKLYN\", \n",
    "    \"Richmond\": \"STATEN ISLAND\"\n",
    "}, inplace=True)\n",
    "zips.drop_duplicates(subset=['ZIPCODE'], inplace=True)\n",
    "zips.to_crs(epsg=4326, inplace=True)\n",
    "zips.head(0)"
   ]
  },
  {
   "cell_type": "code",
   "execution_count": null,
   "metadata": {},
   "outputs": [],
   "source": [
    "data['ARREST_DATE'] = pd.to_datetime(data['ARREST_DATE'])\n",
    "data = data[data['ARREST_DATE'].dt.year==2020]\n"
   ]
  },
  {
   "cell_type": "code",
   "execution_count": null,
   "metadata": {},
   "outputs": [],
   "source": [
    "data1 = data[(data['PERP_RACE']=='ASIAN / PACIFIC ISLANDER') ]\n",
    "gdata = gpd.GeoDataFrame(data1, geometry=gpd.points_from_xy(data1.Longitude, data1.Latitude))\n",
    "gdata.head(1)"
   ]
  },
  {
   "cell_type": "code",
   "execution_count": null,
   "metadata": {},
   "outputs": [],
   "source": [
    "t1 = gpd.sjoin(gdata,zips)\n",
    "t1.head(1)"
   ]
  },
  {
   "cell_type": "code",
   "execution_count": null,
   "metadata": {},
   "outputs": [],
   "source": [
    "data2 = data[(data['PERP_RACE']=='BLACK HISPANIC') | (data['PERP_RACE']=='WHITE HISPANIC')]\n",
    "gdata2 = gpd.GeoDataFrame(data2, geometry=gpd.points_from_xy(data2.Longitude, data2.Latitude))\n",
    "gdata2.head(1)"
   ]
  },
  {
   "cell_type": "code",
   "execution_count": null,
   "metadata": {},
   "outputs": [],
   "source": [
    "t2 = gpd.sjoin(gdata2,zips)\n",
    "t2.head(1)"
   ]
  },
  {
   "cell_type": "code",
   "execution_count": null,
   "metadata": {},
   "outputs": [],
   "source": [
    "fig,ax = plt.subplots(figsize=(16,16))\n",
    "t2.plot(c='r', ax=ax, markersize=0.05, label='Latino')\n",
    "t1.plot(c='b', ax=ax, markersize=0.05, label='Asian')\n",
    "plt.legend(loc='upper left', prop={'size': 20} )"
   ]
  },
  {
   "cell_type": "code",
   "execution_count": null,
   "metadata": {},
   "outputs": [],
   "source": []
  }
 ],
 "metadata": {
  "interpreter": {
   "hash": "ecf5722fdaf1897a315d257d89d94520bfcaa453217d5becf09b39e73618b0de"
  },
  "kernelspec": {
   "display_name": "Python 3.9.5 64-bit ('base': conda)",
   "language": "python",
   "name": "python3"
  },
  "language_info": {
   "codemirror_mode": {
    "name": "ipython",
    "version": 3
   },
   "file_extension": ".py",
   "mimetype": "text/x-python",
   "name": "python",
   "nbconvert_exporter": "python",
   "pygments_lexer": "ipython3",
   "version": "3.9.5"
  },
  "orig_nbformat": 4
 },
 "nbformat": 4,
 "nbformat_minor": 2
}
