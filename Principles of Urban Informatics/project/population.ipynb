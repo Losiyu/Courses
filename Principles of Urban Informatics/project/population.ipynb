{
 "cells": [
  {
   "cell_type": "code",
   "execution_count": null,
   "metadata": {},
   "outputs": [],
   "source": [
    "import matplotlib.pyplot as plt\n",
    "import pandas as pd\n",
    "import geopandas as gpd\n",
    "\n",
    "data = pd.read_csv('race.csv')\n",
    "data.head()"
   ]
  },
  {
   "cell_type": "code",
   "execution_count": null,
   "metadata": {},
   "outputs": [],
   "source": [
    "data = data.T\n",
    "data = data[1:]\n",
    "data['total'] = data.sum(1)\n",
    "data"
   ]
  },
  {
   "cell_type": "code",
   "execution_count": null,
   "metadata": {},
   "outputs": [],
   "source": [
    "plt.pie(data['total'],\n",
    "      labels=list(data.index),\n",
    "      autopct='%.2f%%',\n",
    "      )\n",
    "plt.title('NYC Popolation by Race')\n",
    "plt.show()"
   ]
  },
  {
   "cell_type": "code",
   "execution_count": null,
   "metadata": {},
   "outputs": [],
   "source": [
    "zips = gpd.read_file('zipcode/ZIP_CODE_040114.shp')\n",
    "zips[\"COUNTY\"].replace({\n",
    "    \"Bronx\": \"BRONX\",\n",
    "    \"Queens\": \"QUEENS\",\n",
    "    \"New York\": \"MANHATTAN\",\n",
    "    \"Kings\": \"BROOKLYN\", \n",
    "    \"Richmond\": \"STATEN ISLAND\"\n",
    "}, inplace=True)\n",
    "zips.drop_duplicates(subset=['ZIPCODE'], inplace=True)\n",
    "zips.to_crs(epsg=4326, inplace=True)\n",
    "zips.head(0)"
   ]
  },
  {
   "cell_type": "code",
   "execution_count": null,
   "metadata": {},
   "outputs": [],
   "source": [
    "data = zips[['COUNTY', 'POPULATION']].groupby('COUNTY').sum()\n",
    "plt.pie(data['POPULATION'],\n",
    "      labels=list(data['POPULATION'].index), \n",
    "      autopct='%.2f%%',\n",
    "      )\n",
    "plt.title('NYC Popolation by Borough')\n",
    "plt.show()"
   ]
  }
 ],
 "metadata": {
  "interpreter": {
   "hash": "ecf5722fdaf1897a315d257d89d94520bfcaa453217d5becf09b39e73618b0de"
  },
  "kernelspec": {
   "display_name": "Python 3.9.5 64-bit ('base': conda)",
   "language": "python",
   "name": "python3"
  },
  "language_info": {
   "codemirror_mode": {
    "name": "ipython",
    "version": 3
   },
   "file_extension": ".py",
   "mimetype": "text/x-python",
   "name": "python",
   "nbconvert_exporter": "python",
   "pygments_lexer": "ipython3",
   "version": "3.9.5"
  },
  "orig_nbformat": 4
 },
 "nbformat": 4,
 "nbformat_minor": 2
}
