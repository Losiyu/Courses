{
  "cells": [
    {
      "cell_type": "markdown",
      "metadata": {
        "id": "wlI2jBjavHGi"
      },
      "source": [
        "# CS-GY 6313/CUSP-GX 6006 Information Assignment 1\n",
        "\n",
        "Given: Two triangle positions in 3D, triangle colors, and camera parameters. \n",
        "\n",
        "Output: Saved and visualizable color images from the three given cameras (as .png, .jpg, etc.)\n",
        "\n",
        "##Inputs:\n",
        "\n",
        "3D Coordinates of the vertices two triangles (vertices1, vertices2, vertices3)\n",
        "\n",
        "```\n",
        "tri1_vertices = [(x0, y0, z0), (x1, y1, z1), (x2, y2, z2)]\n",
        "tri2_vertices = [(x0, y0, z0), (x1, y1, z1), (x2, y2, z2)] \n",
        "```\n",
        "Camera parameters (position, forward/facing direction, up/camera orientation, fov). Assume aspect ratio is 1:1 and FOV in degrees.\n",
        "```\n",
        "cam1 = [(x0, y0, z0), (x0_f, y0_f, z0_f), (x0_u, y0_u, z0_u), fov0]\n",
        "cam2 = [(x1, y1, z1), (x1_f, y1_f, z1_f), (x1_u, y1_u, z1_u), fov1]\n",
        "cam3 = [(x2, y2, z2), (x2_f, y2_f, z2_f), (x2_u, y2_u, z2_u), fov2]\n",
        "```\n",
        "\n"
      ]
    },
    {
      "cell_type": "markdown",
      "metadata": {
        "id": "emnvsFnK0HrV"
      },
      "source": [
        "Changelog: \n",
        "10/6: Fixed last row of translate_center_to_origin to be [0, 0, 0, 1] instead of [0, 0, 1, 0]\n",
        "9/29: Fixed a variable typo in scale_by_2_matrix to 2/(t-b), orginally 2/(l-b) "
      ]
    },
    {
      "cell_type": "markdown",
      "metadata": {
        "id": "feAxAcPB8EGY"
      },
      "source": [
        "# Programming exercises"
      ]
    },
    {
      "cell_type": "code",
      "execution_count": 10,
      "metadata": {
        "colab": {
          "base_uri": "https://localhost:8080/"
        },
        "id": "gKN9s6seT7go",
        "outputId": "c2614703-80f2-4bcd-a789-8a03c5070de5"
      },
      "outputs": [],
      "source": [
        "import matplotlib.pyplot as plt \n",
        "import numpy as np"
      ]
    },
    {
      "cell_type": "markdown",
      "metadata": {
        "id": "0is-PcpgqiTB"
      },
      "source": [
        "## Render triangles in camera using CPU-only rasterisation.\n",
        "\n",
        "\n",
        "Write a function to render an image using camera settings and triangle vertices as the input. Write your own code for rasterization to render a triangle pixel-by-pixel. You can use any method to show the triangles (ex. Matplotlib, OpenCV, plotly, etc.) as long as you first perform Model-View-Projection.\n",
        "\n",
        "\n",
        "\n",
        "\n"
      ]
    },
    {
      "cell_type": "markdown",
      "metadata": {
        "id": "yuYMC1k0_WIV"
      },
      "source": [
        "# Complete the functions for Model View Projection\n",
        "\n",
        "Model: objects to coordinates in world space\n",
        "\n",
        "View: from world space to camera space\n",
        "\n",
        "Projection: from camera space to clip/screen space"
      ]
    },
    {
      "cell_type": "code",
      "execution_count": 11,
      "metadata": {
        "id": "Ef9lWGNpUECT"
      },
      "outputs": [],
      "source": [
        "# Helper function\n",
        "def normalize(array):\n",
        "  return array / np.linalg.norm(array)\n",
        "\n",
        "def area(x1, y1, x2, y2, x3, y3):\n",
        "  return abs((x1 * (y2 - y3) + x2 * (y3 - y1)\n",
        "    + x3 * (y1 - y2)) / 2.0)\n",
        "  \n",
        "def isInside(tri, x, y):\n",
        "  A = area (tri[0][0], tri[0][1], tri[1][0], tri[1][1], tri[2][0], tri[2][1])\n",
        "  A1 = area (x, y, tri[1][0], tri[1][1], tri[2][0], tri[2][1])\n",
        "  A2 = area (tri[0][0], tri[0][1], x, y, tri[2][0], tri[2][1])\n",
        "  A3 = area (tri[0][0], tri[0][1], tri[1][0], tri[1][1], x, y)\n",
        "  if(round(A, 4) == round(A1 + A2 + A3, 4)):\n",
        "    return True\n",
        "  else:\n",
        "    return False\n",
        "\n",
        "# ax + by + cz = d\n",
        "def getPlane(tri):\n",
        "  v1 = tri[1]-tri[0]\n",
        "  v2 = tri[2]-tri[1]\n",
        "  cp = np.cross(v1, v2)\n",
        "  a, b, c = cp\n",
        "  d = np.dot(cp, tri[2])\n",
        "  return np.array([a,b,c,d])"
      ]
    },
    {
      "cell_type": "code",
      "execution_count": 12,
      "metadata": {
        "id": "F2P1oZUQCek6"
      },
      "outputs": [],
      "source": [
        "def view(camera, triangle1, triangle2):\n",
        "  # get R_view\n",
        "  D = np.subtract(camera[0],camera[1])\n",
        "  D = normalize(D)\n",
        "  U = normalize(camera[2])\n",
        "  R = np.cross(U,D)\n",
        "  R_view = [[R[0],  R[1], R[2], 0],\n",
        "            [U[0],  U[1], U[2], 0],\n",
        "            [-D[0],-D[1],-D[2], 0],\n",
        "            [0,     0,    0,    1]]\n",
        "  print('R_view', R_view)\n",
        "  # get T_view\n",
        "  T_view = np.block([[np.eye(3),-np.array([camera[0]]).T],\n",
        "                     [np.zeros((1,3)), 1]])\n",
        "  print('T_view', T_view)\n",
        "  # get M_view\n",
        "  M_view = np.matmul(R_view, T_view)\n",
        "  print('M_view', M_view)\n",
        "\n",
        "  # get triangle in camera space\n",
        "  tri1_in_camera_space = []\n",
        "  for p in triangle1:\n",
        "    p_t = np.append(p,1)\n",
        "    newP = np.matmul(M_view, p_t.T)\n",
        "    newP = newP[0:3]\n",
        "    tri1_in_camera_space.append(newP)\n",
        "  tri2_in_camera_space = []\n",
        "  for p in triangle2:\n",
        "    p_t = np.append(p,1)\n",
        "    newP = np.matmul(M_view, p_t.T)\n",
        "    newP = newP[0:3]\n",
        "    tri2_in_camera_space.append(newP)\n",
        "\n",
        "  return  np.array(tri1_in_camera_space), np.array(tri2_in_camera_space), M_view"
      ]
    },
    {
      "cell_type": "code",
      "execution_count": 13,
      "metadata": {
        "id": "-f-N-aOjOkKF"
      },
      "outputs": [],
      "source": [
        "def get_M_persp(field_of_view):\n",
        "  aspect_ratio = 1\n",
        "  n = 0.01\n",
        "  f = 1000\n",
        "  r = n*np.tan(field_of_view/2*np.pi/180)\n",
        "  l = -r\n",
        "  t = aspect_ratio*r\n",
        "  b = -t\n",
        "  \n",
        "  scale_by_2 = [[2/(r-l), 0, 0, 0], \n",
        "               [0, 2/(t-b), 0 , 0],\n",
        "               [0, 0, 2/(n-f), 0],\n",
        "               [0, 0, 0, 1]]\n",
        "\n",
        "  translate_center_to_origin = [[1, 0, 0, -(r+l)/2],\n",
        "                                [0, 1, 0, -(t+b)/2],\n",
        "                                [0, 0, 1, -(n+f)/2],\n",
        "                                [0, 0, 0, 1]]\n",
        "\n",
        "  M_ortho = np.matmul(scale_by_2, translate_center_to_origin)\n",
        "  \n",
        "  M_persp = np.matmul(M_ortho,\n",
        "             [[n, 0, 0, 0],\n",
        "             [0, n, 0, 0],\n",
        "             [0, 0, n+f, -n*f],\n",
        "             [0, 0, 1, 0]])\n",
        "\n",
        "  M_persp = np.array([[1/(aspect_ratio*np.tan(field_of_view/2*np.pi/180)), 0, 0 ,0],\n",
        "            [0, 1/np.tan(field_of_view/2*np.pi/180), 0 ,0],\n",
        "            [0, 0, (n+f)/(n-f), (-2*n*f)/(n-f)],\n",
        "            [0, 0, 1, 0]])\n",
        "  \n",
        "  return M_persp\n",
        "\n",
        "def perspective_projection(field_of_view, tri1, tri2):\n",
        "  M_persp = get_M_persp(field_of_view)\n",
        "  \n",
        "  tri_1_screen_coordinates=[]\n",
        "  for p in tri1:\n",
        "    p_t = np.append(p,1)\n",
        "    newP = np.matmul(M_persp, p_t.T)\n",
        "    newP = newP[0:3]/newP[3]\n",
        "    tri_1_screen_coordinates.append(newP)\n",
        "\n",
        "  tri_2_screen_coordinates=[]\n",
        "  for p in tri2:\n",
        "    p_t = np.append([p],1)\n",
        "    newP = np.matmul(M_persp, p_t.T)\n",
        "    newP = newP[0:3]/newP[3]\n",
        "    tri_2_screen_coordinates.append(newP)\n",
        "  \n",
        "  return np.array(tri_1_screen_coordinates), np.array(tri_2_screen_coordinates), M_persp"
      ]
    },
    {
      "cell_type": "code",
      "execution_count": 14,
      "metadata": {
        "id": "qL4_6FfBU9ch"
      },
      "outputs": [],
      "source": [
        "def mvp(camera, triangle1, triangle2):\n",
        "  tri1_in_camera_space, tri2_in_camera_space, M_view = view(camera, triangle1, triangle2)\n",
        "  print(\"M_view\\n:\", M_view)\n",
        "  print(\"Triangle1 in camera space:\\n\", tri1_in_camera_space)\n",
        "  print(\"Triangle1 in camera space:\\n\", tri2_in_camera_space)\n",
        "  tri1_in_screen_space, tri2_in_screen_space, M_persp = perspective_projection(camera[3], tri1_in_camera_space, tri2_in_camera_space)\n",
        "  print(\"M_persp\\n:\", M_persp)\n",
        "  print(\"Triangle1 in screen space:\\n\", tri1_in_screen_space)\n",
        "  print(\"Triangle2 in screen space:\\n\", tri2_in_screen_space)\n",
        "  return tri1_in_screen_space, tri2_in_screen_space"
      ]
    },
    {
      "cell_type": "code",
      "execution_count": 15,
      "metadata": {
        "id": "ccsB4smnKXsq"
      },
      "outputs": [],
      "source": [
        "def rasterize(tri1, tri2):\n",
        "  pixels = np.zeros(shape = (100, 100, 3)) # 100x100 matrix of RGB values\n",
        "  for row in range(100):\n",
        "    for col in range(100):\n",
        "      _row = round(row/50-1,2)\n",
        "      _col = round(col/50-1,2)\n",
        "      if isInside(tri1, _col, _row):\n",
        "        pixels[row][col] = [255, 0, 0]\n",
        "      elif isInside(tri2, _col, _row):\n",
        "        pixels[row][col] = [0, 255, 0]\n",
        "      else:\n",
        "        pixels[row][col] = [0, 0, 0]\n",
        "  return pixels"
      ]
    },
    {
      "cell_type": "code",
      "execution_count": 16,
      "metadata": {
        "id": "b-nt4KYJaMMi"
      },
      "outputs": [],
      "source": [
        "def full_rasterize(tri1, tri2):\n",
        "  tri1, tri2 = (tri1+1)*50, (tri2+1)*50\n",
        "  pixels = np.zeros(shape = (100, 100, 3)) # 100x100 matrix of RGB values \n",
        "  superSampling=[[-0.25, -0.25],[-0.25, 0.25],[0.25,-0.25],[0.25, 0.25]]\n",
        "  sampleLen = len(superSampling)\n",
        "  # intersectionCheck = [[-1,-1],[-1,0],[-1,1],[0,-1],[0,1],[1,-1],[1,0],[1,1]]\n",
        "  rplane=getPlane(tri1)\n",
        "  gplane=getPlane(tri2)\n",
        "  \n",
        "  for row in range(100):\n",
        "    for col in range(100):\n",
        "      rcount, gcount = 0, 0\n",
        "      # anti-aliasing \n",
        "      for s in superSampling:\n",
        "        if isInside(tri1, col+s[1], row+s[0]): # Reverse row and col\n",
        "          rcount += 1\n",
        "        if isInside(tri2, col+s[1], row+s[0]):\n",
        "          gcount += 1\n",
        "      pixels[row][col] = [255*rcount/sampleLen, 255*gcount/sampleLen, 0]\n",
        "      # occlusion\n",
        "      rz = (rplane[3] - rplane[0]*col - rplane[1]*row)/rplane[2]\n",
        "      gz = (gplane[3] - gplane[0]*col - gplane[1]*row)/gplane[2]\n",
        "      if rz > gz and rcount == sampleLen:\n",
        "        pixels[row][col] = [255, 0, 0]\n",
        "      if rz < gz and gcount == sampleLen:\n",
        "        pixels[row][col] = [0, 255, 0]\n",
        "  # # intersection anti-aliasing\n",
        "  # for row in range(1,99):\n",
        "  #   for col in range(1,99):\n",
        "  #     rcount, gcount = 0, 0\n",
        "  #     for p in intersectionCheck:\n",
        "  #       if (pixels[row+p[0]][col+p[1]]==[255,0,0]).all():\n",
        "  #         rcount+=1\n",
        "  #       if (pixels[row+p[0]][col+p[1]]==[0,255,0]).all():\n",
        "  #         gcount+=1\n",
        "  #     if gcount>2 and rcount>1:\n",
        "  #       pixels[row][col]=[255*rcount/sampleLen, 255*gcount/sampleLen, 0]\n",
        "  return pixels"
      ]
    },
    {
      "cell_type": "code",
      "execution_count": 17,
      "metadata": {
        "colab": {
          "base_uri": "https://localhost:8080/"
        },
        "id": "pcSoDVNiNyKo",
        "outputId": "309d3d88-cf34-4d9f-80ff-cd211af853a3"
      },
      "outputs": [
        {
          "name": "stdout",
          "output_type": "stream",
          "text": [
            "R_view [[0.0, 0.0, -1.0, 0], [0.0, 1.0, 0.0, 0], [-1.0, -0.0, -0.0, 0], [0, 0, 0, 1]]\n",
            "T_view [[  1.   0.   0. -50.]\n",
            " [  0.   1.   0. -10.]\n",
            " [  0.   0.   1.   0.]\n",
            " [  0.   0.   0.   1.]]\n",
            "M_view [[  0.   0.  -1.   0.]\n",
            " [  0.   1.   0. -10.]\n",
            " [ -1.   0.   0.  50.]\n",
            " [  0.   0.   0.   1.]]\n",
            "M_view\n",
            ": [[  0.   0.  -1.   0.]\n",
            " [  0.   1.   0. -10.]\n",
            " [ -1.   0.   0.  50.]\n",
            " [  0.   0.   0.   1.]]\n",
            "Triangle1 in camera space:\n",
            " [[  0. -10.  50.]\n",
            " [  0.  20.  50.]\n",
            " [-35. -10.  15.]]\n",
            "Triangle1 in camera space:\n",
            " [[  0. -10.  33.]\n",
            " [-17. -10.  50.]\n",
            " [-17.  35.  33.]]\n",
            "M_persp\n",
            ": [[ 1.         0.         0.         0.       ]\n",
            " [ 0.         1.         0.         0.       ]\n",
            " [ 0.         0.        -1.00002    0.0200002]\n",
            " [ 0.         0.         1.         0.       ]]\n",
            "Triangle1 in screen space:\n",
            " [[ 0.         -0.2        -0.99962   ]\n",
            " [ 0.          0.4        -0.99962   ]\n",
            " [-2.33333333 -0.66666667 -0.99868665]]\n",
            "Triangle2 in screen space:\n",
            " [[ 0.         -0.3030303  -0.99941393]\n",
            " [-0.34       -0.2        -0.99962   ]\n",
            " [-0.51515152  1.06060606 -0.99941393]]\n"
          ]
        }
      ],
      "source": [
        "# Triangle vertices in 3D world space\n",
        "tri1 = [(0, 0, 0), (0, 30, 0), (35, 0, 35)] # RGB(255, 0, 0), Red\n",
        "tri2 = [(17, 0, 0), (0, 0, 17), (17, 45, 17)] # RGB(0, 255, 0), Green\n",
        "\n",
        "# cam = [(x, y, z), (x_f, y_f, z_f), (x_u, y_u, z_u), fov]\n",
        "# The first coordinate is where the camera is in world space. The second is what\n",
        "# coordinate it is looking at/facing. The third represents the \"up\" axis.  \n",
        "# Ex. cam1, cam3 up = positive of y-axis. cam2 up = negative if y-axis (upside-down camera)\n",
        "cam1 = [(50, 10, 0), (0, 10, 0), (0, 1, 0), 90] \n",
        "cam2 = [(50, 10, 0), (0, 10, 0), (0, -1, 0), 105]\n",
        "cam3 = [(0, 10, 60), (0, 10, 0), (0, 1, 0), 120] \n",
        "\n",
        "perspective1_tri1, perspective1_tri2 = mvp(cam1, tri1, tri2)\n",
        "# perspective2_tri1, perspective2_tri2 = mvp(cam2, tri1, tri2)\n",
        "# perspective3_tri1, perspective3_tri2 = mvp(cam3, tri1, tri2)\n",
        "\n",
        "# # Draw triangles in 2D\n",
        "# perspective1 = full_rasterize(perspective1_tri1, perspective1_tri2) \n",
        "# perspective2 = full_rasterize(perspective2_tri1, perspective2_tri2)\n",
        "# perspective3 = full_rasterize(perspective3_tri1, perspective3_tri2)"
      ]
    },
    {
      "cell_type": "markdown",
      "metadata": {
        "id": "Gd83bOtWNvwP"
      },
      "source": [
        "\n",
        "Save the 100x100x3 RGB images you rendered with the given camera settings and triangle vertices. Images can be displayed using MatplotLib."
      ]
    },
    {
      "cell_type": "code",
      "execution_count": 18,
      "metadata": {
        "colab": {
          "base_uri": "https://localhost:8080/",
          "height": 779
        },
        "id": "DBzYg5RNhs8P",
        "outputId": "4bdd6450-6459-4568-eb9f-7bdf44c12757"
      },
      "outputs": [
        {
          "ename": "NameError",
          "evalue": "name 'perspective1' is not defined",
          "output_type": "error",
          "traceback": [
            "\u001b[1;31m---------------------------------------------------------------------------\u001b[0m",
            "\u001b[1;31mNameError\u001b[0m                                 Traceback (most recent call last)",
            "\u001b[1;32m~\\AppData\\Local\\Temp/ipykernel_19128/1430028875.py\u001b[0m in \u001b[0;36m<module>\u001b[1;34m\u001b[0m\n\u001b[0;32m      1\u001b[0m \u001b[1;31m# Save and view images\u001b[0m\u001b[1;33m\u001b[0m\u001b[1;33m\u001b[0m\u001b[0m\n\u001b[0;32m      2\u001b[0m \u001b[1;31m# origin = \"lower\" sets origin of plot to bottom left\u001b[0m\u001b[1;33m\u001b[0m\u001b[1;33m\u001b[0m\u001b[0m\n\u001b[1;32m----> 3\u001b[1;33m \u001b[0mplt\u001b[0m\u001b[1;33m.\u001b[0m\u001b[0mimshow\u001b[0m\u001b[1;33m(\u001b[0m\u001b[0mperspective1\u001b[0m\u001b[1;33m.\u001b[0m\u001b[0mastype\u001b[0m\u001b[1;33m(\u001b[0m\u001b[0mnp\u001b[0m\u001b[1;33m.\u001b[0m\u001b[0muint8\u001b[0m\u001b[1;33m)\u001b[0m\u001b[1;33m,\u001b[0m \u001b[0morigin\u001b[0m\u001b[1;33m=\u001b[0m\u001b[1;34m\"lower\"\u001b[0m\u001b[1;33m)\u001b[0m\u001b[1;33m\u001b[0m\u001b[1;33m\u001b[0m\u001b[0m\n\u001b[0m\u001b[0;32m      4\u001b[0m \u001b[0mplt\u001b[0m\u001b[1;33m.\u001b[0m\u001b[0mshow\u001b[0m\u001b[1;33m(\u001b[0m\u001b[1;33m)\u001b[0m\u001b[1;33m\u001b[0m\u001b[1;33m\u001b[0m\u001b[0m\n\u001b[0;32m      5\u001b[0m \u001b[1;33m\u001b[0m\u001b[0m\n",
            "\u001b[1;31mNameError\u001b[0m: name 'perspective1' is not defined"
          ]
        }
      ],
      "source": [
        "# Save and view images\n",
        "# origin = \"lower\" sets origin of plot to bottom left\n",
        "plt.imshow(perspective1.astype(np.uint8), origin=\"lower\") \n",
        "plt.show()\n",
        " \n",
        "plt.imshow(perspective2.astype(np.uint8), origin=\"lower\") \n",
        "plt.show()\n",
        "\n",
        "plt.imshow(perspective3.astype(np.uint8), origin=\"lower\") \n",
        "plt.show()"
      ]
    },
    {
      "cell_type": "markdown",
      "metadata": {
        "id": "-ZVUgX39zZZh"
      },
      "source": [
        "# Submission details\n",
        "\n",
        "Click \"File\" > \"Save a Copy in Drive\" and rename the file to your netID followed by \"_InfoVisHW1.\" Ex. \"bsl334_InfoVisHW1.ipynb\"\n",
        "\n",
        "You will be submitting your Colab notebook along with your three camera perspective images. \n",
        "\n"
      ]
    },
    {
      "cell_type": "markdown",
      "metadata": {
        "id": "zCZzYBuQ4NSC"
      },
      "source": [
        "Grading\n",
        "\n",
        "```\n",
        "Single triangle with MVP (50%)\n",
        "Single triangle with MVP and anti-aliasing (75%)\n",
        "Two triangles with MVP, anti-aliasing, and occlusion (100%) \n",
        "```"
      ]
    }
  ],
  "metadata": {
    "colab": {
      "collapsed_sections": [],
      "name": "Copy of InfoVis_HW1_v3.ipynb",
      "provenance": []
    },
    "interpreter": {
      "hash": "53e4a172d0613d057ee10fd4ec27487b1d128d858223e15a50b416fef97ccd7b"
    },
    "kernelspec": {
      "display_name": "Python 3.9.7 64-bit",
      "name": "python3"
    },
    "language_info": {
      "codemirror_mode": {
        "name": "ipython",
        "version": 3
      },
      "file_extension": ".py",
      "mimetype": "text/x-python",
      "name": "python",
      "nbconvert_exporter": "python",
      "pygments_lexer": "ipython3",
      "version": "3.9.7"
    }
  },
  "nbformat": 4,
  "nbformat_minor": 0
}
