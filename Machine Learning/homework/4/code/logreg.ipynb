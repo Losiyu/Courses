{
 "cells": [
  {
   "cell_type": "code",
   "execution_count": 6,
   "metadata": {},
   "outputs": [],
   "source": [
    "import numpy as np\n",
    "from scipy.optimize import minimize\n",
    "import matplotlib.pyplot as plt"
   ]
  },
  {
   "cell_type": "code",
   "execution_count": 39,
   "metadata": {},
   "outputs": [],
   "source": [
    "def f_objective(theta, X, y, l2_param=1):\n",
    "    '''\n",
    "    Args:\n",
    "        theta: 1D numpy array of size num_features\n",
    "        X: 2D numpy array of size (num_instances, num_features)\n",
    "        y: 1D numpy array of size num_instances\n",
    "        l2_param: regularization parameter\n",
    "\n",
    "    Returns:\n",
    "        objective: scalar value of objective function\n",
    "    '''\n",
    "    n = X.shape[0]\n",
    "    o = np.logaddexp(0,(-np.dot(X,theta.T) * y))\n",
    "    return (1/n) * np.sum(o) + l2_param * np.sum(theta**2)\n",
    "    \n",
    "def fit_logistic_reg(X, y, objective_function, l2_param=1):\n",
    "    '''\n",
    "    Args:\n",
    "        X: 2D numpy array of size (num_instances, num_features)\n",
    "        y: 1D numpy array of size num_instances\n",
    "        objective_function: function returning the value of the objective\n",
    "        l2_param: regularization parameter\n",
    "        \n",
    "    Returns:\n",
    "        optimal_theta: 1D numpy array of size num_features\n",
    "    '''\n",
    "    w_0 = np.zeros(X.shape[1])\n",
    "    return minimize(objective_function, w_0, (X, y, l2_param)).x"
   ]
  },
  {
   "cell_type": "code",
   "execution_count": 83,
   "metadata": {},
   "outputs": [
    {
     "data": {
      "text/plain": [
       "((1600, 20), (1600,), (400, 20), (400,))"
      ]
     },
     "execution_count": 83,
     "metadata": {},
     "output_type": "execute_result"
    }
   ],
   "source": [
    "X_train = np.loadtxt('X_train.txt', delimiter=',')\n",
    "X_val = np.loadtxt('X_val.txt', delimiter=',')\n",
    "y_train = np.loadtxt('y_train.txt', delimiter=',')\n",
    "y_val = np.loadtxt('y_val.txt', delimiter=',')\n",
    "X_train.shape, y_train.shape, X_val.shape, y_val.shape"
   ]
  },
  {
   "cell_type": "code",
   "execution_count": 84,
   "metadata": {},
   "outputs": [
    {
     "data": {
      "text/plain": [
       "((1600, 21), (1600,), (400, 21), (400,))"
      ]
     },
     "execution_count": 84,
     "metadata": {},
     "output_type": "execute_result"
    }
   ],
   "source": [
    "# y=0 to y=-1\n",
    "for i in range(len(y_train)):\n",
    "    if y_train[i] == 0:\n",
    "        y_train[i] = -1\n",
    "\n",
    "for i in range(len(y_val)):\n",
    "    if y_val[i] == 0:\n",
    "        y_val[i] = -1\n",
    "\n",
    "# normalize\n",
    "n = X_train.shape[0]\n",
    "X_mean = np.mean(X_train, axis=0)\n",
    "X_std = np.std(X_train, axis=0)\n",
    "\n",
    "X_train_norm = (X_train-X_mean)/X_std\n",
    "X_val_norm = (X_val-X_mean)/X_std\n",
    "\n",
    "train_bias_term = np.ones(X_train.shape[0]).reshape(X_train.shape[0], 1)\n",
    "val_bias_term = np.ones(X_val.shape[0]).reshape(X_val.shape[0], 1)\n",
    "X_train = np.hstack((train_bias_term, X_train_norm))\n",
    "X_val = np.hstack((val_bias_term, X_val_norm))\n",
    "\n",
    "X_train.shape, y_train.shape, X_val.shape, y_val.shape\n"
   ]
  },
  {
   "cell_type": "code",
   "execution_count": 85,
   "metadata": {},
   "outputs": [
    {
     "data": {
      "text/plain": [
       "[<matplotlib.lines.Line2D at 0x286fb8707f0>]"
      ]
     },
     "execution_count": 85,
     "metadata": {},
     "output_type": "execute_result"
    },
    {
     "data": {
      "image/png": "[encoded data removed]",
      "text/plain": [
       "<Figure size 432x288 with 1 Axes>"
      ]
     },
     "metadata": {
      "needs_background": "light"
     },
     "output_type": "display_data"
    }
   ],
   "source": [
    "# 7\n",
    "lambda_list = np.linspace(0.001, 0.1, 10)\n",
    "result_list = []\n",
    "for l in lambda_list:\n",
    "    theta = fit_logistic_reg(X_train, y_train, f_objective, l2_param=l)\n",
    "    nll = (f_objective(theta, X_val, y_val, l) - l * theta.T @ theta) * len(y_val)\n",
    "    result_list.append(nll)\n",
    "plt.plot(np.log(lambda_list), result_list, 'o-')\n"
   ]
  },
  {
   "cell_type": "code",
   "execution_count": 119,
   "metadata": {},
   "outputs": [
    {
     "data": {
      "text/plain": [
       "array([0.05, 0.15, 0.25, 0.35, 0.45, 0.55, 0.65, 0.75, 0.85, 0.95, 1.05])"
      ]
     },
     "execution_count": 119,
     "metadata": {},
     "output_type": "execute_result"
    }
   ],
   "source": [
    "np.arange(0.05, 1.1, 0.1)"
   ]
  },
  {
   "cell_type": "code",
   "execution_count": 118,
   "metadata": {},
   "outputs": [
    {
     "data": {
      "text/plain": [
       "array([0.1, 0.2, 0.3, 0.4, 0.5, 0.6, 0.7, 0.8, 0.9, 1. ])"
      ]
     },
     "execution_count": 118,
     "metadata": {},
     "output_type": "execute_result"
    }
   ],
   "source": [
    "np.arange(0.1, 1.1, 0.1)"
   ]
  },
  {
   "cell_type": "code",
   "execution_count": 116,
   "metadata": {},
   "outputs": [
    {
     "data": {
      "image/png": "[encoded data removed]",
      "text/plain": [
       "<Figure size 432x288 with 1 Axes>"
      ]
     },
     "metadata": {
      "needs_background": "light"
     },
     "output_type": "display_data"
    }
   ],
   "source": [
    "# 8\n",
    "w = fit_logistic_reg(X_train, y_train, f_objective, l2_param=0.023)\n",
    "val_prob = 1 / (1 + np.exp(-1 * X_val @ w))\n",
    "bins = np.arange(0.05, 1.1, 0.1)\n",
    "indices = np.digitize(val_prob, bins)\n",
    "pred_prob = np.zeros(10)\n",
    "count = np.zeros(10)\n",
    "for i in range(len(indices)):\n",
    "    pred_prob[indices[i] - 1] += val_prob[i]\n",
    "    count[indices[i] - 1] += 1\n",
    "mean_prob = np.zeros(10)\n",
    "for i in range(10):\n",
    "    mean_prob[i] = pred_prob[i] / count[i]\n",
    "expect_prob = np.arange(0.1, 1.1, 0.1)\n",
    "plt.plot(expect_prob, expect_prob, marker='o', label='expect')\n",
    "plt.plot(expect_prob, mean_prob, marker='o', label='mean')\n",
    "plt.legend()\n",
    "plt.show()\n"
   ]
  },
  {
   "cell_type": "code",
   "execution_count": null,
   "metadata": {},
   "outputs": [],
   "source": []
  }
 ],
 "metadata": {
  "interpreter": {
   "hash": "ecf5722fdaf1897a315d257d89d94520bfcaa453217d5becf09b39e73618b0de"
  },
  "kernelspec": {
   "display_name": "Python 3.9.5 ('base')",
   "language": "python",
   "name": "python3"
  },
  "language_info": {
   "codemirror_mode": {
    "name": "ipython",
    "version": 3
   },
   "file_extension": ".py",
   "mimetype": "text/x-python",
   "name": "python",
   "nbconvert_exporter": "python",
   "pygments_lexer": "ipython3",
   "version": "3.9.5"
  },
  "orig_nbformat": 4
 },
 "nbformat": 4,
 "nbformat_minor": 2
}
